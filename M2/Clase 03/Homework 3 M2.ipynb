{
 "cells": [
  {
   "cell_type": "markdown",
   "metadata": {},
   "source": [
    "# Práctica Clase 2"
   ]
  },
  {
   "cell_type": "markdown",
   "metadata": {},
   "source": [
    "1. Suponga dos eventos, A y B, y que P(A) = 0.50, P(B) = 0.60 y P(A ∩ B) = 0.40.<br>\n",
    "- a. Halle P(A | B).\n",
    "- b. Halle P(B | A).\n",
    "- c. ¿A y B son independientes? ¿Por qué sí o por qué no? <br>\n",
    "&emsp;&emsp; A y B no son independientes porque P(A | B) es diferente de P(A) y P(B | A) es diferente de P(A)"
   ]
  },
  {
   "cell_type": "code",
   "execution_count": 31,
   "metadata": {},
   "outputs": [
    {
     "name": "stdout",
     "output_type": "stream",
     "text": [
      "a. La probabilidad de A dado B es: 0.6666666666666667\n",
      "b. La probabilidad de B dado A es: 0.8\n",
      "c. A y B no son independientes\n"
     ]
    }
   ],
   "source": [
    "a_i_b = 0.40\n",
    "p_a=0.5\n",
    "p_b=0.6\n",
    "\n",
    "a_dado_b = a_i_b / p_b\n",
    "b_dado_a = a_i_b / p_a\n",
    "print('a. La probabilidad de A dado B es:',a_dado_b)\n",
    "print('b. La probabilidad de B dado A es:',b_dado_a)\n",
    "\n",
    "if a_dado_b != p_a and b_dado_a != p_b:\n",
    "    print('c. A y B no son independientes')"
   ]
  },
  {
   "cell_type": "markdown",
   "metadata": {},
   "source": [
    "2. Suponga dos eventos, A y B, que son mutuamente excluyentes. Admita, además, que P(A) = 0.30 y P(B) = 0.40.<br>\n",
    "- a. Obtenga P(A ∩ B). ¿Existe intersección entre los dos conjuntos?.<br>\n",
    "&emsp;&emsp; P(A ∩ B) = 0. Los eventos son mutuamente excluyentes, por lo tanto la interseccion no existe.<br><br>\n",
    "- b. Calcule P(A | B). <br>\n",
    "&emsp;&emsp; P(A | B) = 0. Los eventos son mutuamente excluyentes, por lo tanto si ya sucedio uno, el otro no sucedera. <br><br>\n",
    "- c. Un estudiante de estadística argumenta que los conceptos de eventos mutuamente excluyentes y eventos independientes son en realidad lo mismo y que si los eventos son mutuamente excluyentes deben ser también independientes. ¿Está usted de acuerdo? Use la información sobre las probabilidades para justificar su respuesta. <br>\n",
    "&emsp;&emsp; Es Falso. Para eventos mutuamente excluyentes P(A ∩ B) = 0, mientras para eventos independientes P(A ∩ B) = P(A)*P(B)"
   ]
  },
  {
   "cell_type": "code",
   "execution_count": 17,
   "metadata": {},
   "outputs": [
    {
     "name": "stdout",
     "output_type": "stream",
     "text": [
      "a. La probabilidad de A y B es: 0\n",
      "b. La probabilidad de A dado B es: 0.0\n"
     ]
    }
   ],
   "source": [
    "p_a=0.3\n",
    "p_b=0.4\n",
    "a_i_b=0\n",
    "\n",
    "print('a. La probabilidad de A y B es:',a_i_b)\n",
    "a_dado_b = a_i_b / p_a\n",
    "print('b. La probabilidad de A dado B es:',a_dado_b)\n"
   ]
  },
  {
   "cell_type": "markdown",
   "metadata": {},
   "source": [
    "Dada la siguiente tabla:<br><br>\n",
    "&emsp;&emsp;&emsp;&emsp;&emsp;&emsp;![Sucesos](../_src/assets/sucesos.PNG)<br>\n",
    "\n",
    "3. Si en la concesionaria se seleccionan dos ventas con reposición (Los sucesos son independientes.). Hallar la probabilidad de que las ventas sean:<br>\n",
    "\n",
    "  \n",
    "  - a. La primera de un comprador de “menos de 40 años” y la segunda de uno de \"entre 40 y 50 años\". \n",
    "  \n",
    "  - b. las dos sean de autos \"nacionales\"."
   ]
  },
  {
   "cell_type": "code",
   "execution_count": 32,
   "metadata": {},
   "outputs": [
    {
     "name": "stdout",
     "output_type": "stream",
     "text": [
      "a. La probabilidad de primera venta sea a un comprador de \"Menos de 40\" y segunda a un \"Entre 40 y 50 años\" es: 0.159375\n",
      "b. La probabilidad de que ambas ventas sean de autos \" Nacionales \" es: 0.390625\n"
     ]
    }
   ],
   "source": [
    "#me_40: Comprador de menos de 40 años\n",
    "#40_50: Comprador de entre 40 y 50 años\n",
    "\n",
    "comp_me_40 = 30\n",
    "comp_40_50 = 34\n",
    "tot_comp = 80\n",
    "\n",
    "p_me_40 = comp_me_40 / tot_comp\n",
    "p_40_50 = comp_40_50 / tot_comp\n",
    "\n",
    "#Probabilidad de me_40 y 40_50\n",
    "p_i=p_me_40*p_40_50\n",
    "print('a. La probabilidad de primera venta sea a un comprador de \\\"Menos de 40\\\" y segunda a un \\\"Entre 40 y 50 años\\\" es:', p_i)\n",
    "\n",
    "#Probabilidad ambas nacionales\n",
    "com_na = 50\n",
    "p_na = com_na / tot_comp\n",
    "n_ventas = 2\n",
    "\n",
    "p_2_na = p_na ** n_ventas\n",
    "print('b. La probabilidad de que ambas ventas sean de autos \\\" Nacionales \\\" es:',p_2_na)\n"
   ]
  },
  {
   "cell_type": "markdown",
   "metadata": {},
   "source": [
    "4. Si la selección de las dos ventas se realiza sin reposición. Hallar la probabilidad de que las ventas sean:<br>\n",
    "  Los sucesos son condicionales.\n",
    "\n",
    " - a. la primera de un comprador de “menos de 40 años” y la segunda de uno de \"entre 40 y 50 años\".\n",
    "\n",
    " - b. las dos sean de autos \"nacionales\"."
   ]
  },
  {
   "cell_type": "code",
   "execution_count": 34,
   "metadata": {},
   "outputs": [
    {
     "name": "stdout",
     "output_type": "stream",
     "text": [
      "a. La probabilidad de primera venta sea a un comprador de \"Menos de 40\" y segunda a un \"Entre 40 y 50 años\" es: 0.16139240506329114\n",
      "b. La probabilidad de que ambas ventas sean de autos \" Nacionales \" es: 0.39556962025316456 3\n"
     ]
    }
   ],
   "source": [
    "p_40_50_dado_me_40 = comp_40_50 / (tot_comp - 1)\n",
    "\n",
    "p_i_me_40_prim = p_me_40 * p_40_50_dado_me_40\n",
    "print('a. La probabilidad de primera venta sea a un comprador de \\\"Menos de 40\\\" y segunda a un \\\"Entre 40 y 50 años\\\" es:', p_i_me_40_prim)\n",
    "\n",
    "p_na_dado_na = com_na / (tot_comp - 1)\n",
    "p_2_na = p_na * p_na_dado_na\n",
    "print('b. La probabilidad de que ambas ventas sean de autos \\\" Nacionales \\\" es:', p_2_na,3)"
   ]
  },
  {
   "cell_type": "markdown",
   "metadata": {},
   "source": [
    "5. Si la selección de las dos ventas se realiza sin reposición. Hallar la probabilidad de que las ventas sean:<br>\n",
    "  Los sucesos son condicionales.\n",
    "  \n",
    " - a. De un comprador de “menos de 40 años” y de uno de \"entre 40 y 50 años\". Sin importar el orden."
   ]
  },
  {
   "cell_type": "code",
   "execution_count": 37,
   "metadata": {},
   "outputs": [
    {
     "name": "stdout",
     "output_type": "stream",
     "text": [
      "a. La probabilidad de que un comprador sea \"Menos de 40\" y el otro \"Entre 40 y 50 años\" es: 0.3227848101265823 2\n"
     ]
    }
   ],
   "source": [
    "p_me_40_dado_40_50 = comp_me_40 / (tot_comp - 1)\n",
    "\n",
    "p_i_40_50_prim = p_40_50 * p_me_40_dado_40_50\n",
    "\n",
    "p_i = p_i_me_40_prim + p_i_40_50_prim\n",
    "print('a. La probabilidad de que un comprador sea \\\"Menos de 40\\\" y el otro \\\"Entre 40 y 50 años\\\" es:', p_i,2)"
   ]
  },
  {
   "cell_type": "markdown",
   "metadata": {},
   "source": [
    "6. Debido al aumento de los costos de los seguros, en un país 43 millones de personas, hay personas que no cuentan con un seguro médico. En la tabla siguiente se muestran datos muestrales representativos de la cantidad de personas que cuentan con seguro médico:<br>\n",
    "&emsp;&emsp;&emsp;&emsp;&emsp;&emsp;&emsp;&emsp;&emsp;&emsp;&emsp;&emsp;![Seguro](../_src/assets/seguro.PNG)\n",
    "\n",
    "- a. Con estos datos elabore una tabla de probabilidad conjunta y úsela para responder las preguntas restantes."
   ]
  },
  {
   "cell_type": "code",
   "execution_count": 39,
   "metadata": {},
   "outputs": [],
   "source": [
    "import pandas as pd"
   ]
  },
  {
   "cell_type": "code",
   "execution_count": 47,
   "metadata": {},
   "outputs": [
    {
     "data": {
      "text/html": [
       "<div>\n",
       "<style scoped>\n",
       "    .dataframe tbody tr th:only-of-type {\n",
       "        vertical-align: middle;\n",
       "    }\n",
       "\n",
       "    .dataframe tbody tr th {\n",
       "        vertical-align: top;\n",
       "    }\n",
       "\n",
       "    .dataframe thead th {\n",
       "        text-align: right;\n",
       "    }\n",
       "</style>\n",
       "<table border=\"1\" class=\"dataframe\">\n",
       "  <thead>\n",
       "    <tr style=\"text-align: right;\">\n",
       "      <th></th>\n",
       "      <th>Si</th>\n",
       "      <th>No</th>\n",
       "      <th>Total</th>\n",
       "    </tr>\n",
       "  </thead>\n",
       "  <tbody>\n",
       "    <tr>\n",
       "      <th>18 a 34</th>\n",
       "      <td>750</td>\n",
       "      <td>170</td>\n",
       "      <td>920</td>\n",
       "    </tr>\n",
       "    <tr>\n",
       "      <th>35 o mayor</th>\n",
       "      <td>950</td>\n",
       "      <td>130</td>\n",
       "      <td>1080</td>\n",
       "    </tr>\n",
       "    <tr>\n",
       "      <th>Total</th>\n",
       "      <td>1700</td>\n",
       "      <td>300</td>\n",
       "      <td>2000</td>\n",
       "    </tr>\n",
       "  </tbody>\n",
       "</table>\n",
       "</div>"
      ],
      "text/plain": [
       "              Si   No  Total\n",
       "18 a 34      750  170    920\n",
       "35 o mayor   950  130   1080\n",
       "Total       1700  300   2000"
      ]
     },
     "execution_count": 47,
     "metadata": {},
     "output_type": "execute_result"
    }
   ],
   "source": [
    "df=pd.DataFrame([[750,170],[950,130]],index=['18 a 34','35 o mayor'],columns=['Si','No'])\n",
    "df.loc[2]=[df['Si'].sum(),df['No'].sum()]\n",
    "df.rename(index={2:'Total'},inplace=True)\n",
    "df['Total']=df['Si']+df['No']\n",
    "df"
   ]
  },
  {
   "cell_type": "code",
   "execution_count": 60,
   "metadata": {},
   "outputs": [
    {
     "data": {
      "text/html": [
       "<div>\n",
       "<style scoped>\n",
       "    .dataframe tbody tr th:only-of-type {\n",
       "        vertical-align: middle;\n",
       "    }\n",
       "\n",
       "    .dataframe tbody tr th {\n",
       "        vertical-align: top;\n",
       "    }\n",
       "\n",
       "    .dataframe thead th {\n",
       "        text-align: right;\n",
       "    }\n",
       "</style>\n",
       "<table border=\"1\" class=\"dataframe\">\n",
       "  <thead>\n",
       "    <tr style=\"text-align: right;\">\n",
       "      <th></th>\n",
       "      <th>Si</th>\n",
       "      <th>No</th>\n",
       "      <th>Total</th>\n",
       "    </tr>\n",
       "  </thead>\n",
       "  <tbody>\n",
       "    <tr>\n",
       "      <th>18 a 34</th>\n",
       "      <td>0.375</td>\n",
       "      <td>0.085</td>\n",
       "      <td>0.46</td>\n",
       "    </tr>\n",
       "    <tr>\n",
       "      <th>35 o mayor</th>\n",
       "      <td>0.475</td>\n",
       "      <td>0.065</td>\n",
       "      <td>0.54</td>\n",
       "    </tr>\n",
       "    <tr>\n",
       "      <th>Total</th>\n",
       "      <td>0.850</td>\n",
       "      <td>0.150</td>\n",
       "      <td>1.00</td>\n",
       "    </tr>\n",
       "  </tbody>\n",
       "</table>\n",
       "</div>"
      ],
      "text/plain": [
       "               Si     No  Total\n",
       "18 a 34     0.375  0.085   0.46\n",
       "35 o mayor  0.475  0.065   0.54\n",
       "Total       0.850  0.150   1.00"
      ]
     },
     "execution_count": 60,
     "metadata": {},
     "output_type": "execute_result"
    }
   ],
   "source": [
    "df_prob=df.copy()\n",
    "df_prob['Si']=df_prob['Si']/df_prob.iloc[2,2]\n",
    "df_prob['No']=df_prob['No']/df_prob.iloc[2,2]\n",
    "df_prob['Total']=df_prob['Si']+df_prob['No']\n",
    "df_prob"
   ]
  },
  {
   "cell_type": "markdown",
   "metadata": {},
   "source": [
    "- b. ¿Qué indican las probabilidades marginales acerca de la edad de la población? <br>\n",
    "&emsp;&emsp; El 46% de la poblacion tiene entre 18 y 34 años y el 54% tiene mas de 35 años <br><br>\n",
    "- c. ¿Cuál es la probabilidad de que una persona tomada en forma aleatoria no tenga seguro médico? <br>\n",
    "&emsp;&emsp; La probabilidad de que una persona no tenga seguro es de 15% <br><br>\n",
    "- d. Si la persona tiene entre 18 y 34 años, ¿cuál es la probabilidad de que no tenga seguro médico? <br>\n",
    "- e. Si la persona tiene 35 años o más ¿cuál es la probabilidad de que no tenga seguro médico? <br>\n",
    "- f. Si la persona no tiene seguro médico, ¿cuál es la probabilidad de que tenga entre 18 y 34 años?"
   ]
  },
  {
   "cell_type": "code",
   "execution_count": 61,
   "metadata": {},
   "outputs": [
    {
     "name": "stdout",
     "output_type": "stream",
     "text": [
      "d. La probabilidad de que no tenga seguro dado que tiene entre 18 y 34 años es: 0.1847826086956522\n",
      "e. La probabilidad de que no tenga seguro dado que tiene 35 años o mas es: 0.12037037037037036\n",
      "f. La probabilidad de que tenga entre 18 y 34 años dado que no tiene seguro es: 0.5666666666666668\n"
     ]
    }
   ],
   "source": [
    "p_18_34 = 0.46\n",
    "p_35_m = 0.54\n",
    "p_si = 0.85\n",
    "p_no = 0.15\n",
    "\n",
    "i_18_34_si = 0.375\n",
    "i_18_34_no = 0.085\n",
    "i_35_m_si = 0.475\n",
    "i_35_m_no = 0.065\n",
    "\n",
    "\n",
    "no_dado_18_34 = i_18_34_no / p_18_34\n",
    "print('d. La probabilidad de que no tenga seguro dado que tiene entre 18 y 34 años es:',no_dado_18_34)\n",
    "\n",
    "no_dado_35_m = i_35_m_no / p_35_m\n",
    "print('e. La probabilidad de que no tenga seguro dado que tiene 35 años o mas es:',no_dado_35_m)\n",
    "\n",
    "p_18_34_dado_no = i_18_34_no / p_no\n",
    "print('f. La probabilidad de que tenga entre 18 y 34 años dado que no tiene seguro es:',p_18_34_dado_no)\n",
    "\n"
   ]
  }
 ],
 "metadata": {
  "kernelspec": {
   "display_name": "Python 3",
   "language": "python",
   "name": "python3"
  },
  "language_info": {
   "codemirror_mode": {
    "name": "ipython",
    "version": 3
   },
   "file_extension": ".py",
   "mimetype": "text/x-python",
   "name": "python",
   "nbconvert_exporter": "python",
   "pygments_lexer": "ipython3",
   "version": "3.12.4"
  }
 },
 "nbformat": 4,
 "nbformat_minor": 2
}
