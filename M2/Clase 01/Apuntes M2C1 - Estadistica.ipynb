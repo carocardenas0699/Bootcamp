{
 "cells": [
  {
   "cell_type": "code",
   "execution_count": 6,
   "metadata": {},
   "outputs": [],
   "source": [
    "#Librerias\n",
    "\n",
    "import numpy as np\n",
    "from scipy import stats\n",
    "import pandas as pd\n",
    "import matplotlib.pyplot as plt\n",
    "import seaborn as sns"
   ]
  },
  {
   "cell_type": "markdown",
   "metadata": {},
   "source": [
    "### Histogramas"
   ]
  },
  {
   "cell_type": "code",
   "execution_count": 93,
   "metadata": {},
   "outputs": [
    {
     "name": "stdout",
     "output_type": "stream",
     "text": [
      "[3 1 0 1 1 1 4] [1.         2.14285714 3.28571429 4.42857143 5.57142857 6.71428571\n",
      " 7.85714286 9.        ]\n"
     ]
    }
   ],
   "source": [
    "data = [1,2,2,3,5,6,7,8,8,9,9]\n",
    "\n",
    "#Define los rangos y la frecuencia en cada uno\n",
    "#Si se guarda en una sola variable es una tupla de dos arrays\n",
    "frecuencias,extremos = np.histogram(data, bins=7) #bins: cantidad que define los rangos (numero de columnas)\n",
    "\n",
    "print(frecuencias,extremos)"
   ]
  },
  {
   "cell_type": "code",
   "execution_count": 34,
   "metadata": {},
   "outputs": [
    {
     "name": "stdout",
     "output_type": "stream",
     "text": [
      "[3 1 0 1 1 1 4] [1.         2.14285714 3.28571429 4.42857143 5.57142857 6.71428571\n",
      " 7.85714286 9.        ]\n"
     ]
    },
    {
     "data": {
      "image/png": "[encoded data removed]",
      "text/plain": [
       "<Figure size 640x480 with 1 Axes>"
      ]
     },
     "metadata": {},
     "output_type": "display_data"
    }
   ],
   "source": [
    "plt.hist(x=data, bins=5, color='#F2AB6D', rwidth=0.85) #define bins para graficar\n",
    "plt.title('Histograma ejemplo')\n",
    "plt.xlabel('Data')\n",
    "plt.ylabel('Frecuencia')\n",
    "plt.show()"
   ]
  },
  {
   "cell_type": "markdown",
   "metadata": {},
   "source": [
    "### Medidas de tendencia central"
   ]
  },
  {
   "cell_type": "markdown",
   "metadata": {},
   "source": [
    "#### Media"
   ]
  },
  {
   "cell_type": "code",
   "execution_count": 63,
   "metadata": {},
   "outputs": [],
   "source": [
    "data_pd=pd.Series(data)"
   ]
  },
  {
   "cell_type": "code",
   "execution_count": 41,
   "metadata": {},
   "outputs": [
    {
     "name": "stdout",
     "output_type": "stream",
     "text": [
      "<class 'list'>\n",
      "<class 'pandas.core.series.Series'>\n"
     ]
    }
   ],
   "source": [
    "print(type(data))\n",
    "print(type(data_pd))"
   ]
  },
  {
   "cell_type": "code",
   "execution_count": 42,
   "metadata": {},
   "outputs": [
    {
     "name": "stdout",
     "output_type": "stream",
     "text": [
      "5.454545454545454\n",
      "5.454545454545454\n"
     ]
    }
   ],
   "source": [
    "print(data_pd.mean()) #Media en Pandas\n",
    "print(np.mean(data)) #Media en Numpy\n"
   ]
  },
  {
   "cell_type": "markdown",
   "metadata": {},
   "source": [
    "#### Mediana"
   ]
  },
  {
   "cell_type": "code",
   "execution_count": 44,
   "metadata": {},
   "outputs": [
    {
     "name": "stdout",
     "output_type": "stream",
     "text": [
      "6.0\n"
     ]
    }
   ],
   "source": [
    "print(data_pd.median()) #Mediana en Pandas\n",
    "print(np.median(data)) #Mediana en Numpy"
   ]
  },
  {
   "cell_type": "markdown",
   "metadata": {},
   "source": [
    "#### Moda"
   ]
  },
  {
   "cell_type": "code",
   "execution_count": 98,
   "metadata": {},
   "outputs": [
    {
     "name": "stdout",
     "output_type": "stream",
     "text": [
      "ModeResult(mode=np.int64(2), count=np.int64(2))\n"
     ]
    }
   ],
   "source": [
    "#Numpy no tiene funcion directa\n",
    "\n",
    "#Moda de Stats en Scipy. \n",
    "#Devuelve solo una y la cantidad de veces que se repite \n",
    "print(stats.mode(data)) "
   ]
  },
  {
   "cell_type": "code",
   "execution_count": 94,
   "metadata": {},
   "outputs": [
    {
     "name": "stdout",
     "output_type": "stream",
     "text": [
      "0    2\n",
      "1    8\n",
      "2    9\n",
      "dtype: int64\n"
     ]
    }
   ],
   "source": [
    "#Moda en Pandas. \n",
    "#Devuelve una Serie. Si hay mas de una moda las devuelve todas\n",
    "print(data_pd.mode())"
   ]
  },
  {
   "cell_type": "markdown",
   "metadata": {},
   "source": [
    "### Dispersion"
   ]
  },
  {
   "cell_type": "markdown",
   "metadata": {},
   "source": [
    "#### Varianza"
   ]
  },
  {
   "cell_type": "code",
   "execution_count": 79,
   "metadata": {},
   "outputs": [
    {
     "name": "stdout",
     "output_type": "stream",
     "text": [
      "8.247933884297522\n"
     ]
    }
   ],
   "source": [
    "print(np.var(data)) #Varianza en Numpy"
   ]
  },
  {
   "cell_type": "code",
   "execution_count": 70,
   "metadata": {},
   "outputs": [
    {
     "name": "stdout",
     "output_type": "stream",
     "text": [
      "8.247933884297522\n"
     ]
    }
   ],
   "source": [
    "print(data_pd.var(ddof=0)) #Varianza en Pandas. Si no se especifica ddof hace un ajuste en la distr"
   ]
  },
  {
   "cell_type": "markdown",
   "metadata": {},
   "source": [
    "#### Desviacion estandar"
   ]
  },
  {
   "cell_type": "code",
   "execution_count": 83,
   "metadata": {},
   "outputs": [
    {
     "name": "stdout",
     "output_type": "stream",
     "text": [
      "2.87192163616933\n",
      "2.87192163616933\n"
     ]
    }
   ],
   "source": [
    "print(np.std(data)) #Desviacion estandar en Numpy\n",
    "print(data_pd.std(ddof=0)) #Desviacion estandar en Pandas. Hay que especificar ddof tambien"
   ]
  },
  {
   "cell_type": "markdown",
   "metadata": {},
   "source": [
    "#### Coeficiente de variacion"
   ]
  },
  {
   "cell_type": "code",
   "execution_count": 84,
   "metadata": {},
   "outputs": [
    {
     "data": {
      "text/plain": [
       "numpy.ndarray"
      ]
     },
     "execution_count": 84,
     "metadata": {},
     "output_type": "execute_result"
    }
   ],
   "source": [
    "data_a=np.array(data)\n",
    "type(data_a)"
   ]
  },
  {
   "cell_type": "code",
   "execution_count": 85,
   "metadata": {},
   "outputs": [
    {
     "name": "stdout",
     "output_type": "stream",
     "text": [
      "0.5265189666310439\n",
      "0.5265189666310439\n",
      "0.5265189666310439\n"
     ]
    }
   ],
   "source": [
    "#Coeficiente de variacion de Stats en Scipy\n",
    "#Se puede aplicar a listas, arreglos y Series\n",
    "print(stats.variation(data))\n",
    "print(stats.variation(data_a)) \n",
    "print(stats.variation(data_pd)) "
   ]
  }
 ],
 "metadata": {
  "kernelspec": {
   "display_name": "Python 3",
   "language": "python",
   "name": "python3"
  },
  "language_info": {
   "codemirror_mode": {
    "name": "ipython",
    "version": 3
   },
   "file_extension": ".py",
   "mimetype": "text/x-python",
   "name": "python",
   "nbconvert_exporter": "python",
   "pygments_lexer": "ipython3",
   "version": "3.12.4"
  }
 },
 "nbformat": 4,
 "nbformat_minor": 2
}
