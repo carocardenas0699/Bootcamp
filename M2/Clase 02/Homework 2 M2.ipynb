{
 "cells": [
  {
   "cell_type": "markdown",
   "metadata": {},
   "source": [
    "# Práctica Clase 2\n",
    "\n",
    "Utilizando Python cálcular las siguientes probabilidades. Para cada uno intenta determinar que método aplicaste.<br>\n"
   ]
  },
  {
   "cell_type": "code",
   "execution_count": 4,
   "metadata": {},
   "outputs": [],
   "source": [
    "import math\n",
    "import numpy as np\n",
    "import pandas as pd"
   ]
  },
  {
   "cell_type": "markdown",
   "metadata": {},
   "source": [
    "1. Lanza una moneda al aire 10 veces, ¿cuantos resultados posibles forman parte del espacio muestral?.\n"
   ]
  },
  {
   "cell_type": "code",
   "execution_count": 6,
   "metadata": {},
   "outputs": [
    {
     "data": {
      "text/plain": [
       "1024"
      ]
     },
     "execution_count": 6,
     "metadata": {},
     "output_type": "execute_result"
    }
   ],
   "source": [
    "lanzamientos = 10\n",
    "opciones = 2\n",
    "\n",
    "resultados = opciones**lanzamientos\n",
    "print('Los resultados posibles son:',resultados)\n"
   ]
  },
  {
   "cell_type": "markdown",
   "metadata": {},
   "source": [
    "2. En un aeropuerto se tiene a 10 pasajeros esperando en la sala de preembarque, la polícia debe controlar a 3 de ellos. ¿Cuantas combinaciones posibles se pueden obtener?."
   ]
  },
  {
   "cell_type": "code",
   "execution_count": 8,
   "metadata": {},
   "outputs": [
    {
     "name": "stdout",
     "output_type": "stream",
     "text": [
      "Las combinaciones posibles son: 120.0\n"
     ]
    }
   ],
   "source": [
    "pasajeros = 10\n",
    "control = 3\n",
    "\n",
    "#Combinacion porque ABC es igual que CBA\n",
    "com = math.factorial(pasajeros) / (math.factorial(control) * math.factorial(pasajeros-control))\n",
    "print('Las combinaciones posibles son:',com)"
   ]
  },
  {
   "cell_type": "markdown",
   "metadata": {},
   "source": [
    "3. La Agencia Nacional de Seguridad Vial realizó una investigación para saber si los conductores de están usando sus cinturones de seguridad. Los datos muestrales fueron los siguientes:<br>\n",
    "Conductores que emplean el cinturón <br>"
   ]
  },
  {
   "cell_type": "code",
   "execution_count": 79,
   "metadata": {},
   "outputs": [
    {
     "data": {
      "text/html": [
       "<div>\n",
       "<style scoped>\n",
       "    .dataframe tbody tr th:only-of-type {\n",
       "        vertical-align: middle;\n",
       "    }\n",
       "\n",
       "    .dataframe tbody tr th {\n",
       "        vertical-align: top;\n",
       "    }\n",
       "\n",
       "    .dataframe thead th {\n",
       "        text-align: right;\n",
       "    }\n",
       "</style>\n",
       "<table border=\"1\" class=\"dataframe\">\n",
       "  <thead>\n",
       "    <tr style=\"text-align: right;\">\n",
       "      <th></th>\n",
       "      <th>Si</th>\n",
       "      <th>No</th>\n",
       "    </tr>\n",
       "  </thead>\n",
       "  <tbody>\n",
       "    <tr>\n",
       "      <th>Norte</th>\n",
       "      <td>148</td>\n",
       "      <td>52</td>\n",
       "    </tr>\n",
       "    <tr>\n",
       "      <th>Noreste</th>\n",
       "      <td>162</td>\n",
       "      <td>54</td>\n",
       "    </tr>\n",
       "    <tr>\n",
       "      <th>Sur</th>\n",
       "      <td>296</td>\n",
       "      <td>74</td>\n",
       "    </tr>\n",
       "    <tr>\n",
       "      <th>Centro</th>\n",
       "      <td>252</td>\n",
       "      <td>48</td>\n",
       "    </tr>\n",
       "  </tbody>\n",
       "</table>\n",
       "</div>"
      ],
      "text/plain": [
       "          Si  No\n",
       "Norte    148  52\n",
       "Noreste  162  54\n",
       "Sur      296  74\n",
       "Centro   252  48"
      ]
     },
     "execution_count": 79,
     "metadata": {},
     "output_type": "execute_result"
    }
   ],
   "source": [
    "data = np.array([[148,52],[162,54],[296,74],[252,48]])\n",
    "df = pd.DataFrame(data,columns=['Si','No'],index=['Norte','Noreste','Sur','Centro'])\n",
    "df"
   ]
  },
  {
   "cell_type": "markdown",
   "metadata": {},
   "source": [
    "- a) ¿Qué metodo cree que se utilizo para asignar probabilidades?. <br> &emsp; &emsp; Se utilizo la corriente frecuentista <br> <br>\n",
    "- b) Construya un cuadro similar, pero con la asignación de probabilidades. <br>"
   ]
  },
  {
   "cell_type": "code",
   "execution_count": 91,
   "metadata": {},
   "outputs": [
    {
     "data": {
      "text/html": [
       "<div>\n",
       "<style scoped>\n",
       "    .dataframe tbody tr th:only-of-type {\n",
       "        vertical-align: middle;\n",
       "    }\n",
       "\n",
       "    .dataframe tbody tr th {\n",
       "        vertical-align: top;\n",
       "    }\n",
       "\n",
       "    .dataframe thead th {\n",
       "        text-align: right;\n",
       "    }\n",
       "</style>\n",
       "<table border=\"1\" class=\"dataframe\">\n",
       "  <thead>\n",
       "    <tr style=\"text-align: right;\">\n",
       "      <th></th>\n",
       "      <th>Si</th>\n",
       "      <th>No</th>\n",
       "      <th>Total</th>\n",
       "    </tr>\n",
       "  </thead>\n",
       "  <tbody>\n",
       "    <tr>\n",
       "      <th>Norte</th>\n",
       "      <td>0.136280</td>\n",
       "      <td>0.047882</td>\n",
       "      <td>0.184162</td>\n",
       "    </tr>\n",
       "    <tr>\n",
       "      <th>Noreste</th>\n",
       "      <td>0.149171</td>\n",
       "      <td>0.049724</td>\n",
       "      <td>0.198895</td>\n",
       "    </tr>\n",
       "    <tr>\n",
       "      <th>Sur</th>\n",
       "      <td>0.272560</td>\n",
       "      <td>0.068140</td>\n",
       "      <td>0.340700</td>\n",
       "    </tr>\n",
       "    <tr>\n",
       "      <th>Centro</th>\n",
       "      <td>0.232044</td>\n",
       "      <td>0.044199</td>\n",
       "      <td>0.276243</td>\n",
       "    </tr>\n",
       "    <tr>\n",
       "      <th>Total</th>\n",
       "      <td>0.790055</td>\n",
       "      <td>0.209945</td>\n",
       "      <td>1.000000</td>\n",
       "    </tr>\n",
       "  </tbody>\n",
       "</table>\n",
       "</div>"
      ],
      "text/plain": [
       "               Si        No     Total\n",
       "Norte    0.136280  0.047882  0.184162\n",
       "Noreste  0.149171  0.049724  0.198895\n",
       "Sur      0.272560  0.068140  0.340700\n",
       "Centro   0.232044  0.044199  0.276243\n",
       "Total    0.790055  0.209945  1.000000"
      ]
     },
     "execution_count": 91,
     "metadata": {},
     "output_type": "execute_result"
    }
   ],
   "source": [
    "df_prob=df.copy()\n",
    "#Cuadro solo con probabilidades\n",
    "tot=df_prob['Si'].sum()+df_prob['No'].sum()\n",
    "df_prob['Si'] = df_prob['Si']/tot\n",
    "df_prob['No'] = df_prob['No']/tot\n",
    "df_prob.loc[5]=[df_prob['Si'].sum(),df_prob['No'].sum()]\n",
    "df_prob.rename(index={5:'Total'},inplace=True)\n",
    "\n",
    "df_prob['Total']=df_prob['Si']+df_prob['No']\n",
    "df_prob"
   ]
  },
  {
   "cell_type": "markdown",
   "metadata": {},
   "source": [
    "- c) ¿Cuál sería el mejor método pára estimar la probabilidad de que en Estados Unidos un conductor lleve puesto el cinturón?. <br> <br>\n",
    "- d) Un año antes, la probabilidad en Argentina de que un conductor llevara puesto el cinturón era 0.75. El director de ANSV, se esperaba que la probabilidad llegara a 0.78. ¿Estará satisfecho con los resultados del estudio? <br> &emsp; &emsp; Si. La probabilidad ahora es 0.79, lo cual es mayor que 0.78 <br><br>\n",
    "- e) ¿Cuál es la probabilidad de que se use el cinturón en las distintas regiones del país? ¿En qué región se usa más el cinturón?(Utilizar misma tabla que el ejercicio anterior). <br> &emsp; &emsp; La region donde se usa mas el cinturon es el Sur con un 34.07%"
   ]
  },
  {
   "cell_type": "markdown",
   "metadata": {},
   "source": [
    "4. Crear una funcion que permita calcular a probabilidad de los siguientes eventos en un baraja de 52 cartas.<br>\n",
    "- Obtener una carta roja.<br>\n",
    "- Obtener una carta negra.<br>\n",
    "- Obtener una pica.<br>\n",
    "- Obtener un trébol.<br>\n",
    "- Obtener un corazón.<br>\n",
    "- Obtener un diamante.<br>"
   ]
  },
  {
   "cell_type": "code",
   "execution_count": 20,
   "metadata": {},
   "outputs": [],
   "source": [
    "def prob_carta(tipo):\n",
    "    baraja = 52\n",
    "    cartas_por_color = baraja / 2\n",
    "    cartas_por_palo = baraja / 4\n",
    "\n",
    "    if tipo == 'Roja' or tipo == 'Negra':\n",
    "        prob = cartas_por_color / baraja\n",
    "        print('Probabilidad de obtener una carta',tipo,'es:',prob)\n",
    "\n",
    "    elif tipo == 'Pica' or tipo == 'Trebol' or tipo == 'Corazon' or tipo == 'Diamante':\n",
    "        prob = cartas_por_palo / baraja\n",
    "        print('Probabilidad de obtener un',tipo,'es:',prob)\n",
    "    else:\n",
    "        print('El tipo de carta es invalido') \n"
   ]
  },
  {
   "cell_type": "code",
   "execution_count": 21,
   "metadata": {},
   "outputs": [
    {
     "name": "stdout",
     "output_type": "stream",
     "text": [
      "Probabilidad de obtener una carta Roja es: 0.5\n",
      "Probabilidad de obtener una carta Negra es: 0.5\n",
      "Probabilidad de obtener un Pica es: 0.25\n",
      "Probabilidad de obtener un Trebol es: 0.25\n",
      "Probabilidad de obtener un Corazon es: 0.25\n",
      "Probabilidad de obtener un Diamante es: 0.25\n"
     ]
    }
   ],
   "source": [
    "prob_carta('Roja')\n",
    "prob_carta('Negra')\n",
    "prob_carta('Pica')\n",
    "prob_carta('Trebol')\n",
    "prob_carta('Corazon')\n",
    "prob_carta('Diamante')"
   ]
  },
  {
   "cell_type": "markdown",
   "metadata": {},
   "source": [
    "5. La probabilidad de que salga un 7 o un 8 al seleccionar una carta de una baraja de las 52 cartas que contiene el mazo. <br>"
   ]
  },
  {
   "cell_type": "code",
   "execution_count": 93,
   "metadata": {},
   "outputs": [
    {
     "name": "stdout",
     "output_type": "stream",
     "text": [
      "La probabilidad de sacar un 7 o un 8 es: 0.15384615384615385\n"
     ]
    }
   ],
   "source": [
    "baraja = 52\n",
    "prob_num = 4 / baraja\n",
    "\n",
    "prob_7_8=prob_num*2\n",
    "print('La probabilidad de sacar un 7 o un 8 es:',prob_7_8)"
   ]
  },
  {
   "cell_type": "markdown",
   "metadata": {},
   "source": [
    "6. La probabilidad de tu país gane el mundial de fútbol.<br>"
   ]
  },
  {
   "cell_type": "code",
   "execution_count": 95,
   "metadata": {},
   "outputs": [
    {
     "name": "stdout",
     "output_type": "stream",
     "text": [
      "La probabilidad de que Colombia gane un mundial es: 0.03125\n"
     ]
    }
   ],
   "source": [
    "#Segun corriente clasica\n",
    "tot_equipos=32\n",
    "prob=1/tot_equipos\n",
    "print('La probabilidad de que Colombia gane un mundial es:',prob)"
   ]
  },
  {
   "cell_type": "markdown",
   "metadata": {},
   "source": [
    "7. Un experimento que tiene tres resultados es repetido 50 veces y se ve que E1 aparece 20 veces, E2 13 veces y E3 17 veces. Asigne probabilidades a los resultados.<br>"
   ]
  },
  {
   "cell_type": "code",
   "execution_count": 100,
   "metadata": {},
   "outputs": [
    {
     "data": {
      "text/html": [
       "<div>\n",
       "<style scoped>\n",
       "    .dataframe tbody tr th:only-of-type {\n",
       "        vertical-align: middle;\n",
       "    }\n",
       "\n",
       "    .dataframe tbody tr th {\n",
       "        vertical-align: top;\n",
       "    }\n",
       "\n",
       "    .dataframe thead th {\n",
       "        text-align: right;\n",
       "    }\n",
       "</style>\n",
       "<table border=\"1\" class=\"dataframe\">\n",
       "  <thead>\n",
       "    <tr style=\"text-align: right;\">\n",
       "      <th></th>\n",
       "      <th>Veces</th>\n",
       "      <th>Probabilidad</th>\n",
       "    </tr>\n",
       "  </thead>\n",
       "  <tbody>\n",
       "    <tr>\n",
       "      <th>E1</th>\n",
       "      <td>20</td>\n",
       "      <td>0.40</td>\n",
       "    </tr>\n",
       "    <tr>\n",
       "      <th>E2</th>\n",
       "      <td>13</td>\n",
       "      <td>0.26</td>\n",
       "    </tr>\n",
       "    <tr>\n",
       "      <th>E3</th>\n",
       "      <td>17</td>\n",
       "      <td>0.34</td>\n",
       "    </tr>\n",
       "  </tbody>\n",
       "</table>\n",
       "</div>"
      ],
      "text/plain": [
       "    Veces  Probabilidad\n",
       "E1     20          0.40\n",
       "E2     13          0.26\n",
       "E3     17          0.34"
      ]
     },
     "execution_count": 100,
     "metadata": {},
     "output_type": "execute_result"
    }
   ],
   "source": [
    "df_7=pd.DataFrame({'Veces':[20,13,17]},index=['E1','E2','E3'])\n",
    "df_7['Probabilidad'] = df_7['Veces'] / df_7['Veces'].sum()\n",
    "df_7"
   ]
  }
 ],
 "metadata": {
  "kernelspec": {
   "display_name": "Python 3",
   "language": "python",
   "name": "python3"
  },
  "language_info": {
   "codemirror_mode": {
    "name": "ipython",
    "version": 3
   },
   "file_extension": ".py",
   "mimetype": "text/x-python",
   "name": "python",
   "nbconvert_exporter": "python",
   "pygments_lexer": "ipython3",
   "version": "3.12.4"
  }
 },
 "nbformat": 4,
 "nbformat_minor": 2
}
