{
 "cells": [
  {
   "cell_type": "markdown",
   "metadata": {},
   "source": [
    "# Práctica Clase 4"
   ]
  },
  {
   "cell_type": "code",
   "execution_count": 40,
   "metadata": {},
   "outputs": [],
   "source": [
    "from math import factorial\n",
    "from math import exp\n",
    "from scipy.special import comb\n",
    "from scipy.stats import norm"
   ]
  },
  {
   "cell_type": "markdown",
   "metadata": {},
   "source": [
    "### Funciones de probabilidad discretas"
   ]
  },
  {
   "cell_type": "code",
   "execution_count": 41,
   "metadata": {},
   "outputs": [],
   "source": [
    "def dist_bi(n,x,p):\n",
    "    ''' \n",
    "    n: tamaño de muestra\n",
    "    x: numero de exitos (pregunta)\n",
    "    p: probabilidad de exito\n",
    "\n",
    "    '''\n",
    "    return int(comb(n,x))*(p**x)*((1-p)**(n-x))\n",
    "\n",
    "def dist_poi(l,x):\n",
    "    ''' \n",
    "    l (lambda): tasa de exito en el intervalo\n",
    "    x: numero de exitos (pregunta)\n",
    "    \n",
    "    '''\n",
    "    return ((l**x)/factorial(x))*exp(-l)\n",
    "\n",
    "def dist_hipgeo(N,k,n,x):\n",
    "    ''' \n",
    "    N: tamaño de la poblacion\n",
    "    k: número de objetos de la población que cumplen condicion\n",
    "    n: tamaño de la muestra \n",
    "    x: numero de obejtos de la muestra que cumplen condicion (pregunta)\n",
    "    ''' \n",
    "    return float((comb(k,x)*comb(N-k,n-x))/comb(N,n))\n"
   ]
  },
  {
   "cell_type": "markdown",
   "metadata": {},
   "source": [
    "### Ejemplos de clase"
   ]
  },
  {
   "cell_type": "markdown",
   "metadata": {},
   "source": [
    "#### Distribucion binominal"
   ]
  },
  {
   "cell_type": "markdown",
   "metadata": {},
   "source": [
    "Una novela ha tenido un gran éxito, y se estima que el 80% de un grupo de lectores ya la han leído.En un grupo de 4 amigos aficionados a la lectura: <br> ¿Cuál es la probabilidad de que en el grupo hayan leído la novela\n",
    "2 personas?"
   ]
  },
  {
   "cell_type": "code",
   "execution_count": 42,
   "metadata": {},
   "outputs": [
    {
     "data": {
      "text/plain": [
       "0.15359999999999996"
      ]
     },
     "execution_count": 42,
     "metadata": {},
     "output_type": "execute_result"
    }
   ],
   "source": [
    "#n: Grupo de 4 lectores\n",
    "#x: 2 lectores hayan leido el libro\n",
    "#p: Probabilidad de que hayan leido el libro\n",
    "\n",
    "dist_bi(4,2,0.8)"
   ]
  },
  {
   "cell_type": "markdown",
   "metadata": {},
   "source": [
    "#### Distribucion de Poisson"
   ]
  },
  {
   "cell_type": "markdown",
   "metadata": {},
   "source": [
    "La probabilidad de que en el lapso de una semana en el taller de la concesionaria uno de los autos vendidos tenga problemas cubiertos por la garantía es 0,02. <br>Suponiendo que en el taller se atienden 450 autos semanalmente. ¿Cuál es la probabilidad de que se presenten 5 autos con problemas por semana?"
   ]
  },
  {
   "cell_type": "code",
   "execution_count": 43,
   "metadata": {},
   "outputs": [
    {
     "data": {
      "text/plain": [
       "0.06072687934595284"
      ]
     },
     "execution_count": 43,
     "metadata": {},
     "output_type": "execute_result"
    }
   ],
   "source": [
    "#lambda: Carros que llegan y el seguro cubre (0.02 de 450 carros que llegan) por semana\n",
    "#x: Carros que llegan \n",
    "\n",
    "dist_poi(9,5)"
   ]
  },
  {
   "cell_type": "markdown",
   "metadata": {},
   "source": [
    "#### Distribucion Hipergeometrica"
   ]
  },
  {
   "cell_type": "markdown",
   "metadata": {},
   "source": [
    "Una empresa que importa los autos que vende una concesionaria, desea hacer una encuesta de satisfacción a los compradores de estos autos. De una muestra de 80 autos, 30 son importados. <br> Si se seleccionan 9 clientes. ¿Cuál es la probabilidad de que \n",
    "haya 2 que compraron autos importados?"
   ]
  },
  {
   "cell_type": "code",
   "execution_count": 44,
   "metadata": {},
   "outputs": [
    {
     "data": {
      "text/plain": [
       "0.18736377022633674"
      ]
     },
     "execution_count": 44,
     "metadata": {},
     "output_type": "execute_result"
    }
   ],
   "source": [
    "#N: Carros en el concesionario\n",
    "#k: Carros importados (codicion)\n",
    "#n: Carros muestra\n",
    "#x: Carros importados muestra\n",
    "\n",
    "dist_hipgeo(80,30,9,2)"
   ]
  },
  {
   "cell_type": "markdown",
   "metadata": {},
   "source": [
    "### Homework"
   ]
  },
  {
   "cell_type": "markdown",
   "metadata": {},
   "source": [
    "1. Considera el experimento que consiste en un empleado que arma un producto.\n",
    "  - a. Defina la variable aleatoria que represente el tiempo en minutos requerido para armar el producto.<br>\n",
    "  &emsp;&emsp; t: tiempo en minutos requerido para armar el producto <br><br>\n",
    "  - b. ¿Qué valores toma la variable aleatoria?<br>\n",
    "  &emsp;&emsp; Valores mayores a cero $(t \\ge 0)$ <br><br>\n",
    "  - c. ¿Es una variable aleatoria discreta o continua?<br>\n",
    "  &emsp;&emsp; Es una variable continua"
   ]
  },
  {
   "cell_type": "markdown",
   "metadata": {},
   "source": [
    "2. Considera el experimento que consiste en lanzar una moneda dos veces.\n",
    "  - a. Enumere los resultados experimentales. <br>\n",
    "  &emsp;&emsp; C: Cara  S: Sello <br>\n",
    "  &emsp;&emsp; [C,C], [C,S], [S,C], [S,S] <br><br>\n",
    "  - b. Defina una variable aleatoria que represente el número de caras en los dos lanzamientos.\n",
    "  - c. Dé el valor que la variable aleatoria tomará en cada uno de los resultados experimentales.\n",
    "  - d. ¿Es una variable aleatoria discreta o continua? <br>\n",
    "  &emsp;&emsp; Es una variable discreta"
   ]
  },
  {
   "cell_type": "markdown",
   "metadata": {},
   "source": [
    "3. Considera las decisiones de compra de los próximos tres clientes que lleguen a la tienda de ropa Martin Clothing Store. De acuerdo con la experiencia, el gerente de la tienda estima que la probabilidad de que un cliente realice una compra es 0.30. \n",
    "  - a. Describa si cumple con las reglas para clasificarlo como un experimiento binomial. <br>\n",
    "  &emsp;&emsp; Si. Los eventos son independientes y tienen la misma probabilidad de exito<br><br>\n",
    "  - b. ¿Cuál es la probabilidad de que dos de los próximos tres clientes realicen una compra?\n",
    "  - c. ¿Cuál es la probabilidad de que cuatro de los próximos diez clientes realicen una compra?"
   ]
  },
  {
   "cell_type": "code",
   "execution_count": 56,
   "metadata": {},
   "outputs": [
    {
     "name": "stdout",
     "output_type": "stream",
     "text": [
      "b. La probabilidad de que 2 de los proximos 3 clientes realicen una compra es: 0.189\n",
      "b. La probabilidad de que 4 de los proximos 10 clientes realicen una compra es: 0.2001209489999999\n"
     ]
    }
   ],
   "source": [
    "#Exito: Que realice una compra\n",
    "\n",
    "p_exito = 0.3\n",
    "n = 3\n",
    "x = 2\n",
    "\n",
    "print('b. La probabilidad de que 2 de los proximos 3 clientes realicen una compra es:',dist_bi(n,x,p_exito))\n",
    "\n",
    "n = 10\n",
    "x = 4\n",
    "print('b. La probabilidad de que 4 de los proximos 10 clientes realicen una compra es:',dist_bi(n,x,p_exito))\n"
   ]
  },
  {
   "cell_type": "markdown",
   "metadata": {},
   "source": [
    "4.  A la oficina de reservaciones de una aerolínea regional llegan 48 llamadas por hora.\n",
    "- a. Calcule la probabilidad de recibir cinco llamadas en un lapso de 5 minutos.\n",
    "- b. Estime la probabilidad de recibir exactamente 10 llamadas en un lapso de 15 minutos.\n",
    "- c. Suponga que no hay ninguna llamada en espera. Si el agente de viajes necesitará 5 minutos para la llamada que está atendiendo, ¿cuántas llamadas habrá en espera para cuando él termine? ¿Cuál es la probabilidad de que no haya ninguna llamada en espera?\n",
    "- d. Si en este momento no hay ninguna llamada, ¿cuál es la probabilidad de que el agente de viajes pueda tomar 3 minutos de descanso sin ser interrumpido por una llamada?"
   ]
  },
  {
   "cell_type": "code",
   "execution_count": 64,
   "metadata": {},
   "outputs": [
    {
     "name": "stdout",
     "output_type": "stream",
     "text": [
      "a. La probabilidad de recibir 5 llamadas en un lapso de 5 minutos es: 0.15629345185053165\n",
      "b. La probabilidad de recibir 10 llamadas en un lapso de 15 minutos es: 0.10483725588365932\n",
      "c. La cantidad de llamadas que podria haber en espera es: 4\n",
      "c. La probabilidad de que no haya ninguna llamada en espera es: 0.01831563888873418\n",
      "d. La probabilidad que el agente pueda tomar un descanso de 3 minutos sin que llegue una llamada es: 0.09071795328941247\n"
     ]
    }
   ],
   "source": [
    "l_hora = 48\n",
    "l_min = l_hora / 60\n",
    "\n",
    "l_5 = l_min * 5\n",
    "x = 5\n",
    "print('a. La probabilidad de recibir 5 llamadas en un lapso de 5 minutos es:',dist_poi(l_5,x))\n",
    "\n",
    "l_15 = l_min * 15\n",
    "x = 10\n",
    "print('b. La probabilidad de recibir 10 llamadas en un lapso de 15 minutos es:',dist_poi(l_15,x))\n",
    "\n",
    "x = 0\n",
    "print('c. La cantidad de llamadas que podria haber en espera es:',int(l_5))\n",
    "print('c. La probabilidad de que no haya ninguna llamada en espera es:',dist_poi(l_5,x))\n",
    "\n",
    "l_3 = l_min * 3\n",
    "print('d. La probabilidad que el agente pueda tomar un descanso de 3 minutos sin que llegue una llamada es:',dist_poi(l_3,x))"
   ]
  },
  {
   "cell_type": "markdown",
   "metadata": {},
   "source": [
    "5. En una encuesta realizada por Gallup Organization, se les preguntó a los interrogados, “Cuál es el deporte que prefieres ver”. Futbol y básquetbol ocuparon el primero y segundo lugar de preferencia (www.gallup.com, 3 de enero de 2004). Si en un grupo de 10 individuos, siete prefieren futbol y tres prefieren básquetbol. Se toma una muestra aleatoria de tres de estas personas.\n",
    "- a. ¿Cuál es la probabilidad de que exactamente dos prefieren el futbol?\n",
    "- b. ¿De que la mayoría (ya sean dos o tres) prefiere el futbol?"
   ]
  },
  {
   "cell_type": "code",
   "execution_count": 28,
   "metadata": {},
   "outputs": [
    {
     "name": "stdout",
     "output_type": "stream",
     "text": [
      "a. La probabilidad de que 2 de 3 personas prefieran el futbol es: 0.441\n",
      "b. La probabilidad de que la mayoria prefiera el futbol es: 0.7839999999999999\n"
     ]
    }
   ],
   "source": [
    "##  NO ES BINOMIAL\n",
    "#Exito: La persona prefiere el futbol\n",
    "\n",
    "p_exito = 7/10\n",
    "n = 3\n",
    "x = 2\n",
    "print('a. La probabilidad de que 2 de 3 personas prefieran el futbol es:',dist_bi(n,x,p_exito))\n",
    "\n",
    "p_mayoria = dist_bi(n,2,p_exito) + dist_bi(n,3,p_exito)\n",
    "print('b. La probabilidad de que la mayoria prefiera el futbol es:',p_mayoria)"
   ]
  },
  {
   "cell_type": "code",
   "execution_count": 29,
   "metadata": {},
   "outputs": [
    {
     "name": "stdout",
     "output_type": "stream",
     "text": [
      "a. La probabilidad de que 2 de 3 personas prefieran el futbol es: 0.525\n",
      "b. La probabilidad de que la mayoria prefiera el futbol es: 0.8166666666666667\n"
     ]
    }
   ],
   "source": [
    "##  ES HIPERGEOMETRICA\n",
    "#Condicion: Que prefiera el futbol\n",
    "\n",
    "N = 10 #Poblacion\n",
    "k = 7 #De la poblacion que cumplen condicion\n",
    "n = 3 #Muestra\n",
    "x = 2 #De la muestra que cumplen condicion\n",
    "\n",
    "print('a. La probabilidad de que 2 de 3 personas prefieran el futbol es:',dist_hipgeo(N,k,n,x))\n",
    "\n",
    "p_mayoria = dist_hipgeo(N,k,n,2) + dist_hipgeo(N,k,n,3)\n",
    "print('b. La probabilidad de que la mayoria prefiera el futbol es:',p_mayoria)"
   ]
  },
  {
   "cell_type": "markdown",
   "metadata": {},
   "source": [
    "6. La probabilidad de que a un estudiante le guste este modulo es de 0.7 (en Henry somos optimistas), cual es la probabilidad de que les guste este módulo a 6 de los 10 estudiantes.<br>"
   ]
  },
  {
   "cell_type": "code",
   "execution_count": 30,
   "metadata": {},
   "outputs": [
    {
     "name": "stdout",
     "output_type": "stream",
     "text": [
      "La probabilidad de que a 6 de 10 estudiantes les guste el modulo es: 0.20012094900000005\n"
     ]
    }
   ],
   "source": [
    "##  BINOMIAL\n",
    "#Exito: Que le guste el modulo\n",
    "p = 0.7\n",
    "n = 10\n",
    "x = 6\n",
    "\n",
    "print('La probabilidad de que a 6 de 10 estudiantes les guste el modulo es:',dist_bi(n,x,p))"
   ]
  },
  {
   "cell_type": "markdown",
   "metadata": {},
   "source": [
    "7. De todos los push a Git en un Henry Challenge, el 90% lo envía a término. Si se envían 9 ¿cuál es la probabilidad de que 7 lleguen a término?.<br>"
   ]
  },
  {
   "cell_type": "code",
   "execution_count": 31,
   "metadata": {},
   "outputs": [
    {
     "name": "stdout",
     "output_type": "stream",
     "text": [
      "La probabilidad de que a 7 de 9 push se envien a termino es: 0.17218688399999993\n"
     ]
    }
   ],
   "source": [
    "##  BINOMIAL\n",
    "#Exito: Que lo envie a termino\n",
    "p = 0.9\n",
    "n = 9\n",
    "x = 7\n",
    "\n",
    "print('La probabilidad de que a 7 de 9 push se envien a termino es:',dist_bi(n,x,p))"
   ]
  },
  {
   "cell_type": "markdown",
   "metadata": {},
   "source": [
    "8. En relación con el enunciado anterior cálcule la probabilidad de que 7 o más lleguen a término.<br>"
   ]
  },
  {
   "cell_type": "code",
   "execution_count": 34,
   "metadata": {},
   "outputs": [
    {
     "name": "stdout",
     "output_type": "stream",
     "text": [
      "La probabilidad de que a 7 o mas push se envien a termino es: 0.9470278620000001\n"
     ]
    }
   ],
   "source": [
    "## BINOMIAL\n",
    "p = 0.9\n",
    "n = 9\n",
    "\n",
    "print('La probabilidad de que a 7 o mas push se envien a termino es:',dist_bi(n,7,p) + dist_bi(n,8,p) +dist_bi(n,9,p))\n"
   ]
  },
  {
   "cell_type": "markdown",
   "metadata": {},
   "source": [
    "9. La cantidad de alumnos promedio que se ausentan en un día de clases en la carrera de Data Science es de 10. Calcular cual es la probabilidad de que se ausenten 7 alumnos.<br>"
   ]
  },
  {
   "cell_type": "code",
   "execution_count": 32,
   "metadata": {},
   "outputs": [
    {
     "name": "stdout",
     "output_type": "stream",
     "text": [
      "La probabilidad de que se ausenten 7 alumnos es: 0.09007922571921598\n"
     ]
    }
   ],
   "source": [
    "##  POISSON\n",
    "\n",
    "l = 10\n",
    "x = 7\n",
    "\n",
    "print('La probabilidad de que se ausenten 7 alumnos es:',dist_poi(l,x))"
   ]
  },
  {
   "cell_type": "markdown",
   "metadata": {},
   "source": [
    "10. Cuando inicia una clase, los estudiantes ingresan a un ritmo de 5 estudiantes por minuto. Calcular cual es la probabilidad de que ingresen 7 estudiantes por minuto.<br>"
   ]
  },
  {
   "cell_type": "code",
   "execution_count": 33,
   "metadata": {},
   "outputs": [
    {
     "name": "stdout",
     "output_type": "stream",
     "text": [
      "La probabilidad de que ingresen 7 estudiantes por minuto es: 0.10444486295705399\n"
     ]
    }
   ],
   "source": [
    "##  POISSON\n",
    "\n",
    "l = 5\n",
    "x = 7\n",
    "\n",
    "print('La probabilidad de que ingresen 7 estudiantes por minuto es:',dist_poi(l,x))"
   ]
  },
  {
   "cell_type": "markdown",
   "metadata": {},
   "source": [
    "## Ejercicios complementarios"
   ]
  },
  {
   "cell_type": "markdown",
   "metadata": {},
   "source": [
    "11. Cada 3 días ingresan 10 estudiantes nuevos al Prep Course de Henry, calcule la probabilidad de que ingresen 15 nuevos estudiantes en un período de 6 días.<br>"
   ]
  },
  {
   "cell_type": "code",
   "execution_count": 57,
   "metadata": {},
   "outputs": [
    {
     "name": "stdout",
     "output_type": "stream",
     "text": [
      "La probabilidad de que ingresen 15 nuevos estudiantes en 6 dias es: 0.05164885353175835\n"
     ]
    }
   ],
   "source": [
    "l_3 = 10\n",
    "l_1 = 10 / 3\n",
    "l_6 = l_1 * 6\n",
    "x = 15\n",
    "\n",
    "print('La probabilidad de que ingresen 15 nuevos estudiantes en 6 dias es:',dist_poi(l_6,x))"
   ]
  },
  {
   "cell_type": "markdown",
   "metadata": {},
   "source": [
    "12. En una distribución de Poisson de lamba_np=3, cual es la probabilidad de x>=1.<br>"
   ]
  },
  {
   "cell_type": "code",
   "execution_count": 35,
   "metadata": {},
   "outputs": [
    {
     "name": "stdout",
     "output_type": "stream",
     "text": [
      "La probabilidad de x >= 0 es: 0.950212931632136\n"
     ]
    }
   ],
   "source": [
    "l = 3\n",
    "x = 0 # La probabilidad de x>= 1 es 1 - P(0)\n",
    "\n",
    "print('La probabilidad de x >= 0 es:', 1-dist_poi(l,x))"
   ]
  },
  {
   "cell_type": "markdown",
   "metadata": {},
   "source": [
    "13. La calificación promedio de los estudiantes de Henry es de 78 con una desviación estandar de 25. Cual es la probabilidad de tener estudiantes con calificaciones mayores o iguales 90."
   ]
  },
  {
   "cell_type": "code",
   "execution_count": 53,
   "metadata": {},
   "outputs": [
    {
     "name": "stdout",
     "output_type": "stream",
     "text": [
      "Probabilidad de tener estudiantes con calificaciones mayores o iguales a 90 es: 0.3156136965162226\n",
      "Probabilidad de tener estudiantes con calificaciones mayores o iguales a 90 es: 0.3156136965162226\n"
     ]
    }
   ],
   "source": [
    "prom = 78\n",
    "desv = 25\n",
    "dist = norm(prom,desv) #Funcion de la distribucion de probabilidad normal\n",
    "\n",
    "#P(X>=90) = 1 - P(X<90)\n",
    "proba = 1 - dist.cdf(90) #Distribucion de probabilidad acumulada \n",
    "print('Probabilidad de tener estudiantes con calificaciones mayores o iguales a 90 es:',proba)\n",
    "\n",
    "##  CON DIST. NORM. ESTANDAR\n",
    "z = (90 - prom) / desv\n",
    "dist_stand = norm(0,1)\n",
    "proba_stand = 1 - dist_stand.cdf(z) #Distribucion de probabilidad acumulada \n",
    "print('Probabilidad de tener estudiantes con calificaciones mayores o iguales a 90 es:',proba_stand)\n"
   ]
  }
 ],
 "metadata": {
  "kernelspec": {
   "display_name": "Python 3",
   "language": "python",
   "name": "python3"
  },
  "language_info": {
   "codemirror_mode": {
    "name": "ipython",
    "version": 3
   },
   "file_extension": ".py",
   "mimetype": "text/x-python",
   "name": "python",
   "nbconvert_exporter": "python",
   "pygments_lexer": "ipython3",
   "version": "3.12.4"
  }
 },
 "nbformat": 4,
 "nbformat_minor": 2
}
