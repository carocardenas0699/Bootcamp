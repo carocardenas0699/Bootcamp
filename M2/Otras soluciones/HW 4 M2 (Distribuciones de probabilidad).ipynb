{
 "cells": [
  {
   "cell_type": "code",
   "execution_count": 1,
   "metadata": {},
   "outputs": [],
   "source": [
    "from math import e, factorial\n",
    "from statistics import NormalDist\n",
    "\n",
    "#DISTRIBUCIÓN BINOMIAL\n",
    "def funcion_binomial(k,n,p):\n",
    "    \"\"\" k = numero de exitos\n",
    "        n = espacio muestral\n",
    "        p = probabilidad de exitos\"\"\"\n",
    "    num_exitos = factorial(n)\n",
    "    num_eventos = factorial (k) * factorial(n-k)\n",
    "    exitos_fracaso = pow(p,k) * pow(1-p,(n-k))\n",
    "\n",
    "    binomial = (num_exitos / num_eventos) * exitos_fracaso\n",
    "\n",
    "    return binomial\n",
    "\n",
    "#DISTRIBUCIÓN POISSON\n",
    "def probabilidad_poisson(lambda_np,x):\n",
    "    \"\"\"lambda_np = número medio de ocurrencias en un intervalo,\n",
    "        x = los numeros de caso\n",
    "    \"\"\"\n",
    "    probabilidad = (pow(e,-lambda_np) * pow(lambda_np,x))/factorial(x)\n",
    "    return probabilidad\n",
    "\n",
    "#DISTRIBUCION HIPERGEOMETRICA\n",
    "def probabilidad_hipergeometrica(N,X,n,x):\n",
    "    \"\"\"N = Población,\n",
    "        X = Condición - Número de elementos en la población considerados como éxitos,\n",
    "        n = Muestra,\n",
    "        x = Variable que queremos conseguir, la probabilidad\"\"\"\n",
    "\n",
    "    Xx = factorial(X)/(factorial(x)*factorial(X-x))\n",
    "    NX_nx= factorial(N-X)/(factorial(n-x)*factorial((N-X)-(n-x)))\n",
    "    Nn = factorial(N)/(factorial(n)*factorial(N-n))\n",
    "    hipergeometrica = (Xx * NX_nx)/Nn\n",
    "\n",
    "    return hipergeometrica\n",
    "\n"
   ]
  },
  {
   "cell_type": "markdown",
   "metadata": {},
   "source": [
    "## Homework\n",
    "\n",
    "1. Considera el experimento que consiste en un empleado que arma un producto.\n",
    "  - a. Defina la variable aleatoria que represente el tiempo en minutos requerido para armar el producto.<br>\n",
    "  - b. ¿Qué valores toma la variable aleatoria?<br>\n",
    "  - c. ¿Es una variable aleatoria discreta o continua?<br>"
   ]
  },
  {
   "cell_type": "code",
   "execution_count": null,
   "metadata": {},
   "outputs": [],
   "source": [
    "#tiempo = # 3, tiempo en minutos\n",
    "#tiempo = x >= 0, rango de tiempo entre 0 y 1 minuto, entre 1 y 2 minutos, y entre 2 y 3 minutos\n",
    "#Es una variable aleatoria continua  "
   ]
  },
  {
   "cell_type": "markdown",
   "metadata": {},
   "source": [
    "2. Considera el experimento que consiste en lanzar una moneda dos veces.\n",
    "  - a. Enumere los resultados experimentales.\n",
    "  - b. Defina una variable aleatoria que represente el número de caras en los dos lanzamientos.\n",
    "  - c. Dé el valor que la variable aleatoria tomará en cada uno de los resultados experimentales.\n",
    "  - d. ¿Es una variable aleatoria discreta o continua?"
   ]
  },
  {
   "cell_type": "code",
   "execution_count": 4,
   "metadata": {},
   "outputs": [
    {
     "data": {
      "text/plain": [
       "0.25"
      ]
     },
     "execution_count": 4,
     "metadata": {},
     "output_type": "execute_result"
    }
   ],
   "source": [
    "\"\"\"\n",
    "#a\n",
    "\n",
    "1- CC\n",
    "2- SS\n",
    "3- SC\n",
    "4- CS\n",
    "#b\n",
    "cara = \"numero de caras en los 2 lanzamientos\"\n",
    "#c\n",
    "1- CC  cara=2 \n",
    "2- SS  cara=0\n",
    "3- SC  cara=1\n",
    "4- CS  cara=1\n",
    "#d\n",
    "Es una variable aleatoria discreta\n",
    "\"\"\"\n",
    "funcion_binomial(2, 2, 0.5)"
   ]
  },
  {
   "cell_type": "markdown",
   "metadata": {},
   "source": [
    "3. Considera las decisiones de compra de los próximos tres clientes que lleguen a la tienda de ropa Martin Clothing Store. De acuerdo con la experiencia, el gerente de la tienda estima que la probabilidad de que un cliente realice una compra es 0.30. \n",
    "  - a. Describa si cumple con las reglas para clasificarlo como un experimiento binomial.\n",
    "  - b. ¿Cuál es la probabilidad de que dos de los próximos tres clientes realicen una compra?\n",
    "  - c. ¿Cuál es la probabilidad de que cuatro de los próximos diez clientes realicen una compra?"
   ]
  },
  {
   "cell_type": "code",
   "execution_count": 6,
   "metadata": {},
   "outputs": [
    {
     "name": "stdout",
     "output_type": "stream",
     "text": [
      "0.189\n",
      "0.20012094899999994\n"
     ]
    }
   ],
   "source": [
    "\"\"\"\n",
    "1. El experimento consiste en una serie de n ensayos idénticos.\n",
    "2. En cada ensayo hay dos resultados posibles. A uno de estos resultados se le llama\n",
    "éxito y al otro se le llama fracaso.\n",
    "3. La probabilidad de éxito, que se denota p, no cambia de un ensayo a otro. Por ende,\n",
    "la probabilidad de fracaso, que se denota $ 1-P $, tampoco cambia de un ensayo a\n",
    "otro.\n",
    "4. Los ensayos son independientes\n",
    "RESPUESTA - Cumple con todos los requerimientos de un experimento binomimial\n",
    "\"\"\" \n",
    "#b\n",
    "print(funcion_binomial(2,3,0.30))\n",
    "#c\n",
    "print(funcion_binomial(4,10,0.30))"
   ]
  },
  {
   "cell_type": "markdown",
   "metadata": {},
   "source": [
    "4.  A la oficina de reservaciones de una aerolínea regional llegan 48 llamadas por hora.\n",
    "- a. Calcule la probabilidad de recibir cinco llamadas en un lapso de 5 minutos.\n",
    "- b. Estime la probabilidad de recibir exactamente 10 llamadas en un lapso de 15 minutos.\n",
    "- c. Suponga que no hay ninguna llamada en espera. Si el agente de viajes necesitará 5 minutos para la llamada que está atendiendo, ¿cuántas llamadas habrá en espera para cuando él termine? ¿Cuál es la probabilidad de que no haya ninguna llamada en espera?\n",
    "- d. Si en este momento no hay ninguna llamada, ¿cuál es la probabilidad de que el agente de viajes pueda tomar 3 minutos de descanso sin ser interrumpido por una llamada?"
   ]
  },
  {
   "cell_type": "code",
   "execution_count": 12,
   "metadata": {},
   "outputs": [
    {
     "name": "stdout",
     "output_type": "stream",
     "text": [
      "0.15629345185053173\n",
      "0.1048372558836594\n",
      "0.018315638888734186\n",
      "0.09071795328941248\n"
     ]
    }
   ],
   "source": [
    "pr = 48/60\n",
    "#a\n",
    "print(probabilidad_poisson(pr*5, 5))\n",
    "#b\n",
    "print(probabilidad_poisson(pr*15,10))\n",
    "#c\n",
    "#Tendrá 4 llamadas en espera\n",
    "print(probabilidad_poisson(pr*5,0))\n",
    "#d\n",
    "print(probabilidad_poisson(pr*3,0))"
   ]
  },
  {
   "cell_type": "markdown",
   "metadata": {},
   "source": [
    "5. En una encuesta realizada por Gallup Organization, se les preguntó a los interrogados, “Cuál es el deporte que prefieres ver”. Futbol y básquetbol ocuparon el primero y segundo lugar de preferencia (www.gallup.com, 3 de enero de 2004). Si en un grupo de 10 individuos, siete prefieren futbol y tres prefieren básquetbol. Se toma una muestra aleatoria de tres de estas personas.\n",
    "- a. ¿Cuál es la probabilidad de que exactamente dos prefieren el futbol?\n",
    "- b. ¿De que la mayoría (ya sean dos o tres) prefiere el futbol?"
   ]
  },
  {
   "cell_type": "code",
   "execution_count": 14,
   "metadata": {},
   "outputs": [
    {
     "name": "stdout",
     "output_type": "stream",
     "text": [
      "0.525\n",
      "0.8166666666666667\n"
     ]
    }
   ],
   "source": [
    "#a\n",
    "print(probabilidad_hipergeometrica(10, 7, 3, 2))\n",
    "#b\n",
    "print(probabilidad_hipergeometrica(10,7,3,2) + probabilidad_hipergeometrica(10,7,3,3))\n"
   ]
  },
  {
   "cell_type": "markdown",
   "metadata": {},
   "source": [
    "6. La probabilidad de que a un estudiante le guste este modulo es de 0.7 (en Henry somos optimistas), cual es la probabilidad de que les guste este módulo a 6 de los 10 estudiantes.<br>"
   ]
  },
  {
   "cell_type": "code",
   "execution_count": 15,
   "metadata": {},
   "outputs": [
    {
     "name": "stdout",
     "output_type": "stream",
     "text": [
      "0.20012094900000005\n"
     ]
    }
   ],
   "source": [
    "print(funcion_binomial(6,10,0.7))"
   ]
  },
  {
   "cell_type": "markdown",
   "metadata": {},
   "source": [
    "7. De todos los push a Git en un Henry Challenge, el 90% lo envía a término. Si se envían 9 ¿cuál es la probabilidad de que 7 lleguen a término?.<br>"
   ]
  },
  {
   "cell_type": "code",
   "execution_count": 16,
   "metadata": {},
   "outputs": [
    {
     "name": "stdout",
     "output_type": "stream",
     "text": [
      "0.17218688399999993\n"
     ]
    }
   ],
   "source": [
    "print(funcion_binomial(7,9,0.9))"
   ]
  },
  {
   "cell_type": "markdown",
   "metadata": {},
   "source": [
    "8. En relación con el enunciado anterior cálcule la probabilidad de que 7 o más lleguen a término.<br>"
   ]
  },
  {
   "cell_type": "code",
   "execution_count": 18,
   "metadata": {},
   "outputs": [
    {
     "name": "stdout",
     "output_type": "stream",
     "text": [
      "0.9470278620000001\n"
     ]
    }
   ],
   "source": [
    "print(funcion_binomial(7,9,0.9) + funcion_binomial(8,9,0.9) + funcion_binomial(9,9,0.9))"
   ]
  },
  {
   "cell_type": "markdown",
   "metadata": {},
   "source": [
    "9. La cantidad de alumnos promedio que se ausentan en un día de clases en la carrera de Data Science es de 10. Calcular cual es la probabilidad de que se ausenten 7 alumnos.<br>"
   ]
  },
  {
   "cell_type": "code",
   "execution_count": 19,
   "metadata": {},
   "outputs": [
    {
     "name": "stdout",
     "output_type": "stream",
     "text": [
      "0.09007922571921602\n"
     ]
    }
   ],
   "source": [
    "print(probabilidad_poisson(10,7))"
   ]
  },
  {
   "cell_type": "markdown",
   "metadata": {},
   "source": [
    "10. Cuando inicia una clase, los estudiantes ingresan a un ritmo de 5 estudiantes por minuto. Calcular cual es la probabilidad de que ingresen 7 estudiantes por minuto.<br>"
   ]
  },
  {
   "cell_type": "code",
   "execution_count": 20,
   "metadata": {},
   "outputs": [
    {
     "name": "stdout",
     "output_type": "stream",
     "text": [
      "0.10444486295705402\n"
     ]
    }
   ],
   "source": [
    "print(probabilidad_poisson(5,7))"
   ]
  },
  {
   "cell_type": "markdown",
   "metadata": {},
   "source": [
    "## Ejercicios complementarios <br>\n",
    "\n",
    "11. Cada 3 días ingresan 10 estudiantes nuevos al Prep Course de Henry, calcule la probabilidad de que ingresen 15 nuevos estudiantes en un período de 6 días.<br>\n"
   ]
  },
  {
   "cell_type": "code",
   "execution_count": 21,
   "metadata": {},
   "outputs": [
    {
     "data": {
      "text/plain": [
       "0.0516488535317584"
      ]
     },
     "execution_count": 21,
     "metadata": {},
     "output_type": "execute_result"
    }
   ],
   "source": [
    "ingd= 10/3\n",
    "\n",
    "probabilidad_poisson(ingd*6, 15)"
   ]
  },
  {
   "cell_type": "markdown",
   "metadata": {},
   "source": [
    "12. En una distribución de Poisson de lamba_np=3, cual es la probabilidad de x>=1.<br>\n",
    "\n"
   ]
  },
  {
   "cell_type": "code",
   "execution_count": 25,
   "metadata": {},
   "outputs": [
    {
     "data": {
      "text/plain": [
       "0.950212931632136"
      ]
     },
     "execution_count": 25,
     "metadata": {},
     "output_type": "execute_result"
    }
   ],
   "source": [
    "1 - probabilidad_poisson(3,0)\n",
    "probabilidad_poisson(3,0)"
   ]
  },
  {
   "cell_type": "code",
   "execution_count": 31,
   "metadata": {},
   "outputs": [
    {
     "name": "stdout",
     "output_type": "stream",
     "text": [
      "0.9502129316321363\n"
     ]
    }
   ],
   "source": [
    "n=100\n",
    "result = 0\n",
    "for x in range (1,n):\n",
    "    result += probabilidad_poisson(3,x)\n",
    "print(result)"
   ]
  },
  {
   "cell_type": "markdown",
   "metadata": {},
   "source": [
    "13. La calificación promedio de los estudiantes de Henry es de 78 con una desviación estandar de 25. Cual es la probabilidad de tener estudiantes con calificaciones mayores o iguales 90.\n",
    "\n",
    "Ver el archivo \"Tablas Distribución.pdf\""
   ]
  },
  {
   "cell_type": "code",
   "execution_count": 32,
   "metadata": {},
   "outputs": [
    {
     "name": "stdout",
     "output_type": "stream",
     "text": [
      "0.48\n"
     ]
    }
   ],
   "source": [
    "from scipy import stats\n",
    "# Encontramos Z en 90 puntos\n",
    "def valorz (x,prom,dev):\n",
    "    z = (x-prom)/dev\n",
    "    return z\n",
    "z = valorz(90,78,25)\n",
    "print(z)"
   ]
  },
  {
   "cell_type": "code",
   "execution_count": 34,
   "metadata": {},
   "outputs": [
    {
     "data": {
      "text/plain": [
       "0.6843863034837774"
      ]
     },
     "execution_count": 34,
     "metadata": {},
     "output_type": "execute_result"
    }
   ],
   "source": [
    "PZ = stats.norm.cdf(z) #Probabilidad que sea menor o igual a z = 0.48\n",
    "PZ"
   ]
  },
  {
   "cell_type": "code",
   "execution_count": 35,
   "metadata": {},
   "outputs": [
    {
     "name": "stdout",
     "output_type": "stream",
     "text": [
      "0.3156136965162226\n"
     ]
    }
   ],
   "source": [
    "# Estamos buscando que sea mayor o igual a Z=0.48\n",
    "PmayorZ = 1- PZ\n",
    "print(PmayorZ)"
   ]
  }
 ],
 "metadata": {
  "kernelspec": {
   "display_name": "Python 3",
   "language": "python",
   "name": "python3"
  },
  "language_info": {
   "codemirror_mode": {
    "name": "ipython",
    "version": 3
   },
   "file_extension": ".py",
   "mimetype": "text/x-python",
   "name": "python",
   "nbconvert_exporter": "python",
   "pygments_lexer": "ipython3",
   "version": "3.12.1"
  }
 },
 "nbformat": 4,
 "nbformat_minor": 2
}
