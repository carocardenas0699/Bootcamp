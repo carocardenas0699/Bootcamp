{
 "cells": [
  {
   "cell_type": "code",
   "execution_count": 1,
   "metadata": {},
   "outputs": [],
   "source": [
    "import pymysql\n",
    "import csv"
   ]
  },
  {
   "cell_type": "code",
   "execution_count": 2,
   "metadata": {},
   "outputs": [],
   "source": [
    "with open('country.csv', 'r') as archivo:\n",
    "    lector_csv = csv.reader(archivo)\n",
    "    next(lector_csv)\n",
    "    country = [ (fila[0], fila[1]) for fila in lector_csv]"
   ]
  },
  {
   "cell_type": "code",
   "execution_count": 3,
   "metadata": {},
   "outputs": [],
   "source": [
    "with open('producto.csv', 'r') as archivo:\n",
    "    lector_csv = csv.reader(archivo)\n",
    "    next(lector_csv)\n",
    "    product = [ (fila[0], fila[1], fila[2]) for fila in lector_csv]"
   ]
  },
  {
   "cell_type": "code",
   "execution_count": 4,
   "metadata": {},
   "outputs": [],
   "source": [
    "with open('Transaction.csv', 'r') as archivo:\n",
    "    lector_csv = csv.reader(archivo)\n",
    "    next(lector_csv)\n",
    "    transactions = [(fila[0], fila[1], fila[2], fila[3], fila[4]) for fila in lector_csv]"
   ]
  },
  {
   "cell_type": "code",
   "execution_count": 5,
   "metadata": {},
   "outputs": [],
   "source": [
    "#Vinculado a la connection de Workbench\n",
    "\n",
    "conexion = pymysql.connect(\n",
    "   host='localhost',\n",
    "   database='e_commerce',\n",
    "   user='root',\n",
    "   password='1475963caro'\n",
    ")"
   ]
  },
  {
   "cell_type": "code",
   "execution_count": 6,
   "metadata": {},
   "outputs": [
    {
     "data": {
      "text/plain": [
       "16"
      ]
     },
     "execution_count": 6,
     "metadata": {},
     "output_type": "execute_result"
    }
   ],
   "source": [
    "cursor = conexion.cursor()\n",
    "query = 'INSERT INTO country VALUES(%s,%s)'\n",
    "cursor.executemany(query, country)\n"
   ]
  },
  {
   "cell_type": "code",
   "execution_count": 7,
   "metadata": {},
   "outputs": [
    {
     "data": {
      "text/plain": [
       "2014"
      ]
     },
     "execution_count": 7,
     "metadata": {},
     "output_type": "execute_result"
    }
   ],
   "source": [
    "cursor = conexion.cursor()\n",
    "query = 'INSERT INTO product VALUES(%s,%s,%s)'\n",
    "cursor.executemany(query, product)"
   ]
  },
  {
   "cell_type": "code",
   "execution_count": 8,
   "metadata": {},
   "outputs": [
    {
     "data": {
      "text/plain": [
       "10000"
      ]
     },
     "execution_count": 8,
     "metadata": {},
     "output_type": "execute_result"
    }
   ],
   "source": [
    "cursor = conexion.cursor()\n",
    "query = 'INSERT INTO transactions(product_id, price, quantity, customerNo, country_id) VALUES(%s,%s,%s,%s,%s)'\n",
    "cursor.executemany(query, transactions)"
   ]
  },
  {
   "cell_type": "code",
   "execution_count": 9,
   "metadata": {},
   "outputs": [],
   "source": [
    "conexion.commit() #Envia la info a workbench"
   ]
  },
  {
   "cell_type": "code",
   "execution_count": 10,
   "metadata": {},
   "outputs": [],
   "source": [
    "conexion.close()"
   ]
  }
 ],
 "metadata": {
  "kernelspec": {
   "display_name": "Python 3",
   "language": "python",
   "name": "python3"
  },
  "language_info": {
   "codemirror_mode": {
    "name": "ipython",
    "version": 3
   },
   "file_extension": ".py",
   "mimetype": "text/x-python",
   "name": "python",
   "nbconvert_exporter": "python",
   "pygments_lexer": "ipython3",
   "version": "3.12.4"
  }
 },
 "nbformat": 4,
 "nbformat_minor": 2
}
