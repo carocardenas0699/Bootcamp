{
 "cells": [
  {
   "cell_type": "markdown",
   "metadata": {},
   "source": [
    "<h1> <center> Tipos de Probabilidad </center> </h1>\n",
    "<h3><center> Ejemplos usando python </center></h3>"
   ]
  },
  {
   "cell_type": "code",
   "execution_count": 1,
   "metadata": {},
   "outputs": [],
   "source": [
    "import pandas as pd\n",
    "from matplotlib import pyplot as plt\n",
    "from matplotlib_venn import venn2, venn3"
   ]
  },
  {
   "cell_type": "code",
   "execution_count": 2,
   "metadata": {},
   "outputs": [
    {
     "data": {
      "text/html": [
       "<div>\n",
       "<style scoped>\n",
       "    .dataframe tbody tr th:only-of-type {\n",
       "        vertical-align: middle;\n",
       "    }\n",
       "\n",
       "    .dataframe tbody tr th {\n",
       "        vertical-align: top;\n",
       "    }\n",
       "\n",
       "    .dataframe thead th {\n",
       "        text-align: right;\n",
       "    }\n",
       "</style>\n",
       "<table border=\"1\" class=\"dataframe\">\n",
       "  <thead>\n",
       "    <tr style=\"text-align: right;\">\n",
       "      <th></th>\n",
       "      <th>1</th>\n",
       "      <th>2</th>\n",
       "      <th>3</th>\n",
       "      <th>4</th>\n",
       "      <th>5</th>\n",
       "      <th>6</th>\n",
       "    </tr>\n",
       "  </thead>\n",
       "  <tbody>\n",
       "    <tr>\n",
       "      <th>1</th>\n",
       "      <td>2</td>\n",
       "      <td>3</td>\n",
       "      <td>4</td>\n",
       "      <td>5</td>\n",
       "      <td>6</td>\n",
       "      <td>7</td>\n",
       "    </tr>\n",
       "    <tr>\n",
       "      <th>2</th>\n",
       "      <td>3</td>\n",
       "      <td>4</td>\n",
       "      <td>5</td>\n",
       "      <td>6</td>\n",
       "      <td>7</td>\n",
       "      <td>8</td>\n",
       "    </tr>\n",
       "    <tr>\n",
       "      <th>3</th>\n",
       "      <td>4</td>\n",
       "      <td>5</td>\n",
       "      <td>6</td>\n",
       "      <td>7</td>\n",
       "      <td>8</td>\n",
       "      <td>9</td>\n",
       "    </tr>\n",
       "    <tr>\n",
       "      <th>4</th>\n",
       "      <td>5</td>\n",
       "      <td>6</td>\n",
       "      <td>7</td>\n",
       "      <td>8</td>\n",
       "      <td>9</td>\n",
       "      <td>10</td>\n",
       "    </tr>\n",
       "    <tr>\n",
       "      <th>5</th>\n",
       "      <td>6</td>\n",
       "      <td>7</td>\n",
       "      <td>8</td>\n",
       "      <td>9</td>\n",
       "      <td>10</td>\n",
       "      <td>11</td>\n",
       "    </tr>\n",
       "    <tr>\n",
       "      <th>6</th>\n",
       "      <td>7</td>\n",
       "      <td>8</td>\n",
       "      <td>9</td>\n",
       "      <td>10</td>\n",
       "      <td>11</td>\n",
       "      <td>12</td>\n",
       "    </tr>\n",
       "  </tbody>\n",
       "</table>\n",
       "</div>"
      ],
      "text/plain": [
       "   1  2  3   4   5   6\n",
       "1  2  3  4   5   6   7\n",
       "2  3  4  5   6   7   8\n",
       "3  4  5  6   7   8   9\n",
       "4  5  6  7   8   9  10\n",
       "5  6  7  8   9  10  11\n",
       "6  7  8  9  10  11  12"
      ]
     },
     "execution_count": 2,
     "metadata": {},
     "output_type": "execute_result"
    }
   ],
   "source": [
    "dados = range(1, 7)\n",
    "df = pd.DataFrame(index=dados, columns=dados)\n",
    "\n",
    "# Llenar el DataFrame con las sumas de los valores de los dados\n",
    "for dado1 in dados:\n",
    "    for dado2 in dados:\n",
    "        df.loc[dado1, dado2] = dado1 + dado2\n",
    "\n",
    "# Mostrar el DataFrame\n",
    "df"
   ]
  },
  {
   "cell_type": "markdown",
   "metadata": {},
   "source": [
    "$$ P(x) = \\frac{Nro.Casos Favorables}{Nro.Casos Posibles} $$"
   ]
  },
  {
   "cell_type": "markdown",
   "metadata": {},
   "source": [
    "### **Ejemplo de probabilidad simple con dados**\n",
    "##### Lanza 2 dados:\n",
    "* ¿Cuál es la probabilidad de que salga un 5?\n",
    "\n",
    "* Probabilidad de que salga el mismo número par \n",
    "\n",
    "* Probabilidad de que salga el mismo número y la suma de ambos de par\n",
    "\n",
    "* Probabilidad de que no sea 5"
   ]
  },
  {
   "cell_type": "code",
   "execution_count": 3,
   "metadata": {},
   "outputs": [
    {
     "name": "stdout",
     "output_type": "stream",
     "text": [
      "caso 1 => 13.88888888888889, caso 2 => 8.333333333333332, caso 3 => 16.666666666666664, caso 4 => 86.11111111111111\n"
     ]
    }
   ],
   "source": [
    "#Al revisar la matriz podemos revisar las combinaciónes, dónde da 5. En este caso da 5.\n",
    "caso1 = (5/36)*100\n",
    "\n",
    "#En este caso se tienen solo 3 combinaciones posibles dónde pueden ambos coincidir en número par, en este caso también impar.\n",
    "caso2 = (3/36)*100\n",
    "\n",
    "#En este caso, todas las veces en que cae el mismo número en ambos casos, justamente caen par, por lo que los resultados posibles es igual a 6.\n",
    "caso3 = (6/36)*100\n",
    "\n",
    "#En este caso, se calcula la probabilidad de 5, y se resta de la probabilidad total.\n",
    "caso4 = (1-(5/36))*100\n",
    "\n",
    "print(f'caso 1 => {caso1}, caso 2 => {caso2}, caso 3 => {caso3}, caso 4 => {caso4}')\n"
   ]
  },
  {
   "cell_type": "markdown",
   "metadata": {},
   "source": [
    "### **Probabilidad simple con cartas de la baraja francesa**"
   ]
  },
  {
   "cell_type": "code",
   "execution_count": 4,
   "metadata": {},
   "outputs": [
    {
     "data": {
      "text/html": [
       "<div>\n",
       "<style scoped>\n",
       "    .dataframe tbody tr th:only-of-type {\n",
       "        vertical-align: middle;\n",
       "    }\n",
       "\n",
       "    .dataframe tbody tr th {\n",
       "        vertical-align: top;\n",
       "    }\n",
       "\n",
       "    .dataframe thead th {\n",
       "        text-align: right;\n",
       "    }\n",
       "</style>\n",
       "<table border=\"1\" class=\"dataframe\">\n",
       "  <thead>\n",
       "    <tr style=\"text-align: right;\">\n",
       "      <th></th>\n",
       "      <th>carta_1</th>\n",
       "      <th>carta_2</th>\n",
       "      <th>carta_3</th>\n",
       "      <th>carta_4</th>\n",
       "      <th>carta_5</th>\n",
       "      <th>carta_6</th>\n",
       "      <th>carta_7</th>\n",
       "      <th>carta_8</th>\n",
       "      <th>carta_9</th>\n",
       "      <th>carta_10</th>\n",
       "      <th>carta_11</th>\n",
       "      <th>carta_12</th>\n",
       "      <th>carta_13</th>\n",
       "      <th>Color</th>\n",
       "    </tr>\n",
       "  </thead>\n",
       "  <tbody>\n",
       "    <tr>\n",
       "      <th>Corazones</th>\n",
       "      <td>As</td>\n",
       "      <td>2</td>\n",
       "      <td>3</td>\n",
       "      <td>4</td>\n",
       "      <td>5</td>\n",
       "      <td>6</td>\n",
       "      <td>7</td>\n",
       "      <td>8</td>\n",
       "      <td>9</td>\n",
       "      <td>10</td>\n",
       "      <td>Jota</td>\n",
       "      <td>Reina</td>\n",
       "      <td>Rey</td>\n",
       "      <td>rojo</td>\n",
       "    </tr>\n",
       "    <tr>\n",
       "      <th>Diamantes</th>\n",
       "      <td>As</td>\n",
       "      <td>2</td>\n",
       "      <td>3</td>\n",
       "      <td>4</td>\n",
       "      <td>5</td>\n",
       "      <td>6</td>\n",
       "      <td>7</td>\n",
       "      <td>8</td>\n",
       "      <td>9</td>\n",
       "      <td>10</td>\n",
       "      <td>Jota</td>\n",
       "      <td>Reina</td>\n",
       "      <td>Rey</td>\n",
       "      <td>rojo</td>\n",
       "    </tr>\n",
       "    <tr>\n",
       "      <th>Tréboles</th>\n",
       "      <td>As</td>\n",
       "      <td>2</td>\n",
       "      <td>3</td>\n",
       "      <td>4</td>\n",
       "      <td>5</td>\n",
       "      <td>6</td>\n",
       "      <td>7</td>\n",
       "      <td>8</td>\n",
       "      <td>9</td>\n",
       "      <td>10</td>\n",
       "      <td>Jota</td>\n",
       "      <td>Reina</td>\n",
       "      <td>Rey</td>\n",
       "      <td>negro</td>\n",
       "    </tr>\n",
       "    <tr>\n",
       "      <th>Picas</th>\n",
       "      <td>As</td>\n",
       "      <td>2</td>\n",
       "      <td>3</td>\n",
       "      <td>4</td>\n",
       "      <td>5</td>\n",
       "      <td>6</td>\n",
       "      <td>7</td>\n",
       "      <td>8</td>\n",
       "      <td>9</td>\n",
       "      <td>10</td>\n",
       "      <td>Jota</td>\n",
       "      <td>Reina</td>\n",
       "      <td>Rey</td>\n",
       "      <td>negro</td>\n",
       "    </tr>\n",
       "  </tbody>\n",
       "</table>\n",
       "</div>"
      ],
      "text/plain": [
       "          carta_1 carta_2 carta_3 carta_4 carta_5 carta_6 carta_7 carta_8  \\\n",
       "Corazones      As       2       3       4       5       6       7       8   \n",
       "Diamantes      As       2       3       4       5       6       7       8   \n",
       "Tréboles       As       2       3       4       5       6       7       8   \n",
       "Picas          As       2       3       4       5       6       7       8   \n",
       "\n",
       "          carta_9 carta_10 carta_11 carta_12 carta_13  Color  \n",
       "Corazones       9       10     Jota    Reina      Rey   rojo  \n",
       "Diamantes       9       10     Jota    Reina      Rey   rojo  \n",
       "Tréboles        9       10     Jota    Reina      Rey  negro  \n",
       "Picas           9       10     Jota    Reina      Rey  negro  "
      ]
     },
     "execution_count": 4,
     "metadata": {},
     "output_type": "execute_result"
    }
   ],
   "source": [
    "cartas = [\"As\", \"2\", \"3\", \"4\", \"5\", \"6\", \"7\", \"8\", \"9\", \"10\", \"Jota\", \"Reina\", \"Rey\"]\n",
    "baraja = {\"Corazones\": cartas,\n",
    "                  \"Diamantes\": cartas,\n",
    "                  \"Tréboles\": cartas,\n",
    "                  \"Picas\": cartas\n",
    "}\n",
    "df_baraja = pd.DataFrame(baraja, index=[f\"carta_{i}\" for i in range(1,14)])\n",
    "\n",
    "df_baraja = df_baraja.transpose()\n",
    "\n",
    "df_baraja[\"Color\"] = ['rojo','rojo','negro','negro']\n",
    "df_baraja\n"
   ]
  },
  {
   "cell_type": "markdown",
   "metadata": {},
   "source": [
    "En este caso, las probabilidades podemos asignarlas de la siguiente manera. "
   ]
  },
  {
   "cell_type": "code",
   "execution_count": 5,
   "metadata": {},
   "outputs": [
    {
     "data": {
      "text/plain": [
       "0.019230769230769232"
      ]
     },
     "execution_count": 5,
     "metadata": {},
     "output_type": "execute_result"
    }
   ],
   "source": [
    "#color\n",
    "26/52\n",
    "#figura\n",
    "13/52\n",
    "#carta\n",
    "1/52\n"
   ]
  },
  {
   "cell_type": "markdown",
   "metadata": {},
   "source": [
    "### Regla de la Suma\n",
    "## *\"Que ocurra una cosa **O** que ocurra otra\"*"
   ]
  },
  {
   "cell_type": "markdown",
   "metadata": {},
   "source": [
    "### Eventos Mutuamente Excluyentes\n",
    "\n",
    "La ocurrencia de un hecho imposibilita la ocurrencia de otro\n",
    "\n",
    "$$ P(A \\cup B) = P(A) + P(B) $$"
   ]
  },
  {
   "cell_type": "markdown",
   "metadata": {},
   "source": [
    "Diagrama de Ven para evento de dados"
   ]
  },
  {
   "cell_type": "code",
   "execution_count": 6,
   "metadata": {},
   "outputs": [
    {
     "data": {
      "image/png": "[encoded data removed]",
      "text/plain": [
       "<Figure size 640x480 with 1 Axes>"
      ]
     },
     "metadata": {},
     "output_type": "display_data"
    }
   ],
   "source": [
    "#Universo 1,2,3,4,5,6\n",
    "impar = set([1,3,5])\n",
    "par = set([2,4,6])\n",
    "conjunto = (1,2,3,4,5,6)\n",
    "\n",
    "v = venn2(subsets=[par,impar],set_labels=(par,impar))\n",
    "\n",
    "plt.title(\"Que salga PAR o IMPAR\")\n",
    "plt.show()\n"
   ]
  },
  {
   "cell_type": "code",
   "execution_count": 7,
   "metadata": {},
   "outputs": [
    {
     "data": {
      "text/plain": [
       "1.0"
      ]
     },
     "execution_count": 7,
     "metadata": {},
     "output_type": "execute_result"
    }
   ],
   "source": [
    "#Leemos probabilidad de par o impar.\n",
    "3/6 + 3/6"
   ]
  },
  {
   "cell_type": "markdown",
   "metadata": {},
   "source": [
    "### Eventos Compatibles\n",
    "$$ P(A \\cup B) = P(A) + P(B) - P(A \\cap B)$$"
   ]
  },
  {
   "cell_type": "code",
   "execution_count": 8,
   "metadata": {},
   "outputs": [
    {
     "data": {
      "image/png": "[encoded data removed]",
      "text/plain": [
       "<Figure size 640x480 with 1 Axes>"
      ]
     },
     "metadata": {},
     "output_type": "display_data"
    }
   ],
   "source": [
    "#Universo 1,2,3,4,5,6\n",
    "par = set([2,4,6])\n",
    "mayores3 = set([4,5,6])\n",
    "\n",
    "\n",
    "v = venn2(subsets=[par, mayores3],set_labels=(par, mayores3))\n",
    "\n",
    "plt.title(\"Que salga PAR o Mayores a 3\")\n",
    "plt.show()\n"
   ]
  },
  {
   "cell_type": "code",
   "execution_count": 9,
   "metadata": {},
   "outputs": [
    {
     "data": {
      "text/plain": [
       "0.6666666666666667"
      ]
     },
     "execution_count": 9,
     "metadata": {},
     "output_type": "execute_result"
    }
   ],
   "source": [
    "#Probabilidad de par o mayores a 3\n",
    "3/6 + 3/6 - 2/6"
   ]
  },
  {
   "cell_type": "markdown",
   "metadata": {},
   "source": [
    "Ejemplo con autos. \n",
    "* Que la venta sea un carro Nacional o Importado\n",
    "* Que sea nacional o menos de 40 años"
   ]
  },
  {
   "cell_type": "code",
   "execution_count": 10,
   "metadata": {},
   "outputs": [
    {
     "data": {
      "text/html": [
       "<div>\n",
       "<style scoped>\n",
       "    .dataframe tbody tr th:only-of-type {\n",
       "        vertical-align: middle;\n",
       "    }\n",
       "\n",
       "    .dataframe tbody tr th {\n",
       "        vertical-align: top;\n",
       "    }\n",
       "\n",
       "    .dataframe thead th {\n",
       "        text-align: right;\n",
       "    }\n",
       "</style>\n",
       "<table border=\"1\" class=\"dataframe\">\n",
       "  <thead>\n",
       "    <tr style=\"text-align: right;\">\n",
       "      <th></th>\n",
       "      <th>nacional</th>\n",
       "      <th>importado</th>\n",
       "      <th>total</th>\n",
       "    </tr>\n",
       "  </thead>\n",
       "  <tbody>\n",
       "    <tr>\n",
       "      <th>Menos de 40</th>\n",
       "      <td>24</td>\n",
       "      <td>6</td>\n",
       "      <td>30</td>\n",
       "    </tr>\n",
       "    <tr>\n",
       "      <th>Entre 40 y 50</th>\n",
       "      <td>19</td>\n",
       "      <td>15</td>\n",
       "      <td>34</td>\n",
       "    </tr>\n",
       "    <tr>\n",
       "      <th>Mas de 50</th>\n",
       "      <td>7</td>\n",
       "      <td>9</td>\n",
       "      <td>16</td>\n",
       "    </tr>\n",
       "    <tr>\n",
       "      <th>Total</th>\n",
       "      <td>50</td>\n",
       "      <td>30</td>\n",
       "      <td>80</td>\n",
       "    </tr>\n",
       "  </tbody>\n",
       "</table>\n",
       "</div>"
      ],
      "text/plain": [
       "               nacional  importado  total\n",
       "Menos de 40          24          6     30\n",
       "Entre 40 y 50        19         15     34\n",
       "Mas de 50             7          9     16\n",
       "Total                50         30     80"
      ]
     },
     "execution_count": 10,
     "metadata": {},
     "output_type": "execute_result"
    }
   ],
   "source": [
    "valores = {\"nacional\": [24,19,7, 50],\n",
    "            \"importado\": [6,15,9, 30],\n",
    "            \"total\": [30,34,16, 80]}\n",
    "df_autos = pd.DataFrame(valores, index=['Menos de 40',\"Entre 40 y 50\", \"Mas de 50\", \"Total\"])\n",
    "df_autos"
   ]
  },
  {
   "cell_type": "code",
   "execution_count": 22,
   "metadata": {},
   "outputs": [
    {
     "data": {
      "image/png": "[encoded data removed]",
      "text/plain": [
       "<Figure size 640x480 with 1 Axes>"
      ]
     },
     "metadata": {},
     "output_type": "display_data"
    }
   ],
   "source": [
    "#Universo 1,2,3,4,5,6\n",
    "nacional = set([\"nacional\"])\n",
    "importado = set([\"importado\"])\n",
    "\n",
    "\n",
    "v = venn2(subsets=[nacional, importado],set_labels=(nacional, importado))\n",
    "\n",
    "plt.title(\"Que salga nacional o importado\")\n",
    "plt.show()\n"
   ]
  },
  {
   "cell_type": "code",
   "execution_count": 12,
   "metadata": {},
   "outputs": [
    {
     "data": {
      "text/plain": [
       "1.0"
      ]
     },
     "execution_count": 12,
     "metadata": {},
     "output_type": "execute_result"
    }
   ],
   "source": [
    "50/80 + 30/80"
   ]
  },
  {
   "cell_type": "code",
   "execution_count": 21,
   "metadata": {},
   "outputs": [
    {
     "data": {
      "image/png": "[encoded data removed]",
      "text/plain": [
       "<Figure size 640x480 with 1 Axes>"
      ]
     },
     "metadata": {},
     "output_type": "display_data"
    }
   ],
   "source": [
    "#Universo 1,2,3,4,5,6\n",
    "nacional = set([24,19,7])\n",
    "menos_40 = set([24,6])\n",
    "\n",
    "\n",
    "v = venn2(subsets=[nacional, menos_40],set_labels=(nacional, menos_40))\n",
    "\n",
    "plt.title(\"Que sea nacional o menos de 40 años\")\n",
    "plt.show()"
   ]
  },
  {
   "cell_type": "code",
   "execution_count": 14,
   "metadata": {},
   "outputs": [
    {
     "data": {
      "text/html": [
       "<div>\n",
       "<style scoped>\n",
       "    .dataframe tbody tr th:only-of-type {\n",
       "        vertical-align: middle;\n",
       "    }\n",
       "\n",
       "    .dataframe tbody tr th {\n",
       "        vertical-align: top;\n",
       "    }\n",
       "\n",
       "    .dataframe thead th {\n",
       "        text-align: right;\n",
       "    }\n",
       "</style>\n",
       "<table border=\"1\" class=\"dataframe\">\n",
       "  <thead>\n",
       "    <tr style=\"text-align: right;\">\n",
       "      <th></th>\n",
       "      <th>nacional</th>\n",
       "      <th>importado</th>\n",
       "      <th>total</th>\n",
       "    </tr>\n",
       "  </thead>\n",
       "  <tbody>\n",
       "    <tr>\n",
       "      <th>Menos de 40</th>\n",
       "      <td>24</td>\n",
       "      <td>6</td>\n",
       "      <td>30</td>\n",
       "    </tr>\n",
       "    <tr>\n",
       "      <th>Entre 40 y 50</th>\n",
       "      <td>19</td>\n",
       "      <td>15</td>\n",
       "      <td>34</td>\n",
       "    </tr>\n",
       "    <tr>\n",
       "      <th>Mas de 50</th>\n",
       "      <td>7</td>\n",
       "      <td>9</td>\n",
       "      <td>16</td>\n",
       "    </tr>\n",
       "    <tr>\n",
       "      <th>Total</th>\n",
       "      <td>50</td>\n",
       "      <td>30</td>\n",
       "      <td>80</td>\n",
       "    </tr>\n",
       "  </tbody>\n",
       "</table>\n",
       "</div>"
      ],
      "text/plain": [
       "               nacional  importado  total\n",
       "Menos de 40          24          6     30\n",
       "Entre 40 y 50        19         15     34\n",
       "Mas de 50             7          9     16\n",
       "Total                50         30     80"
      ]
     },
     "execution_count": 14,
     "metadata": {},
     "output_type": "execute_result"
    }
   ],
   "source": [
    "df_autos"
   ]
  },
  {
   "cell_type": "code",
   "execution_count": 15,
   "metadata": {},
   "outputs": [
    {
     "data": {
      "text/plain": [
       "0.7"
      ]
     },
     "execution_count": 15,
     "metadata": {},
     "output_type": "execute_result"
    }
   ],
   "source": [
    "#probabilidad de nacional + probabilidad menos de 40, menos la intersección. \n",
    "(50/80) + (30/80) - (24/80)"
   ]
  },
  {
   "cell_type": "markdown",
   "metadata": {},
   "source": [
    "### Ley Multiplicación\n",
    "### *\"Que ocurra una cosa **y** que ocurra otra\"*\n",
    "\"2 o mas eventos ocurran a la vez\""
   ]
  },
  {
   "cell_type": "markdown",
   "metadata": {},
   "source": [
    "Eventos Independientes\n",
    "$$ P(A \\cap B) = P(A) * P(B) $$"
   ]
  },
  {
   "cell_type": "code",
   "execution_count": 16,
   "metadata": {},
   "outputs": [
    {
     "name": "stdout",
     "output_type": "stream",
     "text": [
      "a\n",
      "0.125\n"
     ]
    }
   ],
   "source": [
    "import random\n",
    "lista = ['a','a','a','c','c','c','d','d','d','d','d','d']\n",
    "i = random.randint(0,len(lista)-1)\n",
    "print(lista[i])\n",
    "\n",
    "#Calcular la probabilidad de si al consultar un elemento de la lista, de forma aleatoria la lista, la primera vez sea \"a\" y la segunda \"d\". \"CON REMPLAZO\"\n",
    "print(3/12 * 6/12)\n"
   ]
  },
  {
   "cell_type": "markdown",
   "metadata": {},
   "source": [
    "Eventos Dependientes\n",
    "$$ P(A \\cap B) = P(A) * P(B | A) $$\n",
    "$$ P(A \\cap B) = P(A) * P(A | B) $$"
   ]
  },
  {
   "cell_type": "code",
   "execution_count": 20,
   "metadata": {},
   "outputs": [
    {
     "name": "stdout",
     "output_type": "stream",
     "text": [
      "0.13636363636363635\n",
      "0.045454545454545456\n"
     ]
    }
   ],
   "source": [
    "#Calcular la probabilidad de si extraer un elemento de la lista, de forma aleatoria la lista, la primera vez sea \"a\" y la segunda \"d\", dado que ya he sacado una \"a\". \"SIN REMPLAZO\"\n",
    "print(3/12 * 6/11)\n",
    "\n",
    "#Calcular la probabilidad de si extraer un elemento de la lista, de forma aleatoria la lista, la primera vez sea \"a\" y la segunda \"a\", dado que ya he sacado una \"a\". \"SIN REMPLAZO\"\n",
    "(print(3/12 * 2/11))"
   ]
  },
  {
   "cell_type": "markdown",
   "metadata": {},
   "source": [
    "### Probabilidad Condicional\n",
    "\n",
    "La ocurrencia de un hecho está definida por una condición preexistente\n",
    "\n",
    "$$ P(A|B) = \\frac{P(A \\cap B)}{P(B)} $$"
   ]
  },
  {
   "cell_type": "code",
   "execution_count": 18,
   "metadata": {},
   "outputs": [
    {
     "data": {
      "text/html": [
       "<div>\n",
       "<style scoped>\n",
       "    .dataframe tbody tr th:only-of-type {\n",
       "        vertical-align: middle;\n",
       "    }\n",
       "\n",
       "    .dataframe tbody tr th {\n",
       "        vertical-align: top;\n",
       "    }\n",
       "\n",
       "    .dataframe thead th {\n",
       "        text-align: right;\n",
       "    }\n",
       "</style>\n",
       "<table border=\"1\" class=\"dataframe\">\n",
       "  <thead>\n",
       "    <tr style=\"text-align: right;\">\n",
       "      <th></th>\n",
       "      <th>nacional</th>\n",
       "      <th>importado</th>\n",
       "      <th>total</th>\n",
       "    </tr>\n",
       "  </thead>\n",
       "  <tbody>\n",
       "    <tr>\n",
       "      <th>Menos de 40</th>\n",
       "      <td>24</td>\n",
       "      <td>6</td>\n",
       "      <td>30</td>\n",
       "    </tr>\n",
       "    <tr>\n",
       "      <th>Entre 40 y 50</th>\n",
       "      <td>19</td>\n",
       "      <td>15</td>\n",
       "      <td>34</td>\n",
       "    </tr>\n",
       "    <tr>\n",
       "      <th>Mas de 50</th>\n",
       "      <td>7</td>\n",
       "      <td>9</td>\n",
       "      <td>16</td>\n",
       "    </tr>\n",
       "    <tr>\n",
       "      <th>Total</th>\n",
       "      <td>50</td>\n",
       "      <td>30</td>\n",
       "      <td>80</td>\n",
       "    </tr>\n",
       "  </tbody>\n",
       "</table>\n",
       "</div>"
      ],
      "text/plain": [
       "               nacional  importado  total\n",
       "Menos de 40          24          6     30\n",
       "Entre 40 y 50        19         15     34\n",
       "Mas de 50             7          9     16\n",
       "Total                50         30     80"
      ]
     },
     "execution_count": 18,
     "metadata": {},
     "output_type": "execute_result"
    }
   ],
   "source": [
    "df_autos"
   ]
  },
  {
   "cell_type": "code",
   "execution_count": 19,
   "metadata": {},
   "outputs": [
    {
     "name": "stdout",
     "output_type": "stream",
     "text": [
      "0.48\n",
      "0.48\n",
      "0.3\n",
      "0.3\n"
     ]
    }
   ],
   "source": [
    "#Cual es la probabilidad de realizar una venta de auto nacional, si el cliente tiene menos de 40 años.\n",
    "\n",
    "p_a_n = 50/80\n",
    "union = 24/80\n",
    "probabilidad = union/p_a_n\n",
    "print(probabilidad)\n",
    "\n",
    "#solo intersección y total segmentado\n",
    "print(24/50)\n",
    "\n",
    "#comprobación \n",
    "print(union)\n",
    "print((50/80)*(24/50))"
   ]
  }
 ],
 "metadata": {
  "kernelspec": {
   "display_name": "Python 3",
   "language": "python",
   "name": "python3"
  },
  "language_info": {
   "codemirror_mode": {
    "name": "ipython",
    "version": 3
   },
   "file_extension": ".py",
   "mimetype": "text/x-python",
   "name": "python",
   "nbconvert_exporter": "python",
   "pygments_lexer": "ipython3",
   "version": "3.12.1"
  }
 },
 "nbformat": 4,
 "nbformat_minor": 2
}
