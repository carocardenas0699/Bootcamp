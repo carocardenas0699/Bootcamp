{
 "cells": [
  {
   "cell_type": "markdown",
   "metadata": {},
   "source": [
    "Experimento Binomial"
   ]
  },
  {
   "cell_type": "markdown",
   "metadata": {},
   "source": [
    "ROPIEDADES DE UN EXPERIMENTO BINOMIAL\n",
    "\n",
    "$f(x) = \\begin{pmatrix} n \\cr x \\cr \\end{pmatrix} p ^ x (1 - p)^(n-x) $\n",
    "\n",
    "1. El experimento consiste en una serie de n ensayos idénticos.\n",
    "2. En cada ensayo hay dos resultados posibles. A uno de estos resultados se le llama\n",
    "éxito y al otro se le llama fracaso.\n",
    "3. La probabilidad de éxito, que se denota p, no cambia de un ensayo a otro. Por ende,\n",
    "la probabilidad de fracaso, que se denota $ 1-P $, tampoco cambia de un ensayo a\n",
    "otro.\n",
    "4. Los ensayos son independientes\n",
    "\n",
    "Caso: Una novela ha tenido un gran éxito, y se estima que el 80% de un\n",
    "grupo de lectores ya la han leído.\n",
    "En un grupo de 4 amigos aficionados a la lectura:\n",
    "* ¿Cuál es la probabilidad de que en el grupo hayan leído la novela\n",
    "2 personas?\n",
    "\n",
    "Caso binario :\n",
    "Haber leído la novela - No haber leído la novela"
   ]
  },
  {
   "cell_type": "code",
   "execution_count": 5,
   "metadata": {},
   "outputs": [],
   "source": [
    "from math import e, factorial"
   ]
  },
  {
   "cell_type": "code",
   "execution_count": 2,
   "metadata": {},
   "outputs": [
    {
     "data": {
      "text/plain": [
       "0.15359999999999996"
      ]
     },
     "execution_count": 2,
     "metadata": {},
     "output_type": "execute_result"
    }
   ],
   "source": [
    "def funcion_binomial(k,n,p):\n",
    "  \"\"\"p = probabilidad de exitos\n",
    "     n = espacio muestral\n",
    "     k = numero de exitos\"\"\"\n",
    "  num_exitos = factorial(n)\n",
    "  num_eventos = factorial (k) * factorial(n-k)\n",
    "  exitos_fracaso = pow(p,k) * pow(1-p,(n-k))\n",
    "\n",
    "  binomial = (num_exitos / num_eventos) * exitos_fracaso\n",
    "\n",
    "  return binomial\n",
    "#p = 0.80 -> La probabilidad de éxitos dado en el ejercicio\n",
    "#n = 4 -> Espacio muestral de la cantidad de ensayos a realizar\n",
    "#k = 2 -> Equivale al número de éxitos que queremos conseguir\n",
    "\n",
    "funcion_binomial(2,4,0.8)"
   ]
  },
  {
   "cell_type": "markdown",
   "metadata": {},
   "source": [
    "Distribución de Poison\n",
    "\n",
    "$$ f(x) = \\frac{\\lambda^2 e ^{-\\lambda}}{x!} $$\n",
    "\n",
    "f(x) = probabilidad de x ocurrencias en un intervalo <br>\n",
    "$\\lambda$ = valor esperado o número medio de ocurrencias en un intervalo <br>\n",
    "e = 2.71828<br>\n",
    "\n",
    "### PROBABILIDADES DE UN EXPERIMENTO DE POISSON\n",
    "1. La probabilidad de ocurrencia es la misma para cualesquiera dos intervalos de la\n",
    "misma magnitud.\n",
    "2. La ocurrencia o no-ocurrencia en cualquier intervalo es independiente de la ocurrencia o no-ocurrencia en cualquier otro intervalo.\n",
    "\n",
    "Caso: La probabilidad de que en el lapso de una semana en el taller de \n",
    "la concesionaria uno de los autos vendidos tenga problemas \n",
    "cubiertos por la garantía es 0,02. Suponiendo que en el taller \n",
    "se atienden 450 autos semanalmente. \n",
    "* ¿Cuál es la probabilidad de que se presenten 5 autos con \n",
    "problemas por semana?\n"
   ]
  },
  {
   "cell_type": "code",
   "execution_count": 6,
   "metadata": {},
   "outputs": [],
   "source": [
    "#DISTRIBUCIÓN DE POISSON\n",
    "def probabilidad_poisson(lamba_np,x):\n",
    "    \"\"\"lamba = número medio de ocurrencias en un intervalo\n",
    "       x = los numeros de caso\n",
    "    \"\"\"\n",
    "    probabilidad = (pow(e,-lamba_np) * pow(lamba_np,x))/factorial(x)\n",
    "    return probabilidad"
   ]
  },
  {
   "cell_type": "code",
   "execution_count": 7,
   "metadata": {},
   "outputs": [
    {
     "data": {
      "text/plain": [
       "0.060726879345952875"
      ]
     },
     "execution_count": 7,
     "metadata": {},
     "output_type": "execute_result"
    }
   ],
   "source": [
    "probabilidad_poisson((450*0.02),5)"
   ]
  },
  {
   "cell_type": "markdown",
   "metadata": {},
   "source": [
    "### Distribución Hipergeométrica\n",
    "\n",
    "$$ f(x)= \\frac{\\begin{pmatrix}X\\cr x\\cr \\end{pmatrix} \\begin{pmatrix} N - X\\cr n - x\\cr \\end{pmatrix}}{\\begin{pmatrix}N\\cr n\\cr \\end{pmatrix}} $$\n",
    "\n",
    "f(x) = probabilidad de x éxitos en n ensayos <br>\n",
    "n = número de ensayos <br>\n",
    "N = número de elementos en la población <br>\n",
    "X = número de elementos en la población considerados como éxitos <br>\n",
    "\n",
    "Una distribución de probabilidad hipergeométrica está estrechamente relacionada con la distribución binomial. Pero difieren en dos puntos: en la distribución hipergeométrica los ensayos no son independientes y la probabilidad de éxito varía de ensayo a ensayo."
   ]
  },
  {
   "cell_type": "markdown",
   "metadata": {},
   "source": [
    "Ejemplo\n",
    "Una empresa que importa los autos que vende una \n",
    "concesionaria, desea hacer una encuesta de satisfacción a los \n",
    "compradores de estos autos. De una muestra de 80 autos, 30 \n",
    "son importados. \n",
    "* Si se seleccionan 9 clientes. ¿Cuál es la probabilidad de que \n",
    "haya 2 que compraron autos importados?"
   ]
  },
  {
   "cell_type": "code",
   "execution_count": 11,
   "metadata": {},
   "outputs": [
    {
     "data": {
      "text/plain": [
       "0.18736377022633674"
      ]
     },
     "execution_count": 11,
     "metadata": {},
     "output_type": "execute_result"
    }
   ],
   "source": [
    "#DISTRIBUCIÓN HIPERGEOMÉTRICA\n",
    "from scipy import stats\n",
    "#M es N, N es n, n es k, k es x\n",
    "\n",
    "# hypergeom.cdf(x, M, n, N)\n",
    "#hypergeo = stats.hypergeom(M,n,N)\n",
    "\n",
    "def probabilidad_hipergeometrica(N,X,n,x):\n",
    "    \"\"\"N = Población\n",
    "       X = Condición\n",
    "       n = Muestra\n",
    "       x = Variable que queremos conseguir, la probabilidad\"\"\"\n",
    "\n",
    "    Xx = factorial(X)/(factorial(x)*factorial(X-x))\n",
    "    NX_nx= factorial(N-X)/(factorial(n-x)*factorial((N-X)-(n-x)))\n",
    "    Nn = factorial(N)/(factorial(n)*factorial(N-n))\n",
    "    hipergeometrica = (Xx * NX_nx)/Nn\n",
    "\n",
    "    return hipergeometrica\n",
    "\n",
    "probabilidad_hipergeometrica(80, 30, 9, 2)\n"
   ]
  }
 ],
 "metadata": {
  "kernelspec": {
   "display_name": "Python 3",
   "language": "python",
   "name": "python3"
  },
  "language_info": {
   "codemirror_mode": {
    "name": "ipython",
    "version": 3
   },
   "file_extension": ".py",
   "mimetype": "text/x-python",
   "name": "python",
   "nbconvert_exporter": "python",
   "pygments_lexer": "ipython3",
   "version": "3.12.1"
  }
 },
 "nbformat": 4,
 "nbformat_minor": 2
}
