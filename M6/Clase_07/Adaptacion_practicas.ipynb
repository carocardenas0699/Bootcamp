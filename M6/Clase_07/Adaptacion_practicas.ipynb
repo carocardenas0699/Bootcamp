{
 "cells": [
  {
   "cell_type": "code",
   "execution_count": null,
   "metadata": {},
   "outputs": [],
   "source": [
    "import pandas as pd\n",
    "from sklearn.decomposition import PCA\n",
    "data = pd.read_csv('..\\Datasets\\Clase_08_weatherAUS.csv')\n",
    "# Dropeamos columnas con muchos faltantes\n",
    "columnas_descartables = ['Sunshine','Evaporation','Cloud3pm','Cloud9am','Location','Date']\n",
    "data = data.drop(columns=columnas_descartables)\n",
    "data = data.dropna()\n",
    "# Dropeamos las columnas categóricas para facilitar el análisis\n",
    "columnas_descartables = ['WindGustDir','WindDir9am','WindDir3pm','RainToday']\n",
    "data = data.drop(columns=columnas_descartables)\n",
    "# Variables que dropeamos a partir del mapa de calor\n",
    "data = data.drop(columns=['Temp3pm', 'Pressure9am'])\n",
    "# Mapeamos la variable de salida\n",
    "data['RainTomorrow'] = data['RainTomorrow'].map({'Yes':1,'No':0})\n",
    "data=data[:10000]\n",
    "\n",
    "X = data.drop(columns = 'RainTomorrow')\n",
    "y = data.RainTomorrow\n",
    "# Separamos los datos en train y test (hold-out)\n",
    "X_train, X_test, y_train, y_test = train_test_split(X, y, test_size=0.30, random_state=42, stratify = y)"
   ]
  }
 ],
 "metadata": {
  "language_info": {
   "name": "python"
  }
 },
 "nbformat": 4,
 "nbformat_minor": 2
}
