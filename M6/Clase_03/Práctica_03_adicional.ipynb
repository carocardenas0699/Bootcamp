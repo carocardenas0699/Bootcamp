{
 "cells": [
  {
   "cell_type": "code",
   "execution_count": 16,
   "id": "c68c6aa9-b002-4756-9fe7-950442c55f29",
   "metadata": {},
   "outputs": [],
   "source": [
    "import matplotlib.pyplot as plt\n",
    "import numpy as np\n",
    "import pandas as pd\n",
    "import seaborn as sns"
   ]
  },
  {
   "cell_type": "markdown",
   "id": "6e8acbf5-7ebc-41fe-9d4c-e108c23e4c7e",
   "metadata": {},
   "source": [
    "# Underfitting, Overfitting y métricas de evaluación"
   ]
  },
  {
   "cell_type": "markdown",
   "id": "1afa45d5-90e1-4764-abfb-a2e79a48c17a",
   "metadata": {},
   "source": [
    "Teniendo en cuenta la práctica 1 y 2 de esta clase, usar los siguientes datos de conversiones"
   ]
  },
  {
   "cell_type": "code",
   "execution_count": 17,
   "id": "256a20c0-dcc0-4cf9-a7d4-11fcc3d1cc57",
   "metadata": {},
   "outputs": [],
   "source": [
    "data = pd.read_csv(\"../Datasets/conversiones.csv\")"
   ]
  },
  {
   "cell_type": "code",
   "execution_count": 18,
   "id": "f60f0f16-b6fb-455a-9ce7-b466a23c0526",
   "metadata": {},
   "outputs": [
    {
     "data": {
      "text/html": [
       "<div>\n",
       "<style scoped>\n",
       "    .dataframe tbody tr th:only-of-type {\n",
       "        vertical-align: middle;\n",
       "    }\n",
       "\n",
       "    .dataframe tbody tr th {\n",
       "        vertical-align: top;\n",
       "    }\n",
       "\n",
       "    .dataframe thead th {\n",
       "        text-align: right;\n",
       "    }\n",
       "</style>\n",
       "<table border=\"1\" class=\"dataframe\">\n",
       "  <thead>\n",
       "    <tr style=\"text-align: right;\">\n",
       "      <th></th>\n",
       "      <th>Costo1</th>\n",
       "      <th>Costo2</th>\n",
       "      <th>Topico</th>\n",
       "      <th>Quincena</th>\n",
       "      <th>TipoProducto</th>\n",
       "      <th>Conversion</th>\n",
       "    </tr>\n",
       "  </thead>\n",
       "  <tbody>\n",
       "    <tr>\n",
       "      <th>0</th>\n",
       "      <td>0.341</td>\n",
       "      <td>0.299</td>\n",
       "      <td>2</td>\n",
       "      <td>7</td>\n",
       "      <td>1</td>\n",
       "      <td>Si</td>\n",
       "    </tr>\n",
       "    <tr>\n",
       "      <th>1</th>\n",
       "      <td>0.151</td>\n",
       "      <td>0.079</td>\n",
       "      <td>2</td>\n",
       "      <td>8</td>\n",
       "      <td>1</td>\n",
       "      <td>Si</td>\n",
       "    </tr>\n",
       "    <tr>\n",
       "      <th>2</th>\n",
       "      <td>0.384</td>\n",
       "      <td>0.324</td>\n",
       "      <td>4</td>\n",
       "      <td>9</td>\n",
       "      <td>1</td>\n",
       "      <td>Si</td>\n",
       "    </tr>\n",
       "    <tr>\n",
       "      <th>3</th>\n",
       "      <td>0.200</td>\n",
       "      <td>0.192</td>\n",
       "      <td>4</td>\n",
       "      <td>9</td>\n",
       "      <td>1</td>\n",
       "      <td>Si</td>\n",
       "    </tr>\n",
       "    <tr>\n",
       "      <th>4</th>\n",
       "      <td>0.415</td>\n",
       "      <td>0.020</td>\n",
       "      <td>2</td>\n",
       "      <td>8</td>\n",
       "      <td>1</td>\n",
       "      <td>Si</td>\n",
       "    </tr>\n",
       "  </tbody>\n",
       "</table>\n",
       "</div>"
      ],
      "text/plain": [
       "   Costo1  Costo2  Topico  Quincena  TipoProducto Conversion\n",
       "0   0.341   0.299       2         7             1         Si\n",
       "1   0.151   0.079       2         8             1         Si\n",
       "2   0.384   0.324       4         9             1         Si\n",
       "3   0.200   0.192       4         9             1         Si\n",
       "4   0.415   0.020       2         8             1         Si"
      ]
     },
     "execution_count": 18,
     "metadata": {},
     "output_type": "execute_result"
    }
   ],
   "source": [
    "data.head()"
   ]
  },
  {
   "cell_type": "markdown",
   "id": "ec19ac7f-38d1-485e-9782-0a3281d2be92",
   "metadata": {},
   "source": [
    "## Pasar variable categórica a variable numérica"
   ]
  },
  {
   "cell_type": "markdown",
   "id": "fa15721b-98cd-445b-a86c-4f40674d8d0a",
   "metadata": {},
   "source": [
    "Con el método categorical pasamos la variable categórica a 1 y 0, para poder clasificar y predecir"
   ]
  },
  {
   "cell_type": "code",
   "execution_count": 19,
   "id": "c3a0bc00-5397-4f3a-9a0f-10f9784f46ab",
   "metadata": {},
   "outputs": [],
   "source": [
    "data[\"Conversion\"] = pd.Categorical(data[\"Conversion\"]).codes"
   ]
  },
  {
   "cell_type": "code",
   "execution_count": 20,
   "id": "290d6526-b30c-4e11-acb7-8981f8bf7bb4",
   "metadata": {},
   "outputs": [
    {
     "data": {
      "text/html": [
       "<div>\n",
       "<style scoped>\n",
       "    .dataframe tbody tr th:only-of-type {\n",
       "        vertical-align: middle;\n",
       "    }\n",
       "\n",
       "    .dataframe tbody tr th {\n",
       "        vertical-align: top;\n",
       "    }\n",
       "\n",
       "    .dataframe thead th {\n",
       "        text-align: right;\n",
       "    }\n",
       "</style>\n",
       "<table border=\"1\" class=\"dataframe\">\n",
       "  <thead>\n",
       "    <tr style=\"text-align: right;\">\n",
       "      <th></th>\n",
       "      <th>Costo1</th>\n",
       "      <th>Costo2</th>\n",
       "      <th>Topico</th>\n",
       "      <th>Quincena</th>\n",
       "      <th>TipoProducto</th>\n",
       "      <th>Conversion</th>\n",
       "    </tr>\n",
       "  </thead>\n",
       "  <tbody>\n",
       "    <tr>\n",
       "      <th>0</th>\n",
       "      <td>0.341</td>\n",
       "      <td>0.299</td>\n",
       "      <td>2</td>\n",
       "      <td>7</td>\n",
       "      <td>1</td>\n",
       "      <td>1</td>\n",
       "    </tr>\n",
       "    <tr>\n",
       "      <th>1</th>\n",
       "      <td>0.151</td>\n",
       "      <td>0.079</td>\n",
       "      <td>2</td>\n",
       "      <td>8</td>\n",
       "      <td>1</td>\n",
       "      <td>1</td>\n",
       "    </tr>\n",
       "    <tr>\n",
       "      <th>2</th>\n",
       "      <td>0.384</td>\n",
       "      <td>0.324</td>\n",
       "      <td>4</td>\n",
       "      <td>9</td>\n",
       "      <td>1</td>\n",
       "      <td>1</td>\n",
       "    </tr>\n",
       "    <tr>\n",
       "      <th>3</th>\n",
       "      <td>0.200</td>\n",
       "      <td>0.192</td>\n",
       "      <td>4</td>\n",
       "      <td>9</td>\n",
       "      <td>1</td>\n",
       "      <td>1</td>\n",
       "    </tr>\n",
       "    <tr>\n",
       "      <th>4</th>\n",
       "      <td>0.415</td>\n",
       "      <td>0.020</td>\n",
       "      <td>2</td>\n",
       "      <td>8</td>\n",
       "      <td>1</td>\n",
       "      <td>1</td>\n",
       "    </tr>\n",
       "  </tbody>\n",
       "</table>\n",
       "</div>"
      ],
      "text/plain": [
       "   Costo1  Costo2  Topico  Quincena  TipoProducto  Conversion\n",
       "0   0.341   0.299       2         7             1           1\n",
       "1   0.151   0.079       2         8             1           1\n",
       "2   0.384   0.324       4         9             1           1\n",
       "3   0.200   0.192       4         9             1           1\n",
       "4   0.415   0.020       2         8             1           1"
      ]
     },
     "execution_count": 20,
     "metadata": {},
     "output_type": "execute_result"
    }
   ],
   "source": [
    "data.head()"
   ]
  },
  {
   "cell_type": "markdown",
   "id": "b5235eee-c4d6-484d-b6cd-3b9d608eb9d1",
   "metadata": {},
   "source": [
    "Analizamos ciertas correlaciones vemos que la costo 1 y costo 2 tiene una correlación significativa con respecto a las demás variables."
   ]
  },
  {
   "cell_type": "code",
   "execution_count": 22,
   "id": "3fd3707a-f878-4896-aca0-0822a6ea3eff",
   "metadata": {},
   "outputs": [
    {
     "data": {
      "text/plain": [
       "<Axes: >"
      ]
     },
     "execution_count": 22,
     "metadata": {},
     "output_type": "execute_result"
    },
    {
     "data": {
      "image/png": "[encoded data removed]",
      "text/plain": [
       "<Figure size 1000x1000 with 2 Axes>"
      ]
     },
     "metadata": {},
     "output_type": "display_data"
    }
   ],
   "source": [
    "\n",
    "corr = data.corr()\n",
    "plt.figure(figsize=(10,10))\n",
    "sns.heatmap(corr, annot=True, cmap='coolwarm')\n"
   ]
  },
  {
   "cell_type": "markdown",
   "id": "2958e094-41b5-46d3-bae2-5c6a1f3fb22e",
   "metadata": {},
   "source": [
    "Es hora de generar nuestro algoritmo en este caso usaremos K vecinos más cercanos con K=1"
   ]
  },
  {
   "cell_type": "code",
   "execution_count": 23,
   "id": "58a1317d-5716-44f4-9a9a-3117785ec11f",
   "metadata": {},
   "outputs": [],
   "source": [
    "from sklearn.neighbors import KNeighborsClassifier\n",
    "clf = KNeighborsClassifier(n_neighbors=1)"
   ]
  },
  {
   "cell_type": "markdown",
   "id": "a49cfd5a-d6f4-455c-bc0a-5fae096b1943",
   "metadata": {},
   "source": [
    "Para este caso usaremos **Conversion** como la variable de salida, y como variable de entrada los demás datos:"
   ]
  },
  {
   "cell_type": "code",
   "execution_count": 24,
   "id": "796ad58f-bbfa-46a1-a08d-0d5334f7a407",
   "metadata": {},
   "outputs": [],
   "source": [
    "y = data[\"Conversion\"]\n",
    "x = data.drop([\"Conversion\"], axis = 1)"
   ]
  },
  {
   "cell_type": "code",
   "execution_count": 25,
   "id": "d0797cc7-5212-4b63-ae72-bf2d1f015d35",
   "metadata": {},
   "outputs": [
    {
     "data": {
      "text/html": [
       "<style>#sk-container-id-1 {color: black;}#sk-container-id-1 pre{padding: 0;}#sk-container-id-1 div.sk-toggleable {background-color: white;}#sk-container-id-1 label.sk-toggleable__label {cursor: pointer;display: block;width: 100%;margin-bottom: 0;padding: 0.3em;box-sizing: border-box;text-align: center;}#sk-container-id-1 label.sk-toggleable__label-arrow:before {content: \"▸\";float: left;margin-right: 0.25em;color: #696969;}#sk-container-id-1 label.sk-toggleable__label-arrow:hover:before {color: black;}#sk-container-id-1 div.sk-estimator:hover label.sk-toggleable__label-arrow:before {color: black;}#sk-container-id-1 div.sk-toggleable__content {max-height: 0;max-width: 0;overflow: hidden;text-align: left;background-color: #f0f8ff;}#sk-container-id-1 div.sk-toggleable__content pre {margin: 0.2em;color: black;border-radius: 0.25em;background-color: #f0f8ff;}#sk-container-id-1 input.sk-toggleable__control:checked~div.sk-toggleable__content {max-height: 200px;max-width: 100%;overflow: auto;}#sk-container-id-1 input.sk-toggleable__control:checked~label.sk-toggleable__label-arrow:before {content: \"▾\";}#sk-container-id-1 div.sk-estimator input.sk-toggleable__control:checked~label.sk-toggleable__label {background-color: #d4ebff;}#sk-container-id-1 div.sk-label input.sk-toggleable__control:checked~label.sk-toggleable__label {background-color: #d4ebff;}#sk-container-id-1 input.sk-hidden--visually {border: 0;clip: rect(1px 1px 1px 1px);clip: rect(1px, 1px, 1px, 1px);height: 1px;margin: -1px;overflow: hidden;padding: 0;position: absolute;width: 1px;}#sk-container-id-1 div.sk-estimator {font-family: monospace;background-color: #f0f8ff;border: 1px dotted black;border-radius: 0.25em;box-sizing: border-box;margin-bottom: 0.5em;}#sk-container-id-1 div.sk-estimator:hover {background-color: #d4ebff;}#sk-container-id-1 div.sk-parallel-item::after {content: \"\";width: 100%;border-bottom: 1px solid gray;flex-grow: 1;}#sk-container-id-1 div.sk-label:hover label.sk-toggleable__label {background-color: #d4ebff;}#sk-container-id-1 div.sk-serial::before {content: \"\";position: absolute;border-left: 1px solid gray;box-sizing: border-box;top: 0;bottom: 0;left: 50%;z-index: 0;}#sk-container-id-1 div.sk-serial {display: flex;flex-direction: column;align-items: center;background-color: white;padding-right: 0.2em;padding-left: 0.2em;position: relative;}#sk-container-id-1 div.sk-item {position: relative;z-index: 1;}#sk-container-id-1 div.sk-parallel {display: flex;align-items: stretch;justify-content: center;background-color: white;position: relative;}#sk-container-id-1 div.sk-item::before, #sk-container-id-1 div.sk-parallel-item::before {content: \"\";position: absolute;border-left: 1px solid gray;box-sizing: border-box;top: 0;bottom: 0;left: 50%;z-index: -1;}#sk-container-id-1 div.sk-parallel-item {display: flex;flex-direction: column;z-index: 1;position: relative;background-color: white;}#sk-container-id-1 div.sk-parallel-item:first-child::after {align-self: flex-end;width: 50%;}#sk-container-id-1 div.sk-parallel-item:last-child::after {align-self: flex-start;width: 50%;}#sk-container-id-1 div.sk-parallel-item:only-child::after {width: 0;}#sk-container-id-1 div.sk-dashed-wrapped {border: 1px dashed gray;margin: 0 0.4em 0.5em 0.4em;box-sizing: border-box;padding-bottom: 0.4em;background-color: white;}#sk-container-id-1 div.sk-label label {font-family: monospace;font-weight: bold;display: inline-block;line-height: 1.2em;}#sk-container-id-1 div.sk-label-container {text-align: center;}#sk-container-id-1 div.sk-container {/* jupyter's `normalize.less` sets `[hidden] { display: none; }` but bootstrap.min.css set `[hidden] { display: none !important; }` so we also need the `!important` here to be able to override the default hidden behavior on the sphinx rendered scikit-learn.org. See: https://github.com/scikit-learn/scikit-learn/issues/21755 */display: inline-block !important;position: relative;}#sk-container-id-1 div.sk-text-repr-fallback {display: none;}</style><div id=\"sk-container-id-1\" class=\"sk-top-container\"><div class=\"sk-text-repr-fallback\"><pre>KNeighborsClassifier(n_neighbors=1)</pre><b>In a Jupyter environment, please rerun this cell to show the HTML representation or trust the notebook. <br />On GitHub, the HTML representation is unable to render, please try loading this page with nbviewer.org.</b></div><div class=\"sk-container\" hidden><div class=\"sk-item\"><div class=\"sk-estimator sk-toggleable\"><input class=\"sk-toggleable__control sk-hidden--visually\" id=\"sk-estimator-id-1\" type=\"checkbox\" checked><label for=\"sk-estimator-id-1\" class=\"sk-toggleable__label sk-toggleable__label-arrow\">KNeighborsClassifier</label><div class=\"sk-toggleable__content\"><pre>KNeighborsClassifier(n_neighbors=1)</pre></div></div></div></div></div>"
      ],
      "text/plain": [
       "KNeighborsClassifier(n_neighbors=1)"
      ]
     },
     "execution_count": 25,
     "metadata": {},
     "output_type": "execute_result"
    }
   ],
   "source": [
    "clf.fit(x.values, y.values)"
   ]
  },
  {
   "cell_type": "markdown",
   "id": "7acd2a83-190b-4418-9dad-bd52247f0165",
   "metadata": {},
   "source": [
    "Necesitamos sacar una predicción de la variable salida con esto compraramos con los datos de salida **y**, y analizar que tan bueno es:"
   ]
  },
  {
   "cell_type": "code",
   "execution_count": 26,
   "id": "5d8279ed-16a2-47b4-b40f-98b0ba788ac7",
   "metadata": {},
   "outputs": [],
   "source": [
    "y_pred = clf.predict(x.values)"
   ]
  },
  {
   "cell_type": "code",
   "execution_count": 27,
   "id": "aeeba1d1-937d-4d7c-94c7-7488e2fa5db4",
   "metadata": {},
   "outputs": [],
   "source": [
    "from sklearn.metrics import accuracy_score"
   ]
  },
  {
   "cell_type": "code",
   "execution_count": 28,
   "id": "c824f261-9e63-4764-9f09-98e66e65ab21",
   "metadata": {},
   "outputs": [
    {
     "data": {
      "text/plain": [
       "0.9998749789026898"
      ]
     },
     "execution_count": 28,
     "metadata": {},
     "output_type": "execute_result"
    }
   ],
   "source": [
    "accuracy_score(y_pred,y)"
   ]
  },
  {
   "cell_type": "markdown",
   "id": "74b9ad0b-a628-47ed-bb37-9b0ba63ca2a9",
   "metadata": {},
   "source": [
    "## Como observamos anteriormente el modelo es bastante bueno, casi de 1.0...\n",
    "# **¡¡¡Pero espera!!!, si tuviera otros datos nuevos con los cuales el modelo nunca ha interactuado y deseo saber si este modelo se comporta adecuadamente con estos nuevos datos, ¿cómo lo voy a saber?**"
   ]
  },
  {
   "cell_type": "markdown",
   "id": "3195b736-858e-4dcd-ad26-f690fdf3fd57",
   "metadata": {},
   "source": [
    "# Ejercicio:\n",
    "\n",
    "-Con la problemática anterior, construya una metodología la cual analice si realmente dicho modelo también sirve con datosque no fueron usados para ajustar el algoritmo.\n",
    "\n",
    "Tips: Recuerda el análisis de overfitting y underfitting visto en clase.\n",
    "\n",
    "Ahora, ya tenemos más herramientas de evaluación para analizar la effectividad del modelo.\n",
    "\n",
    "-Use las métricas de evaluación vistas en la clase de hoy y anteriores, para sacar más conclusiones sobre la efectividad del modelo.\n",
    "\n",
    "con lo anterior, responda:\n",
    "\n",
    "- ¿Resulta mejor usar un método aleatorio para solucionar este problema (que tecnicamente seria decirle al oráculo de la mitología griega cuándo nacerá la gallina del huevo)?, ¿Qué métrica puede solucionar esta pregunta?\n",
    "\n",
    "- ¿ Este modelo es sensible a falsos negativos?, numéricamente hablando es: ¿significativo, o despeciable dicha sensibilidad?\n",
    "    ¿Qué métrica me ayuda a resolver este problema?\n",
    "    \n",
    "- Si el director principal de la casa de moneda de argentina, ve el primer score de mi modelo que es de 0.999, luego me dice que pase dicho modelo a la base de datos general para obtener predicciones ya que dicho modelo es perfecto. ¿Cómo le explicarías que dicho modelo posiblemente puede tener problemas con nuevos datos y por qué? \n"
   ]
  },
  {
   "cell_type": "markdown",
   "id": "515989ed",
   "metadata": {},
   "source": []
  }
 ],
 "metadata": {
  "kernelspec": {
   "display_name": "Python 3 (ipykernel)",
   "language": "python",
   "name": "python3"
  },
  "language_info": {
   "codemirror_mode": {
    "name": "ipython",
    "version": 3
   },
   "file_extension": ".py",
   "mimetype": "text/x-python",
   "name": "python",
   "nbconvert_exporter": "python",
   "pygments_lexer": "ipython3",
   "version": "3.10.0"
  }
 },
 "nbformat": 4,
 "nbformat_minor": 5
}
