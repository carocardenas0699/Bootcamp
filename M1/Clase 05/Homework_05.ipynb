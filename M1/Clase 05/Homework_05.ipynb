{
 "cells": [
  {
   "cell_type": "markdown",
   "metadata": {},
   "source": [
    "# Práctica Clase 5"
   ]
  },
  {
   "cell_type": "markdown",
   "metadata": {},
   "source": [
    "1) Implementar un juego, que consista en apilar números enteros del 1 al 20, de forma aleatoria, para lo cual debe usarse una estructura de Pila. \n",
    "Luego, el usuario debe elegir un número de veces en que se va a quitar elementos de la pila, los cuales, sumados entre sí, no deben superar el valor de 50.\n",
    "El usuario pierde si la suma supera ese valor. Si no lo supera, gana, pero su calificación será 10 menos el número elementos que falten quitar para todavía no superar 50.\n",
    "El programa debe informar si perdió, y si ganó, con qué calificación lo hizo.\n",
    "\n",
    "Consideraciones:<br>\n",
    "a. Se puede usar la función input() para obtener una entrada de teclado.<br>\n",
    "b. Se puede usar la el modulo random para obtener valores aleatorios."
   ]
  },
  {
   "cell_type": "code",
   "execution_count": 1,
   "metadata": {},
   "outputs": [
    {
     "name": "stdout",
     "output_type": "stream",
     "text": [
      "El valor elegido es: 5 \n",
      "Perdiste! Tu suma da: 67 \n",
      "La lista era: [2, 15, 14, 7, 13, 12, 11, 6, 5, 1, 3, 16, 20, 10, 8, 18, 19, 9, 17, 4]\n"
     ]
    }
   ],
   "source": [
    "import random\n",
    "\n",
    "pila=[i for i in range(1,21)]\n",
    "random.shuffle(pila)\n",
    "sigue = True\n",
    "\n",
    "try:\n",
    "    n=int(input('Ingrese la cantidad de numeros a sacar:'))\n",
    "except:\n",
    "    print('El valor debe ser un numero entero')\n",
    "    sigue=False\n",
    "\n",
    "if sigue:\n",
    "    if n<=0 or n>20:\n",
    "        print('El valor debe ser un numero entre 0 y 20')\n",
    "    else:\n",
    "        p_o=pila.copy()\n",
    "        i=0\n",
    "        sum=0\n",
    "\n",
    "        while i < n:\n",
    "            sum=sum+pila.pop()\n",
    "            i+=1\n",
    "\n",
    "        if sum > 50:\n",
    "            print('El valor elegido es:',n,'\\nPerdiste! Tu suma da:',sum,'\\nLa lista era:',p_o)\n",
    "        else:\n",
    "            s=0\n",
    "            i=0\n",
    "\n",
    "            while s<=50:\n",
    "                s+=pila.pop()\n",
    "                i+=1\n",
    "            dif=i-n\n",
    "            puntaje=10-dif\n",
    "\n",
    "            print('El valor elegido es:',n,'\\nGanaste! Tu puntaje es:',puntaje,'\\nLa lista era:',p_o)\n"
   ]
  },
  {
   "cell_type": "markdown",
   "metadata": {},
   "source": [
    "2) Implementar un juego donde constas de 2 jarras, de capacidad 5 y 3 litros respectivamente, y debes colocar 4 litros en la jarra de 5L.\n",
    "Las opciones posibles son:\n",
    "* Llenar la jarra de 3 litros\n",
    "* Llenar la jarra de 5 litros\n",
    "* Vaciar la jarra de 3 litros\n",
    "* Vaciar la jarra de 5 litros\n",
    "* Verter el contenido de la jarra de 3 litros en la de 5 litros\n",
    "* Verter el contenido de la jarra de 5 litros en la de 3 litros"
   ]
  },
  {
   "cell_type": "code",
   "execution_count": 2,
   "metadata": {},
   "outputs": [],
   "source": [
    "class juego_jarras:\n",
    "\n",
    "    def __init__(self):\n",
    "        \n",
    "        self.jarra3=0\n",
    "        self.jarra5=0\n",
    "\n",
    "    def llenar_jarra(self,jarra):\n",
    "\n",
    "        if jarra == 3:\n",
    "            if self.jarra3 != 3:\n",
    "                self.jarra3 = 3\n",
    "            else:\n",
    "                print('La jarra de 3L esta llena')\n",
    "        elif jarra == 5:\n",
    "            if self.jarra5 !=5:\n",
    "                self.jarra5 = 5\n",
    "            else:\n",
    "                print('La jarra de 5L esta llena')\n",
    "\n",
    "    def vaciar_jarra(self,jarra):\n",
    "\n",
    "        if jarra == 3:\n",
    "            if self.jarra3 != 0:\n",
    "                self.jarra3 = 0\n",
    "            else:\n",
    "                print('La jarra de 3L esta vacia')\n",
    "        elif jarra == 5:\n",
    "            if self.jarra5 !=0:\n",
    "                self.jarra5 = 0\n",
    "            else:\n",
    "                print('La jarra de 5L esta vacia')\n",
    "\n",
    "    def verter(self,jarra1,jarra2):\n",
    "\n",
    "        if jarra1 == 3 and self.jarra3 > 0:\n",
    "\n",
    "            if jarra2 == 5:\n",
    "\n",
    "                cap=5-self.jarra5\n",
    "\n",
    "                if self.jarra5 == 5:\n",
    "                    print('La jarra de 5L esta llena')\n",
    "                elif self.jarra5 == 0:\n",
    "                    self.jarra5=self.jarra3\n",
    "                    self.jarra3=0\n",
    "                elif cap == self.jarra3:\n",
    "                    self.jarra5 = 5\n",
    "                    self.jarra3 = 0\n",
    "                elif cap > self.jarra3:\n",
    "                    self.jarra5 = self.jarra5 + self.jarra3\n",
    "                    self.jarra3 = 0\n",
    "                    if self.jarra5 == 4:\n",
    "                        print('Ganaste! La jarra tiene',self.jarra5,'L')\n",
    "                else:\n",
    "                    self.jarra5 = 5\n",
    "                    self.jarra3 = self.jarra3 - cap\n",
    "            else:\n",
    "                print('Debes escoger la jarra de 5L para llenar')\n",
    "        \n",
    "        elif jarra1 == 5 and self.jarra5 > 0:\n",
    "            \n",
    "            if jarra2 == 3:\n",
    "\n",
    "                cap=3-self.jarra3\n",
    "\n",
    "                if self.jarra3 == 3:\n",
    "                    print('La jarra de 3L esta llena')\n",
    "                elif self.jarra3 == 0:\n",
    "                    self.jarra3=3\n",
    "                    self.jarra5=2\n",
    "                elif cap == self.jarra5:\n",
    "                    self.jarra3 = 3\n",
    "                    self.jarra5 = 0\n",
    "                elif cap > self.jarra5:\n",
    "                    self.jarra3 = self.jarra3 + self.jarra5\n",
    "                    self.jarra5 = 0\n",
    "                else:\n",
    "                    self.jarra3 = 3\n",
    "                    self.jarra5 = self.jarra5 - cap\n",
    "\n",
    "            else:\n",
    "                print('Debes escoger la jarra de 3L para llenar')\n",
    "\n",
    "        else:\n",
    "            print('Debes escoger entre la jarra de 3L y la de 5L')\n",
    "\n",
    "    def estado(self):\n",
    "\n",
    "        print('La jarra de 3L tiene ',self.jarra3,'L y la jarra de 5L tiene ',self.jarra5,'L')\n",
    "\n"
   ]
  },
  {
   "cell_type": "code",
   "execution_count": 3,
   "metadata": {},
   "outputs": [
    {
     "name": "stdout",
     "output_type": "stream",
     "text": [
      "La jarra de 3L tiene  0 L y la jarra de 5L tiene  0 L\n",
      "La jarra de 3L tiene  3 L y la jarra de 5L tiene  0 L\n",
      "La jarra de 3L tiene  0 L y la jarra de 5L tiene  3 L\n",
      "La jarra de 3L tiene  3 L y la jarra de 5L tiene  3 L\n",
      "La jarra de 3L tiene  1 L y la jarra de 5L tiene  5 L\n",
      "La jarra de 3L tiene  1 L y la jarra de 5L tiene  0 L\n",
      "La jarra de 3L tiene  0 L y la jarra de 5L tiene  1 L\n",
      "La jarra de 3L tiene  3 L y la jarra de 5L tiene  1 L\n",
      "Ganaste! La jarra tiene 4 L\n"
     ]
    }
   ],
   "source": [
    "j=juego_jarras()\n",
    "j.estado()\n",
    "j.llenar_jarra(3)\n",
    "j.estado()\n",
    "j.verter(3,5)\n",
    "j.estado()\n",
    "j.llenar_jarra(3)\n",
    "j.estado()\n",
    "j.verter(3,5)\n",
    "j.estado()\n",
    "j.vaciar_jarra(5)\n",
    "j.estado()\n",
    "j.verter(3,5)\n",
    "j.estado()\n",
    "j.llenar_jarra(3)\n",
    "j.estado()\n",
    "j.verter(3,5)"
   ]
  }
 ],
 "metadata": {
  "kernelspec": {
   "display_name": "Python 3.11.3 64-bit",
   "language": "python",
   "name": "python3"
  },
  "language_info": {
   "codemirror_mode": {
    "name": "ipython",
    "version": 3
   },
   "file_extension": ".py",
   "mimetype": "text/x-python",
   "name": "python",
   "nbconvert_exporter": "python",
   "pygments_lexer": "ipython3",
   "version": "3.12.4"
  },
  "vscode": {
   "interpreter": {
    "hash": "52634da84371cba311ea128a5ea7cdc41ff074b781779e754b270ff9f8153cee"
   }
  }
 },
 "nbformat": 4,
 "nbformat_minor": 4
}
