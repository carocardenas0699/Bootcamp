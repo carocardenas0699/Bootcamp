{
 "cells": [
  {
   "cell_type": "code",
   "execution_count": 1,
   "metadata": {},
   "outputs": [],
   "source": [
    "import numpy as np\n",
    "import pandas as pd\n",
    "import matplotlib.pyplot as plt"
   ]
  },
  {
   "cell_type": "markdown",
   "metadata": {},
   "source": [
    "### Crear Series\n",
    "\n",
    "##### series=pd.Series(lista_datos,lista_indices)"
   ]
  },
  {
   "cell_type": "code",
   "execution_count": 2,
   "metadata": {},
   "outputs": [
    {
     "name": "stdout",
     "output_type": "stream",
     "text": [
      "[1 2 3 4 5 6 7 8 9]\n",
      "0    1\n",
      "1    2\n",
      "2    3\n",
      "3    4\n",
      "4    5\n",
      "5    6\n",
      "6    7\n",
      "7    8\n",
      "8    9\n",
      "dtype: int64\n",
      "Indice directo:\n",
      " a    1\n",
      "b    2\n",
      "c    3\n",
      "d    4\n",
      "e    5\n",
      "f    6\n",
      "g    7\n",
      "dtype: int64\n",
      "Indice desde lista:\n",
      " g    1\n",
      "f    2\n",
      "e    3\n",
      "d    4\n",
      "c    5\n",
      "b    6\n",
      "a    7\n",
      "dtype: int64\n",
      "5    1\n",
      "6    2\n",
      "7    3\n",
      "8    4\n",
      "dtype: int64\n"
     ]
    }
   ],
   "source": [
    "#A partir de una lista\n",
    "a=np.arange(1,10)\n",
    "print(a)\n",
    "s1=pd.Series(a)\n",
    "print(s1)\n",
    "\n",
    "s2=pd.Series([1,2,3,4,5,6,7,8,9])\n",
    "#print(s2)\n",
    "\n",
    "#Se puede crear con indices definidos directamente\n",
    "s3 = pd.Series([1,2,3,4,5,6,7], index=['a', 'b', 'c', 'd','e','f','g']) #lista de str\n",
    "print('Indice directo:\\n',s3)\n",
    "\n",
    "#Se puede crear con indices definidos desde listas\n",
    "d3=[1,2,3,4,5,6,7]\n",
    "i3=['g', 'f', 'e', 'd','c','b','a'] #lista de str\n",
    "s3 = pd.Series(d3, i3) \n",
    "print('Indice desde lista:\\n',s3)\n",
    "\n",
    "s4 = pd.Series([1,2,3,4], index=[5,6,7,8]) #lista de int\n",
    "print(s4)\n"
   ]
  },
  {
   "cell_type": "code",
   "execution_count": 3,
   "metadata": {},
   "outputs": [
    {
     "name": "stdout",
     "output_type": "stream",
     "text": [
      "California    38332521\n",
      "Texas         26448193\n",
      "New York      19651127\n",
      "Florida       19552860\n",
      "Illinois      12882135\n",
      "dtype: int64\n",
      "[38332521 26448193 19651127 19552860 12882135]\n",
      "Index(['California', 'Texas', 'New York', 'Florida', 'Illinois'], dtype='object')\n",
      "California    38332521\n",
      "Texas         26448193\n",
      "New York      19651127\n",
      "Florida       19552860\n",
      "Illinois      12882135\n",
      "dtype: int64\n",
      "California    38332521\n",
      "Florida       19552860\n",
      "dtype: int64\n"
     ]
    }
   ],
   "source": [
    "#A partir de un diccionario\n",
    "\n",
    "#Diccionario creado previamente\n",
    "p_dict = {'California': 38332521,\n",
    "                   'Texas': 26448193,\n",
    "                   'New York': 19651127,\n",
    "                   'Florida': 19552860,\n",
    "                   'Illinois': 12882135}\n",
    "\n",
    "po = pd.Series(p_dict)\n",
    "print(po)\n",
    "\n",
    "print(po.values)\n",
    "print(po.index) #Las llaves de vuelven los indices\n",
    "\n",
    "#Diccionario directamente como parametro\n",
    "po2=pd.Series({'California': 38332521,\n",
    "                   'Texas': 26448193,\n",
    "                   'New York': 19651127,\n",
    "                   'Florida': 19552860,\n",
    "                   'Illinois': 12882135}) \n",
    "print(po2)\n",
    "\n",
    "#Se puede crear una serie con una parte de un diccionario segun las llaves/indices\n",
    "po3=pd.Series(p_dict,index=['California','Florida']) \n",
    "print(po3)\n"
   ]
  },
  {
   "cell_type": "markdown",
   "metadata": {},
   "source": [
    "### Conocer info de la Serie"
   ]
  },
  {
   "cell_type": "code",
   "execution_count": 4,
   "metadata": {},
   "outputs": [
    {
     "name": "stdout",
     "output_type": "stream",
     "text": [
      "[1 2 3 4 5 6 7 8 9]\n",
      "Info indice S1: RangeIndex(start=0, stop=9, step=1)\n",
      "Info indice S3: Index(['g', 'f', 'e', 'd', 'c', 'b', 'a'], dtype='object')\n"
     ]
    }
   ],
   "source": [
    "print(s1.values)\n",
    "print('Info indice S1:',s1.index) #Info del indice de la serie\n",
    "print('Info indice S3:',s3.index) #Info del indice de la serie"
   ]
  },
  {
   "cell_type": "markdown",
   "metadata": {},
   "source": [
    "### Tomar valores de la Serie\n",
    "\n",
    "##### Con posicion: serie.iloc[]\n",
    "##### Con indice: serie[]"
   ]
  },
  {
   "cell_type": "code",
   "execution_count": 5,
   "metadata": {},
   "outputs": [
    {
     "name": "stdout",
     "output_type": "stream",
     "text": [
      "Serie original:\n",
      " g    1\n",
      "f    2\n",
      "e    3\n",
      "d    4\n",
      "c    5\n",
      "b    6\n",
      "a    7\n",
      "dtype: int64\n",
      "2\n",
      "b 6\n",
      "e    3\n",
      "d    4\n",
      "c    5\n",
      "b    6\n",
      "a    7\n",
      "dtype: int64\n",
      "g    1\n",
      "f    2\n",
      "e    3\n",
      "dtype: int64\n",
      "d    4\n",
      "c    5\n",
      "dtype: int64\n"
     ]
    }
   ],
   "source": [
    "print('Serie original:\\n',s3)\n",
    "\n",
    "#Tomar un valor con la posicion\n",
    "v_s3_p=s3.iloc[1]\n",
    "print(v_s3_p)\n",
    "\n",
    "#Tomar un valor con el indice\n",
    "v_s3_i=s3['b']\n",
    "print('b',v_s3_i)\n",
    "\n",
    "#Tomar valores a partir/desde de un punto\n",
    "v=s3.iloc[2:] #Del 3 valor en adelante\n",
    "print(v)\n",
    "\n",
    "v=s3.iloc[:3] #Valores hasta la fila 3 (posicion 2)\n",
    "print(v)\n",
    "\n",
    "v=s3.iloc[3:-2] #Valores desde el 4 hasta antes de los ultimos dos (-2) valores\n",
    "print(v)"
   ]
  },
  {
   "cell_type": "code",
   "execution_count": 6,
   "metadata": {},
   "outputs": [
    {
     "name": "stdout",
     "output_type": "stream",
     "text": [
      "Toma con posicion:\n",
      " d    4\n",
      "c    5\n",
      "b    6\n",
      "dtype: int64\n",
      "Toma con indice:\n",
      " Series([], dtype: int64)\n"
     ]
    }
   ],
   "source": [
    "#Tomar por posicion\n",
    "v=s3.iloc[3:6] #Valores desde el 4 hasta el 6 (posicion 5)\n",
    "print('Toma con posicion:\\n',v)\n",
    "\n",
    "#Tomar por indice\n",
    "v=s3['d':'f'] #Valores desde el 4 hasta el 6 (posicion 5)\n",
    "print('Toma con indice:\\n',v)\n"
   ]
  },
  {
   "cell_type": "markdown",
   "metadata": {},
   "source": [
    "### Crear Data Frames\n",
    "##### A partir de Series: df = pd.DataFrame( { 'Columna1' : serie1 ,'Columna2': serie2 } )\n",
    "##### A partir de lista de Diccionarios\n",
    "##### A partir de Matriz"
   ]
  },
  {
   "cell_type": "code",
   "execution_count": 7,
   "metadata": {},
   "outputs": [
    {
     "data": {
      "text/html": [
       "<div>\n",
       "<style scoped>\n",
       "    .dataframe tbody tr th:only-of-type {\n",
       "        vertical-align: middle;\n",
       "    }\n",
       "\n",
       "    .dataframe tbody tr th {\n",
       "        vertical-align: top;\n",
       "    }\n",
       "\n",
       "    .dataframe thead th {\n",
       "        text-align: right;\n",
       "    }\n",
       "</style>\n",
       "<table border=\"1\" class=\"dataframe\">\n",
       "  <thead>\n",
       "    <tr style=\"text-align: right;\">\n",
       "      <th></th>\n",
       "      <th>Population</th>\n",
       "      <th>Area</th>\n",
       "    </tr>\n",
       "  </thead>\n",
       "  <tbody>\n",
       "    <tr>\n",
       "      <th>California</th>\n",
       "      <td>38332521</td>\n",
       "      <td>423967.0</td>\n",
       "    </tr>\n",
       "    <tr>\n",
       "      <th>Texas</th>\n",
       "      <td>26448193</td>\n",
       "      <td>695662.0</td>\n",
       "    </tr>\n",
       "    <tr>\n",
       "      <th>New York</th>\n",
       "      <td>19651127</td>\n",
       "      <td>141297.0</td>\n",
       "    </tr>\n",
       "    <tr>\n",
       "      <th>Florida</th>\n",
       "      <td>19552860</td>\n",
       "      <td>170312.0</td>\n",
       "    </tr>\n",
       "    <tr>\n",
       "      <th>Illinois</th>\n",
       "      <td>12882135</td>\n",
       "      <td>NaN</td>\n",
       "    </tr>\n",
       "  </tbody>\n",
       "</table>\n",
       "</div>"
      ],
      "text/plain": [
       "            Population      Area\n",
       "California    38332521  423967.0\n",
       "Texas         26448193  695662.0\n",
       "New York      19651127  141297.0\n",
       "Florida       19552860  170312.0\n",
       "Illinois      12882135       NaN"
      ]
     },
     "execution_count": 7,
     "metadata": {},
     "output_type": "execute_result"
    }
   ],
   "source": [
    "#A partir de series\n",
    "popu=pd.Series({'California': 38332521,\n",
    "                   'Texas': 26448193,\n",
    "                   'New York': 19651127,\n",
    "                   'Florida': 19552860,\n",
    "                   'Illinois': 12882135}) \n",
    "\n",
    "area = pd.Series({'California': 423967, 'Texas': 695662, 'New York': 141297,\n",
    "             'Florida': 170312, 'Illinois': np.nan})\n",
    "\n",
    "states = pd.DataFrame({'Population': popu,'Area': area})\n",
    "states"
   ]
  },
  {
   "cell_type": "code",
   "execution_count": 23,
   "metadata": {},
   "outputs": [
    {
     "data": {
      "text/html": [
       "<div>\n",
       "<style scoped>\n",
       "    .dataframe tbody tr th:only-of-type {\n",
       "        vertical-align: middle;\n",
       "    }\n",
       "\n",
       "    .dataframe tbody tr th {\n",
       "        vertical-align: top;\n",
       "    }\n",
       "\n",
       "    .dataframe thead th {\n",
       "        text-align: right;\n",
       "    }\n",
       "</style>\n",
       "<table border=\"1\" class=\"dataframe\">\n",
       "  <thead>\n",
       "    <tr style=\"text-align: right;\">\n",
       "      <th></th>\n",
       "      <th>Population</th>\n",
       "      <th>Area</th>\n",
       "    </tr>\n",
       "  </thead>\n",
       "  <tbody>\n",
       "    <tr>\n",
       "      <th>Michigan</th>\n",
       "      <td>NaN</td>\n",
       "      <td>695662.0</td>\n",
       "    </tr>\n",
       "    <tr>\n",
       "      <th>Arizona</th>\n",
       "      <td>NaN</td>\n",
       "      <td>NaN</td>\n",
       "    </tr>\n",
       "    <tr>\n",
       "      <th>California</th>\n",
       "      <td>38332521.0</td>\n",
       "      <td>NaN</td>\n",
       "    </tr>\n",
       "    <tr>\n",
       "      <th>Colorado</th>\n",
       "      <td>NaN</td>\n",
       "      <td>170312.0</td>\n",
       "    </tr>\n",
       "    <tr>\n",
       "      <th>Florida</th>\n",
       "      <td>19552860.0</td>\n",
       "      <td>NaN</td>\n",
       "    </tr>\n",
       "    <tr>\n",
       "      <th>Illinois</th>\n",
       "      <td>12882135.0</td>\n",
       "      <td>NaN</td>\n",
       "    </tr>\n",
       "    <tr>\n",
       "      <th>New York</th>\n",
       "      <td>19651127.0</td>\n",
       "      <td>NaN</td>\n",
       "    </tr>\n",
       "    <tr>\n",
       "      <th>Oregon</th>\n",
       "      <td>NaN</td>\n",
       "      <td>141297.0</td>\n",
       "    </tr>\n",
       "    <tr>\n",
       "      <th>Texas</th>\n",
       "      <td>26448193.0</td>\n",
       "      <td>NaN</td>\n",
       "    </tr>\n",
       "    <tr>\n",
       "      <th>Washington</th>\n",
       "      <td>NaN</td>\n",
       "      <td>423967.0</td>\n",
       "    </tr>\n",
       "  </tbody>\n",
       "</table>\n",
       "</div>"
      ],
      "text/plain": [
       "            Population      Area\n",
       "  Michigan         NaN  695662.0\n",
       "Arizona            NaN       NaN\n",
       "California  38332521.0       NaN\n",
       "Colorado           NaN  170312.0\n",
       "Florida     19552860.0       NaN\n",
       "Illinois    12882135.0       NaN\n",
       "New York    19651127.0       NaN\n",
       "Oregon             NaN  141297.0\n",
       "Texas       26448193.0       NaN\n",
       "Washington         NaN  423967.0"
      ]
     },
     "execution_count": 23,
     "metadata": {},
     "output_type": "execute_result"
    }
   ],
   "source": [
    "#Si las series no tienen los mismos indices, se toman los indices de ambos y se rellena con NaN\n",
    "area2 = pd.Series({'Washington': 423967, '  Michigan': 695662, 'Oregon': 141297,\n",
    "             'Colorado': 170312, 'Arizona': np.nan})\n",
    "\n",
    "states2 = pd.DataFrame({'Population': popu,'Area': area2})\n",
    "states2\n"
   ]
  },
  {
   "cell_type": "code",
   "execution_count": 28,
   "metadata": {},
   "outputs": [
    {
     "data": {
      "text/plain": [
       "Population    5\n",
       "Area          6\n",
       "dtype: int64"
      ]
     },
     "execution_count": 28,
     "metadata": {},
     "output_type": "execute_result"
    }
   ],
   "source": [
    "states2.isnull().sum()"
   ]
  },
  {
   "cell_type": "code",
   "execution_count": 9,
   "metadata": {},
   "outputs": [
    {
     "name": "stdout",
     "output_type": "stream",
     "text": [
      "[{'a': 0, 'b': 6.0}, {'a': 1, 'b': 6.5}, {'a': 2, 'b': 7.0}, {'a': 3, 'b': 7.5}, {'a': 4, 'b': 8.0}, {'a': 5, 'b': 8.5}, {'a': 6, 'b': 9.0}, {'a': 7, 'b': 9.5}, {'a': 8, 'b': 10.0}, {'a': 9, 'b': 10.5}]\n"
     ]
    },
    {
     "data": {
      "text/html": [
       "<div>\n",
       "<style scoped>\n",
       "    .dataframe tbody tr th:only-of-type {\n",
       "        vertical-align: middle;\n",
       "    }\n",
       "\n",
       "    .dataframe tbody tr th {\n",
       "        vertical-align: top;\n",
       "    }\n",
       "\n",
       "    .dataframe thead th {\n",
       "        text-align: right;\n",
       "    }\n",
       "</style>\n",
       "<table border=\"1\" class=\"dataframe\">\n",
       "  <thead>\n",
       "    <tr style=\"text-align: right;\">\n",
       "      <th></th>\n",
       "      <th>a</th>\n",
       "      <th>b</th>\n",
       "    </tr>\n",
       "  </thead>\n",
       "  <tbody>\n",
       "    <tr>\n",
       "      <th>0</th>\n",
       "      <td>0</td>\n",
       "      <td>6.0</td>\n",
       "    </tr>\n",
       "    <tr>\n",
       "      <th>1</th>\n",
       "      <td>1</td>\n",
       "      <td>6.5</td>\n",
       "    </tr>\n",
       "    <tr>\n",
       "      <th>2</th>\n",
       "      <td>2</td>\n",
       "      <td>7.0</td>\n",
       "    </tr>\n",
       "    <tr>\n",
       "      <th>3</th>\n",
       "      <td>3</td>\n",
       "      <td>7.5</td>\n",
       "    </tr>\n",
       "    <tr>\n",
       "      <th>4</th>\n",
       "      <td>4</td>\n",
       "      <td>8.0</td>\n",
       "    </tr>\n",
       "    <tr>\n",
       "      <th>5</th>\n",
       "      <td>5</td>\n",
       "      <td>8.5</td>\n",
       "    </tr>\n",
       "    <tr>\n",
       "      <th>6</th>\n",
       "      <td>6</td>\n",
       "      <td>9.0</td>\n",
       "    </tr>\n",
       "    <tr>\n",
       "      <th>7</th>\n",
       "      <td>7</td>\n",
       "      <td>9.5</td>\n",
       "    </tr>\n",
       "    <tr>\n",
       "      <th>8</th>\n",
       "      <td>8</td>\n",
       "      <td>10.0</td>\n",
       "    </tr>\n",
       "    <tr>\n",
       "      <th>9</th>\n",
       "      <td>9</td>\n",
       "      <td>10.5</td>\n",
       "    </tr>\n",
       "  </tbody>\n",
       "</table>\n",
       "</div>"
      ],
      "text/plain": [
       "   a     b\n",
       "0  0   6.0\n",
       "1  1   6.5\n",
       "2  2   7.0\n",
       "3  3   7.5\n",
       "4  4   8.0\n",
       "5  5   8.5\n",
       "6  6   9.0\n",
       "7  7   9.5\n",
       "8  8  10.0\n",
       "9  9  10.5"
      ]
     },
     "execution_count": 9,
     "metadata": {},
     "output_type": "execute_result"
    }
   ],
   "source": [
    "#A partir de una lista de diccionarios\n",
    "a=[{'a': i, 'b': i/2+6} for i in range(10)]\n",
    "print(a)\n",
    "\n",
    "df1=pd.DataFrame(a)\n",
    "df1"
   ]
  },
  {
   "cell_type": "code",
   "execution_count": 10,
   "metadata": {},
   "outputs": [
    {
     "name": "stdout",
     "output_type": "stream",
     "text": [
      "[[1 2]\n",
      " [3 4]\n",
      " [5 6]]\n"
     ]
    },
    {
     "data": {
      "text/html": [
       "<div>\n",
       "<style scoped>\n",
       "    .dataframe tbody tr th:only-of-type {\n",
       "        vertical-align: middle;\n",
       "    }\n",
       "\n",
       "    .dataframe tbody tr th {\n",
       "        vertical-align: top;\n",
       "    }\n",
       "\n",
       "    .dataframe thead th {\n",
       "        text-align: right;\n",
       "    }\n",
       "</style>\n",
       "<table border=\"1\" class=\"dataframe\">\n",
       "  <thead>\n",
       "    <tr style=\"text-align: right;\">\n",
       "      <th></th>\n",
       "      <th>foo</th>\n",
       "      <th>bar</th>\n",
       "    </tr>\n",
       "  </thead>\n",
       "  <tbody>\n",
       "    <tr>\n",
       "      <th>a</th>\n",
       "      <td>1</td>\n",
       "      <td>2</td>\n",
       "    </tr>\n",
       "    <tr>\n",
       "      <th>b</th>\n",
       "      <td>3</td>\n",
       "      <td>4</td>\n",
       "    </tr>\n",
       "    <tr>\n",
       "      <th>c</th>\n",
       "      <td>5</td>\n",
       "      <td>6</td>\n",
       "    </tr>\n",
       "  </tbody>\n",
       "</table>\n",
       "</div>"
      ],
      "text/plain": [
       "   foo  bar\n",
       "a    1    2\n",
       "b    3    4\n",
       "c    5    6"
      ]
     },
     "execution_count": 10,
     "metadata": {},
     "output_type": "execute_result"
    }
   ],
   "source": [
    "#Usando una matriz (array)\n",
    "b=np.array([[1,2],[3,4],[5,6]])\n",
    "print(b)\n",
    "df2=pd.DataFrame(b,\n",
    "             columns=['foo', 'bar'],\n",
    "             index=['a', 'b', 'c'])\n",
    "\n",
    "df2"
   ]
  },
  {
   "cell_type": "markdown",
   "metadata": {},
   "source": [
    "### Conocer info de Data Frame"
   ]
  },
  {
   "cell_type": "code",
   "execution_count": 11,
   "metadata": {},
   "outputs": [
    {
     "name": "stdout",
     "output_type": "stream",
     "text": [
      "Indices: Index(['California', 'Texas', 'New York', 'Florida', 'Illinois'], dtype='object')\n",
      "Columnas: Index(['Population', 'Area'], dtype='object')\n"
     ]
    }
   ],
   "source": [
    "print('Indices:',states.index) #Indices\n",
    "print('Columnas:',states.columns) #Columnas "
   ]
  },
  {
   "cell_type": "markdown",
   "metadata": {},
   "source": [
    "### Tomar valores de Data Frame"
   ]
  },
  {
   "cell_type": "code",
   "execution_count": 12,
   "metadata": {},
   "outputs": [
    {
     "name": "stdout",
     "output_type": "stream",
     "text": [
      "California    423967.0\n",
      "Texas         695662.0\n",
      "New York      141297.0\n",
      "Florida       170312.0\n",
      "Illinois           NaN\n",
      "Name: Area, dtype: float64\n",
      "Segunda columna:\n",
      " California    423967.0\n",
      "Texas         695662.0\n",
      "New York      141297.0\n",
      "Florida       170312.0\n",
      "Illinois           NaN\n",
      "Name: Area, dtype: float64\n",
      "Ultima columna:\n",
      " California    423967.0\n",
      "Texas         695662.0\n",
      "New York      141297.0\n",
      "Florida       170312.0\n",
      "Illinois           NaN\n",
      "Name: Area, dtype: float64\n"
     ]
    }
   ],
   "source": [
    "#Tomar los valores de una columna con indice\n",
    "c_area=states['Area']\n",
    "print(c_area)\n",
    "\n",
    "#Tomar columnas completas con posicion\n",
    "c1=states.iloc[:, 1] # Segunda columna\n",
    "c2=states.iloc[:, -1] # Última columna\n",
    "\n",
    "print('Segunda columna:\\n',c1)\n",
    "print('Ultima columna:\\n',c2)"
   ]
  },
  {
   "cell_type": "code",
   "execution_count": 13,
   "metadata": {},
   "outputs": [
    {
     "name": "stdout",
     "output_type": "stream",
     "text": [
      "Segunda fila:\n",
      " Population    26448193.0\n",
      "Area            695662.0\n",
      "Name: Texas, dtype: float64\n"
     ]
    }
   ],
   "source": [
    "#Tomar toda una fila: La informacion de un indice\n",
    "f1=states.iloc[1,:] \n",
    "print('Segunda fila:\\n',f1)"
   ]
  },
  {
   "cell_type": "markdown",
   "metadata": {},
   "source": [
    "### Modificar valores en Data Frame"
   ]
  },
  {
   "cell_type": "code",
   "execution_count": 14,
   "metadata": {},
   "outputs": [
    {
     "name": "stdout",
     "output_type": "stream",
     "text": [
      "Antes:\n",
      "    x  y\n",
      "0  1  3\n",
      "1  2  4\n",
      "2  3  5\n",
      "Despues cambio fila:\n",
      "    x   y\n",
      "0  1   3\n",
      "1  9  99\n",
      "2  3   5\n",
      "Despues cambio columna:\n",
      "    x   y\n",
      "0  7   3\n",
      "1  8  99\n",
      "2  9   5\n",
      "Despues indices equivocados:\n",
      "      x    y\n",
      "0  7.0  3.0\n",
      "1  NaN  NaN\n",
      "2  9.0  5.0\n",
      "   x   y   a\n",
      "0  7   3  10\n",
      "1  8  99  12\n",
      "2  9   5  13\n",
      "     x   y   a\n",
      "0    7   3  10\n",
      "uno  8  99  12\n",
      "2    9   5  13\n"
     ]
    }
   ],
   "source": [
    "#Cambiar los valores de un indice (fila)\n",
    "x = pd.DataFrame({'x': [1, 2, 3], 'y': [3, 4, 5]})\n",
    "print('Antes:\\n',x)\n",
    "x.iloc[1] = {'x': 9, 'y': 99}\n",
    "print('Despues cambio fila:\\n',x)\n",
    "\n",
    "#Para cambiar una columna\n",
    "x['x']=[7,8,9]\n",
    "print('Despues cambio columna:\\n',x)\n",
    "\n",
    "#Si los indices no son compatibles se borran los datos\n",
    "n=x.copy()\n",
    "n.iloc[1] = {'a': 9, 'c': 99} \n",
    "print('Despues indices equivocados:\\n',n)\n",
    "\n",
    "#Si el indice no existe se agrega una columna\n",
    "m=x.copy()\n",
    "m['a']=[10,12,13]\n",
    "print(m)\n",
    "\n",
    "#Para modificar el indice de una fila\n",
    "m.rename(index={1:'uno'},inplace=True) #inplace hace que se modifique el mismo DataFrame\n",
    "print(m)\n"
   ]
  },
  {
   "cell_type": "markdown",
   "metadata": {},
   "source": [
    "### Borrar filas/columnas"
   ]
  },
  {
   "cell_type": "code",
   "execution_count": 15,
   "metadata": {},
   "outputs": [
    {
     "data": {
      "text/html": [
       "<div>\n",
       "<style scoped>\n",
       "    .dataframe tbody tr th:only-of-type {\n",
       "        vertical-align: middle;\n",
       "    }\n",
       "\n",
       "    .dataframe tbody tr th {\n",
       "        vertical-align: top;\n",
       "    }\n",
       "\n",
       "    .dataframe thead th {\n",
       "        text-align: right;\n",
       "    }\n",
       "</style>\n",
       "<table border=\"1\" class=\"dataframe\">\n",
       "  <thead>\n",
       "    <tr style=\"text-align: right;\">\n",
       "      <th></th>\n",
       "      <th>x</th>\n",
       "      <th>y</th>\n",
       "      <th>a</th>\n",
       "    </tr>\n",
       "  </thead>\n",
       "  <tbody>\n",
       "    <tr>\n",
       "      <th>0</th>\n",
       "      <td>7</td>\n",
       "      <td>3</td>\n",
       "      <td>10</td>\n",
       "    </tr>\n",
       "    <tr>\n",
       "      <th>uno</th>\n",
       "      <td>8</td>\n",
       "      <td>99</td>\n",
       "      <td>12</td>\n",
       "    </tr>\n",
       "  </tbody>\n",
       "</table>\n",
       "</div>"
      ],
      "text/plain": [
       "     x   y   a\n",
       "0    7   3  10\n",
       "uno  8  99  12"
      ]
     },
     "execution_count": 15,
     "metadata": {},
     "output_type": "execute_result"
    }
   ],
   "source": [
    "#Borrar fila con posicion\n",
    "m=m.drop(2)\n",
    "m"
   ]
  },
  {
   "cell_type": "code",
   "execution_count": 16,
   "metadata": {},
   "outputs": [
    {
     "data": {
      "text/html": [
       "<div>\n",
       "<style scoped>\n",
       "    .dataframe tbody tr th:only-of-type {\n",
       "        vertical-align: middle;\n",
       "    }\n",
       "\n",
       "    .dataframe tbody tr th {\n",
       "        vertical-align: top;\n",
       "    }\n",
       "\n",
       "    .dataframe thead th {\n",
       "        text-align: right;\n",
       "    }\n",
       "</style>\n",
       "<table border=\"1\" class=\"dataframe\">\n",
       "  <thead>\n",
       "    <tr style=\"text-align: right;\">\n",
       "      <th></th>\n",
       "      <th>y</th>\n",
       "      <th>a</th>\n",
       "    </tr>\n",
       "  </thead>\n",
       "  <tbody>\n",
       "    <tr>\n",
       "      <th>0</th>\n",
       "      <td>3</td>\n",
       "      <td>10</td>\n",
       "    </tr>\n",
       "    <tr>\n",
       "      <th>uno</th>\n",
       "      <td>99</td>\n",
       "      <td>12</td>\n",
       "    </tr>\n",
       "  </tbody>\n",
       "</table>\n",
       "</div>"
      ],
      "text/plain": [
       "      y   a\n",
       "0     3  10\n",
       "uno  99  12"
      ]
     },
     "execution_count": 16,
     "metadata": {},
     "output_type": "execute_result"
    }
   ],
   "source": [
    "#Borrar columna con indice\n",
    "m.drop(columns='x')"
   ]
  },
  {
   "cell_type": "code",
   "execution_count": 20,
   "metadata": {},
   "outputs": [
    {
     "data": {
      "text/html": [
       "<div>\n",
       "<style scoped>\n",
       "    .dataframe tbody tr th:only-of-type {\n",
       "        vertical-align: middle;\n",
       "    }\n",
       "\n",
       "    .dataframe tbody tr th {\n",
       "        vertical-align: top;\n",
       "    }\n",
       "\n",
       "    .dataframe thead th {\n",
       "        text-align: right;\n",
       "    }\n",
       "</style>\n",
       "<table border=\"1\" class=\"dataframe\">\n",
       "  <thead>\n",
       "    <tr style=\"text-align: right;\">\n",
       "      <th></th>\n",
       "      <th>Population</th>\n",
       "      <th>Area</th>\n",
       "      <th>Density</th>\n",
       "    </tr>\n",
       "  </thead>\n",
       "  <tbody>\n",
       "    <tr>\n",
       "      <th>California</th>\n",
       "      <td>38332521</td>\n",
       "      <td>423967.0</td>\n",
       "      <td>90.413926</td>\n",
       "    </tr>\n",
       "    <tr>\n",
       "      <th>Texas</th>\n",
       "      <td>26448193</td>\n",
       "      <td>695662.0</td>\n",
       "      <td>38.018740</td>\n",
       "    </tr>\n",
       "    <tr>\n",
       "      <th>New York</th>\n",
       "      <td>19651127</td>\n",
       "      <td>141297.0</td>\n",
       "      <td>139.076746</td>\n",
       "    </tr>\n",
       "    <tr>\n",
       "      <th>Florida</th>\n",
       "      <td>19552860</td>\n",
       "      <td>170312.0</td>\n",
       "      <td>114.806121</td>\n",
       "    </tr>\n",
       "  </tbody>\n",
       "</table>\n",
       "</div>"
      ],
      "text/plain": [
       "            Population      Area     Density\n",
       "California    38332521  423967.0   90.413926\n",
       "Texas         26448193  695662.0   38.018740\n",
       "New York      19651127  141297.0  139.076746\n",
       "Florida       19552860  170312.0  114.806121"
      ]
     },
     "execution_count": 20,
     "metadata": {},
     "output_type": "execute_result"
    }
   ],
   "source": [
    "#Borra filas con NaN\n",
    "states.dropna(inplace=True)\n",
    "states"
   ]
  },
  {
   "cell_type": "markdown",
   "metadata": {},
   "source": [
    "### Operaciones"
   ]
  },
  {
   "cell_type": "code",
   "execution_count": 21,
   "metadata": {},
   "outputs": [
    {
     "data": {
      "text/html": [
       "<div>\n",
       "<style scoped>\n",
       "    .dataframe tbody tr th:only-of-type {\n",
       "        vertical-align: middle;\n",
       "    }\n",
       "\n",
       "    .dataframe tbody tr th {\n",
       "        vertical-align: top;\n",
       "    }\n",
       "\n",
       "    .dataframe thead th {\n",
       "        text-align: right;\n",
       "    }\n",
       "</style>\n",
       "<table border=\"1\" class=\"dataframe\">\n",
       "  <thead>\n",
       "    <tr style=\"text-align: right;\">\n",
       "      <th></th>\n",
       "      <th>Population</th>\n",
       "      <th>Area</th>\n",
       "      <th>Density</th>\n",
       "    </tr>\n",
       "  </thead>\n",
       "  <tbody>\n",
       "    <tr>\n",
       "      <th>California</th>\n",
       "      <td>38332521</td>\n",
       "      <td>423967.0</td>\n",
       "      <td>90.413926</td>\n",
       "    </tr>\n",
       "    <tr>\n",
       "      <th>Texas</th>\n",
       "      <td>26448193</td>\n",
       "      <td>695662.0</td>\n",
       "      <td>38.018740</td>\n",
       "    </tr>\n",
       "    <tr>\n",
       "      <th>New York</th>\n",
       "      <td>19651127</td>\n",
       "      <td>141297.0</td>\n",
       "      <td>139.076746</td>\n",
       "    </tr>\n",
       "    <tr>\n",
       "      <th>Florida</th>\n",
       "      <td>19552860</td>\n",
       "      <td>170312.0</td>\n",
       "      <td>114.806121</td>\n",
       "    </tr>\n",
       "  </tbody>\n",
       "</table>\n",
       "</div>"
      ],
      "text/plain": [
       "            Population      Area     Density\n",
       "California    38332521  423967.0   90.413926\n",
       "Texas         26448193  695662.0   38.018740\n",
       "New York      19651127  141297.0  139.076746\n",
       "Florida       19552860  170312.0  114.806121"
      ]
     },
     "execution_count": 21,
     "metadata": {},
     "output_type": "execute_result"
    }
   ],
   "source": [
    "#Se pueden hacer operaciones entre columnas y guardar en columna nueva\n",
    "\n",
    "states['Density']=states['Population']/states['Area']\n",
    "states"
   ]
  }
 ],
 "metadata": {
  "kernelspec": {
   "display_name": "Python 3",
   "language": "python",
   "name": "python3"
  },
  "language_info": {
   "codemirror_mode": {
    "name": "ipython",
    "version": 3
   },
   "file_extension": ".py",
   "mimetype": "text/x-python",
   "name": "python",
   "nbconvert_exporter": "python",
   "pygments_lexer": "ipython3",
   "version": "3.12.4"
  }
 },
 "nbformat": 4,
 "nbformat_minor": 2
}
