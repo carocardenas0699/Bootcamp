{
 "cells": [
  {
   "cell_type": "markdown",
   "metadata": {},
   "source": [
    "# Práctica Clase 8"
   ]
  },
  {
   "cell_type": "markdown",
   "metadata": {},
   "source": [
    "<h2>Algoritmos de Ordenamiento</h2>"
   ]
  },
  {
   "cell_type": "markdown",
   "metadata": {},
   "source": [
    "1) Dada la función provista 'ListaDesordenada' implementar los algoritmos de ordenamiento vistos en clase:\n",
    "<ul>\n",
    "    <ol>Selección</ol>\n",
    "    <ol>Burbuja</ol>\n",
    "</ul>"
   ]
  },
  {
   "cell_type": "code",
   "execution_count": null,
   "metadata": {},
   "outputs": [],
   "source": [
    "import random as r\n",
    "import numpy as np"
   ]
  },
  {
   "cell_type": "code",
   "execution_count": null,
   "metadata": {},
   "outputs": [],
   "source": [
    "def ListaDesordenada(desorden, cantidad): \n",
    "    '''\n",
    "    Esta función devuelve una lista\n",
    "    desorden = es un porcentaje de desordenamiento\n",
    "    cantidad = cantidad de elementos de la lista\n",
    "    '''\n",
    "    lista = list(range(0, cantidad))\n",
    "\n",
    "    desorden = int(cantidad * desorden / 100)\n",
    "\n",
    "    while (desorden > 0):\n",
    "        i = r.randint(0,cantidad-1)\n",
    "        j = r.randint(0,cantidad-1)\n",
    "        aux = lista[i]\n",
    "        lista[i] = lista[j]\n",
    "        lista[j] = aux\n",
    "        desorden-=1\n",
    "\n",
    "    return lista"
   ]
  },
  {
   "cell_type": "code",
   "execution_count": null,
   "metadata": {},
   "outputs": [],
   "source": [
    "ListaDesordenada(90, 20) #Lista de 20 elementos un 90% desordenada"
   ]
  },
  {
   "cell_type": "code",
   "execution_count": null,
   "metadata": {},
   "outputs": [],
   "source": [
    "ListaDesordenada(50, 20) #Lista de 20 elementos un 50% desordenada"
   ]
  },
  {
   "cell_type": "code",
   "execution_count": null,
   "metadata": {},
   "outputs": [],
   "source": [
    "ListaDesordenada(50, 5) #Lista de 20 elementos un 0% desordenada"
   ]
  },
  {
   "cell_type": "code",
   "execution_count": null,
   "metadata": {},
   "outputs": [],
   "source": [
    "def ord_por_seleccionGPT(lista):\n",
    "    for valor in range(len(lista)):\n",
    "        minimo = min(range(valor, len(lista)), key=lista.__getitem__)\n",
    "        lista[valor], lista[minimo] = lista[minimo], lista[valor]\n",
    "    return lista"
   ]
  },
  {
   "cell_type": "code",
   "execution_count": null,
   "metadata": {},
   "outputs": [],
   "source": [
    "def orden_seleccion(lista):\n",
    "    #completar el código\n",
    "    largo = len(lista)\n",
    "\n",
    "    for valor in range(largo):\n",
    "        minimo = valor\n",
    "        \n",
    "        for j in range(valor + 1, largo):\n",
    "            if lista[j] < lista[minimo]:\n",
    "                minimo = j\n",
    "\n",
    "        if lista[valor] > lista[minimo]:\n",
    "\n",
    "            lista[valor], lista[minimo] = lista[minimo], lista[valor]\n",
    "    \n",
    "    return lista"
   ]
  },
  {
   "cell_type": "code",
   "execution_count": null,
   "metadata": {},
   "outputs": [],
   "source": [
    "def ord_por_seleccion_v3(lista):\n",
    "    \"\"\"Opcion 3: ordeno la lista, buscando el valor minimo y una vez encontrado intercambio su posición\n",
    "    con el que se encuentra en el lugar que debería ir\"\"\" \n",
    "    \n",
    "    ind = 0\n",
    "    while ind < len(lista): # recorrer la lista tantas veces como su largo\n",
    "        val_minimo = min(lista[ind:]) #que me calcule el minimo de la porcion de la lista que va desde el indice q estoy analizando hasta el final\n",
    "        #a medida que voy ordenando y avanzando en indices, reduzco la busqueda a una porcion de la lista que seria la que queda desordenada\n",
    "        indice_val_min = lista.index(val_minimo) # busco el indice del minimo\n",
    "        lista[ind], lista[indice_val_min] = lista[indice_val_min], lista[ind] # Intercambio el indice del elemento iterable, por el del valor minimo\n",
    "        ind +=1 #voy aumentando de a 1 para ir recorriendo la lista de indice en indice\n",
    "    \n",
    "    return lista #devolvemos la lsita ordenada"
   ]
  },
  {
   "cell_type": "code",
   "execution_count": null,
   "metadata": {},
   "outputs": [],
   "source": [
    "lis = ListaDesordenada(100, 20)\n",
    "print(lis)"
   ]
  },
  {
   "cell_type": "code",
   "execution_count": null,
   "metadata": {},
   "outputs": [],
   "source": [
    "orden_seleccion(lis)"
   ]
  },
  {
   "cell_type": "code",
   "execution_count": null,
   "metadata": {},
   "outputs": [],
   "source": [
    "ord_por_seleccion(lis)"
   ]
  },
  {
   "cell_type": "code",
   "execution_count": null,
   "metadata": {},
   "outputs": [],
   "source": [
    "def ord_por_burbujeo(lista):\n",
    "    #completar el código\n",
    "    control = True\n",
    "    ultimo = 0\n",
    "    while control:\n",
    "        control = False\n",
    "        ultimo += 1\n",
    "        for i in range(len(lista)-ultimo):\n",
    "            \n",
    "            if lista[i] > lista[i+1]:\n",
    "                lista[i], lista[i+1] = lista[i+1], lista[i]\n",
    "\n",
    "            control = True\n",
    "    return lista"
   ]
  },
  {
   "cell_type": "code",
   "execution_count": null,
   "metadata": {},
   "outputs": [],
   "source": [
    "def ord_por_burbujeo1(lista):\n",
    "    #completar el código\n",
    "    control = True\n",
    "    while control:\n",
    "        control = False\n",
    "        for i in range(len(lista)-1):\n",
    "            \n",
    "            if lista[i] > lista[i+1]:\n",
    "                lista[i], lista[i+1] = lista[i+1], lista[i]\n",
    "\n",
    "                control = True\n",
    "    return lista"
   ]
  },
  {
   "cell_type": "code",
   "execution_count": null,
   "metadata": {},
   "outputs": [],
   "source": [
    "lis = ListaDesordenada(100, 20)\n",
    "print(lis)"
   ]
  },
  {
   "cell_type": "code",
   "execution_count": null,
   "metadata": {},
   "outputs": [],
   "source": [
    "ord_por_burbujeo1(lis)"
   ]
  },
  {
   "cell_type": "markdown",
   "metadata": {},
   "source": [
    "2) Para las siguientes instancias, probar el tiempo de duración del ordenamiento de cada uno de los métodos"
   ]
  },
  {
   "cell_type": "code",
   "execution_count": null,
   "metadata": {},
   "outputs": [],
   "source": [
    "import time"
   ]
  },
  {
   "cell_type": "code",
   "execution_count": null,
   "metadata": {},
   "outputs": [],
   "source": [
    "start_time_total = time.time()\n",
    "total_time_total = time.time() - start_time_total\n",
    "print(\"Llevo {} segundos en total.\".format(total_time_total))"
   ]
  },
  {
   "cell_type": "code",
   "execution_count": 48,
   "metadata": {},
   "outputs": [],
   "source": [
    "N = 10000"
   ]
  },
  {
   "cell_type": "code",
   "execution_count": 49,
   "metadata": {},
   "outputs": [],
   "source": [
    "lis1 = ListaDesordenada(100, N)\n",
    "lis2 = lis1.copy()\n",
    "lis3 = lis1.copy()\n",
    "lis4 = lis1.copy()\n",
    "lis5 = lis1.copy()\n",
    "lis6 = lis1.copy()"
   ]
  },
  {
   "cell_type": "code",
   "execution_count": null,
   "metadata": {},
   "outputs": [],
   "source": [
    "id(lis1)"
   ]
  },
  {
   "cell_type": "code",
   "execution_count": null,
   "metadata": {},
   "outputs": [],
   "source": [
    "id(lis2)"
   ]
  },
  {
   "cell_type": "code",
   "execution_count": null,
   "metadata": {},
   "outputs": [],
   "source": [
    "id(lis3)"
   ]
  },
  {
   "cell_type": "code",
   "execution_count": 50,
   "metadata": {},
   "outputs": [
    {
     "name": "stdout",
     "output_type": "stream",
     "text": [
      "Llevo 10.67633605003357 segundos en total.\n"
     ]
    }
   ],
   "source": [
    "start_time_total = time.time()\n",
    "lis1 = ord_por_burbujeo(lis1)\n",
    "total_time_total = time.time() - start_time_total\n",
    "print(\"Llevo {} segundos en total.\".format(total_time_total))"
   ]
  },
  {
   "cell_type": "code",
   "execution_count": 36,
   "metadata": {},
   "outputs": [
    {
     "name": "stdout",
     "output_type": "stream",
     "text": [
      "Llevo 5.401839256286621 segundos en total.\n"
     ]
    }
   ],
   "source": [
    "start_time_total = time.time()\n",
    "lis2 = orden_seleccion(lis2)\n",
    "total_time_total = time.time() - start_time_total\n",
    "print(\"Llevo {} segundos en total.\".format(total_time_total))"
   ]
  },
  {
   "cell_type": "code",
   "execution_count": 37,
   "metadata": {},
   "outputs": [
    {
     "name": "stdout",
     "output_type": "stream",
     "text": [
      "Llevo 3.975382089614868 segundos en total.\n"
     ]
    }
   ],
   "source": [
    "start_time_total = time.time()\n",
    "lis2 = ord_por_seleccionGPT(lis3)\n",
    "total_time_total = time.time() - start_time_total\n",
    "print(\"Llevo {} segundos en total.\".format(total_time_total))"
   ]
  },
  {
   "cell_type": "code",
   "execution_count": null,
   "metadata": {},
   "outputs": [],
   "source": [
    "lis1 = ListaDesordenada(50, N)\n",
    "lis2 = lis1.copy()\n",
    "lis3 = lis1.copy()"
   ]
  },
  {
   "cell_type": "code",
   "execution_count": null,
   "metadata": {},
   "outputs": [],
   "source": [
    "start_time_total = time.time()\n",
    "lis1 = ord_por_burbujeo(lis1)\n",
    "total_time_total = time.time() - start_time_total\n",
    "print(\"Llevo {} segundos en total.\".format(total_time_total))"
   ]
  },
  {
   "cell_type": "code",
   "execution_count": null,
   "metadata": {},
   "outputs": [],
   "source": [
    "start_time_total = time.time()\n",
    "lis2 = ord_por_seleccionGPT(lis2)\n",
    "total_time_total = time.time() - start_time_total\n",
    "print(\"Llevo {} segundos en total.\".format(total_time_total))"
   ]
  },
  {
   "cell_type": "code",
   "execution_count": null,
   "metadata": {},
   "outputs": [],
   "source": [
    "start_time_total = time.time()\n",
    "lis3 = orden_seleccion(lis3)\n",
    "total_time_total = time.time() - start_time_total\n",
    "print(\"Llevo {} segundos en total.\".format(total_time_total))"
   ]
  },
  {
   "cell_type": "code",
   "execution_count": 38,
   "metadata": {},
   "outputs": [
    {
     "name": "stdout",
     "output_type": "stream",
     "text": [
      "Llevo 2.959573745727539 segundos en total.\n"
     ]
    }
   ],
   "source": [
    "start_time_total = time.time()\n",
    "lis4 = ord_por_seleccion_v3(lis4)\n",
    "total_time_total = time.time() - start_time_total\n",
    "print(\"Llevo {} segundos en total.\".format(total_time_total))"
   ]
  },
  {
   "cell_type": "code",
   "execution_count": 51,
   "metadata": {},
   "outputs": [
    {
     "name": "stdout",
     "output_type": "stream",
     "text": [
      "Llevo 18.3634672164917 segundos en total.\n"
     ]
    }
   ],
   "source": [
    "start_time_total = time.time()\n",
    "lis5 = ord_por_burbujeo1(lis5)\n",
    "total_time_total = time.time() - start_time_total\n",
    "print(\"Llevo {} segundos en total.\".format(total_time_total))"
   ]
  },
  {
   "cell_type": "code",
   "execution_count": 42,
   "metadata": {},
   "outputs": [
    {
     "name": "stdout",
     "output_type": "stream",
     "text": [
      "Llevo 0.0020017623901367188 segundos en total.\n"
     ]
    }
   ],
   "source": [
    "start_time_total = time.time()\n",
    "lis6 = lis6.sort()\n",
    "total_time_total = time.time() - start_time_total\n",
    "print(\"Llevo {} segundos en total.\".format(total_time_total))"
   ]
  },
  {
   "cell_type": "code",
   "execution_count": null,
   "metadata": {},
   "outputs": [],
   "source": [
    "lis1 = ord_por_burbujeo(lis1)"
   ]
  },
  {
   "cell_type": "code",
   "execution_count": null,
   "metadata": {},
   "outputs": [],
   "source": [
    "lis1.sort()"
   ]
  },
  {
   "cell_type": "code",
   "execution_count": null,
   "metadata": {},
   "outputs": [],
   "source": [
    "lis1[0:12]"
   ]
  },
  {
   "cell_type": "code",
   "execution_count": null,
   "metadata": {},
   "outputs": [],
   "source": [
    "lis1 = ListaDesordenada(0, N)\n",
    "lis2 = lis1.copy()\n",
    "lis3 = lis1.copy()"
   ]
  },
  {
   "cell_type": "code",
   "execution_count": null,
   "metadata": {},
   "outputs": [],
   "source": [
    "start_time_total = time.time()\n",
    "lis1 = ord_por_burbujeo(lis1)\n",
    "total_time_total = time.time() - start_time_total\n",
    "print(\"Llevo {} segundos en total.\".format(total_time_total))"
   ]
  },
  {
   "cell_type": "code",
   "execution_count": null,
   "metadata": {},
   "outputs": [],
   "source": [
    "start_time_total = time.time()\n",
    "lis2 = ord_por_seleccion(lis2)\n",
    "total_time_total = time.time() - start_time_total\n",
    "print(\"Llevo {} segundos en total.\".format(total_time_total))"
   ]
  },
  {
   "cell_type": "code",
   "execution_count": null,
   "metadata": {},
   "outputs": [],
   "source": [
    "start_time_total = time.time()\n",
    "lis2 = orden_seleccion(lis3)\n",
    "total_time_total = time.time() - start_time_total\n",
    "print(\"Llevo {} segundos en total.\".format(total_time_total))"
   ]
  }
 ],
 "metadata": {
  "interpreter": {
   "hash": "11938c6bc6919ae2720b4d5011047913343b08a43b18698fd82dedb0d4417594"
  },
  "kernelspec": {
   "display_name": "Python 3.9.7 64-bit",
   "language": "python",
   "name": "python3"
  },
  "language_info": {
   "codemirror_mode": {
    "name": "ipython",
    "version": 3
   },
   "file_extension": ".py",
   "mimetype": "text/x-python",
   "name": "python",
   "nbconvert_exporter": "python",
   "pygments_lexer": "ipython3",
   "version": "3.12.1"
  }
 },
 "nbformat": 4,
 "nbformat_minor": 4
}
