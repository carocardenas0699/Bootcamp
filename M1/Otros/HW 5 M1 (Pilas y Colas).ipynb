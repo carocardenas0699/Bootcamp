{
 "cells": [
  {
   "cell_type": "markdown",
   "metadata": {},
   "source": [
    "# Práctica Clase 5"
   ]
  },
  {
   "cell_type": "markdown",
   "metadata": {},
   "source": [
    "1) Implementar un juego, que consista en apilar números enteros del 1 al 20, de forma aleatoria, para lo cual debe usarse una estructura de Pila. \n",
    "Luego, el usuario debe elegir un número de veces en que se va a quitar elementos de la pila, los cuales, sumados entre sí, no deben superar el valor de 50.\n",
    "El usuario pierde si la suma supera ese valor. Si no lo supera, gana, pero su calificación será 10 menos el número elementos que falten quitar para todavía no superar 50.\n",
    "El programa debe informar si perdió, y si ganó, con qué calificación lo hizo.\n",
    "\n",
    "Consideraciones:<br>\n",
    "a. Se puede usar la función input() para obtener una entrada de teclado.<br>\n",
    "b. Se puede usar la el modulo random para obtener valores aleatorios."
   ]
  },
  {
   "cell_type": "code",
   "execution_count": 6,
   "metadata": {},
   "outputs": [],
   "source": [
    "import random\n",
    "\n",
    "class Pila:\n",
    "    def __init__(self):\n",
    "        self.items = []\n",
    "\n",
    "    def apilar(self, item):\n",
    "        self.items.append(item)\n",
    "    \n",
    "    def desapilar(self):\n",
    "        return self.items.pop()\n",
    "\n",
    "def crear_pila():\n",
    "    numeros = list(range(1,21))\n",
    "    random.shuffle(numeros)\n",
    "    pila = Pila()\n",
    "    for elemento in numeros:\n",
    "        pila.apilar(elemento)\n",
    "    return pila\n",
    "\n",
    "def jugar():\n",
    "    pila = crear_pila()\n",
    "    suma = 0\n",
    "    calificacion = 10\n",
    "    juego_activo = True\n",
    "\n",
    "    while juego_activo:\n",
    "        #print(\"Pila Actual: \", pila.items)\n",
    "        numero_de_quitar = int(input(\"Ingrese la cantidad de elementos que desee quitar de la lista: \"))\n",
    "\n",
    "        if numero_de_quitar > len(pila.items):\n",
    "            print(\"Escribe un numero inferior, fuera de rango\")\n",
    "            continue\n",
    "\n",
    "        for i in range(numero_de_quitar):\n",
    "            suma += pila.desapilar()\n",
    "\n",
    "        print(\"La cantidad de elementos retirados suman\", suma)\n",
    "\n",
    "        if suma > 50:\n",
    "            print(\"Perdiste, JA JA JA\")\n",
    "            juego_activo = False\n",
    "\n",
    "        else: \n",
    "            while suma <= 50:\n",
    "                suma += pila.desapilar()\n",
    "                if suma <= 50:\n",
    "                    calificacion -= 1\n",
    "            print(\"Felicitaciones, Ganaste, con un puntaje de \", calificacion)\n",
    "            juego_activo = False \n",
    "\n"
   ]
  },
  {
   "cell_type": "code",
   "execution_count": 7,
   "metadata": {},
   "outputs": [
    {
     "name": "stdout",
     "output_type": "stream",
     "text": [
      "La cantidad de elementos retirados suman 41\n",
      "Felicitaciones, Ganaste, con un puntaje de  10\n"
     ]
    }
   ],
   "source": [
    "jugar()"
   ]
  },
  {
   "cell_type": "markdown",
   "metadata": {},
   "source": [
    "2) Implementar un juego donde constas de 2 jarras, de capacidad 5 y 3 litros respectivamente, y debes colocar 4 litros en la jarra de 5L.\n",
    "Las opciones posibles son:\n",
    "* Llenar la jarra de 3 litros\n",
    "* Llenar la jarra de 5 litros\n",
    "* Vaciar la jarra de 3 litros\n",
    "* Vaciar la jarra de 5 litros\n",
    "* Verter el contenido de la jarra de 3 litros en la de 5 litros\n",
    "* Verter el contenido de la jarra de 5 litros en la de 3 litros"
   ]
  },
  {
   "cell_type": "code",
   "execution_count": null,
   "metadata": {},
   "outputs": [],
   "source": []
  }
 ],
 "metadata": {
  "kernelspec": {
   "display_name": "Python 3.11.3 64-bit",
   "language": "python",
   "name": "python3"
  },
  "language_info": {
   "codemirror_mode": {
    "name": "ipython",
    "version": 3
   },
   "file_extension": ".py",
   "mimetype": "text/x-python",
   "name": "python",
   "nbconvert_exporter": "python",
   "pygments_lexer": "ipython3",
   "version": "3.12.1"
  },
  "vscode": {
   "interpreter": {
    "hash": "52634da84371cba311ea128a5ea7cdc41ff074b781779e754b270ff9f8153cee"
   }
  }
 },
 "nbformat": 4,
 "nbformat_minor": 4
}
