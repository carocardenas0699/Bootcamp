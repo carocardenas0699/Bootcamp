{
 "cells": [
  {
   "cell_type": "code",
   "execution_count": 1,
   "metadata": {},
   "outputs": [],
   "source": [
    "from random import sample"
   ]
  },
  {
   "cell_type": "code",
   "execution_count": 2,
   "metadata": {},
   "outputs": [
    {
     "data": {
      "text/plain": [
       "[39, 24, 95, 56, 72, 1, 82, 52, 70, 16, 38, 26, 35, 13, 2, 47, 7, 81, 46, 49]"
      ]
     },
     "execution_count": 2,
     "metadata": {},
     "output_type": "execute_result"
    }
   ],
   "source": [
    "lista = sample(range(1,100),20)\n",
    "lista"
   ]
  },
  {
   "cell_type": "code",
   "execution_count": 6,
   "metadata": {},
   "outputs": [
    {
     "name": "stdout",
     "output_type": "stream",
     "text": [
      "95\n"
     ]
    }
   ],
   "source": [
    "max = lista[0]\n",
    "for elemento in lista:\n",
    "    if elemento > max: max = elemento\n",
    "print(max)\n",
    "#O (N)"
   ]
  },
  {
   "cell_type": "code",
   "execution_count": 7,
   "metadata": {},
   "outputs": [
    {
     "name": "stdout",
     "output_type": "stream",
     "text": [
      "95\n",
      "1\n"
     ]
    }
   ],
   "source": [
    "max = lista[0]\n",
    "\n",
    "for elemento in lista:\n",
    "    if elemento > max: max = elemento\n",
    "\n",
    "min = lista[0]\n",
    "\n",
    "for elemento in lista:\n",
    "    if elemento < min: min = elemento\n",
    "\n",
    "print(max)\n",
    "print(min)\n",
    "\n",
    "#O = N + N = 0(2N)"
   ]
  },
  {
   "cell_type": "code",
   "execution_count": 8,
   "metadata": {},
   "outputs": [
    {
     "name": "stdout",
     "output_type": "stream",
     "text": [
      "95\n",
      "1\n"
     ]
    }
   ],
   "source": [
    "max = lista[0]\n",
    "min = lista[0]\n",
    "\n",
    "for elemento in lista:\n",
    "    if elemento > max: max = elemento\n",
    "    if elemento < min: min = elemento\n",
    "    \n",
    "print(max)\n",
    "print(min)"
   ]
  },
  {
   "cell_type": "code",
   "execution_count": 9,
   "metadata": {},
   "outputs": [
    {
     "data": {
      "text/plain": [
       "'Hola'"
      ]
     },
     "execution_count": 9,
     "metadata": {},
     "output_type": "execute_result"
    }
   ],
   "source": [
    "#O(1)\n",
    "a = 'Hola'\n",
    "a"
   ]
  },
  {
   "cell_type": "code",
   "execution_count": null,
   "metadata": {},
   "outputs": [],
   "source": [
    "#O(N)\n",
    "5 in lista"
   ]
  },
  {
   "cell_type": "code",
   "execution_count": 11,
   "metadata": {},
   "outputs": [
    {
     "name": "stdout",
     "output_type": "stream",
     "text": [
      "H\n",
      "o\n",
      "l\n",
      "a\n",
      " \n",
      "H\n",
      "o\n",
      "l\n",
      "a\n",
      " \n",
      "H\n",
      "o\n",
      "l\n",
      "a\n",
      " \n",
      "H\n",
      "o\n",
      "l\n",
      "a\n",
      " \n",
      "H\n",
      "o\n",
      "l\n",
      "a\n",
      " \n"
     ]
    }
   ],
   "source": [
    "#0(N**2)\n",
    "ciclos = 5 #O(Nc)\n",
    "frase = 'Hola '\n",
    "for i in range(ciclos):\n",
    "    for i in frase:\n",
    "        print(i)"
   ]
  },
  {
   "cell_type": "code",
   "execution_count": null,
   "metadata": {},
   "outputs": [],
   "source": [
    "a = [1,2,3,4,5,6,7,8]"
   ]
  },
  {
   "cell_type": "markdown",
   "metadata": {},
   "source": [
    "3! = 6\n",
    "abc, acb, cba, cab, bca, bac"
   ]
  }
 ],
 "metadata": {
  "kernelspec": {
   "display_name": "Python 3",
   "language": "python",
   "name": "python3"
  },
  "language_info": {
   "codemirror_mode": {
    "name": "ipython",
    "version": 3
   },
   "file_extension": ".py",
   "mimetype": "text/x-python",
   "name": "python",
   "nbconvert_exporter": "python",
   "pygments_lexer": "ipython3",
   "version": "3.12.1"
  }
 },
 "nbformat": 4,
 "nbformat_minor": 2
}
