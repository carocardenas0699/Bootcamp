{
 "cells": [
  {
   "cell_type": "markdown",
   "metadata": {},
   "source": [
    "# Práctica Clase 7"
   ]
  },
  {
   "cell_type": "markdown",
   "metadata": {},
   "source": [
    "1) Diseñar una clase que permita trabajar con un árbol binario y que contenga los métodos:<br>\n",
    "    * insertaVal: para insertar un dato<br>\n",
    "    * buscaVal: que devuelva True o False si existe o no un dato<br>\n",
    "    * verVal: que imprima por pantalla los valores del árbol<br>\n",
    "\n",
    "Nota: Se puede utilizar la recursividad\n"
   ]
  },
  {
   "cell_type": "code",
   "execution_count": 1,
   "metadata": {},
   "outputs": [],
   "source": [
    "#Creamos la clase nodo\n",
    "class Nodo():\n",
    "    def __init__(self, dato):\n",
    "        self.dato = dato\n",
    "        self.izq = None\n",
    "        self.der = None\n",
    "\n",
    "    #Construimos nuestro arbol    \n",
    "    def insertaVal(self, dato):\n",
    "        #Nodos a la Izq\n",
    "        if dato < self.dato:\n",
    "            if self.izq == None:\n",
    "                self.izq = Nodo(dato)\n",
    "            else:\n",
    "                self.izq.insertaVal(dato)\n",
    "\n",
    "        #Nodos a la Der\n",
    "        elif dato > self.dato:\n",
    "            if self.der == None:\n",
    "                self.der = Nodo(dato)\n",
    "            else:\n",
    "                self.der.insertaVal(dato)\n",
    "\n",
    "        else:\n",
    "            print(\"El Valor ya se encuentra en el Arbol\")\n",
    "\n",
    "    def buscaVal(self, data_bus):\n",
    "        #Nodo Izquierdo\n",
    "        if data_bus < self.dato:\n",
    "            if self.izq == None: \n",
    "                return False\n",
    "\n",
    "            return self.izq.buscaVal(data_bus)\n",
    "        \n",
    "        #Nodo Derecho\n",
    "        elif data_bus > self.dato:\n",
    "            if self.der == None: \n",
    "                return False\n",
    "            \n",
    "            return self.der.buscaVal(data_bus)\n",
    "        #Lo consiguió    \n",
    "        \n",
    "        else: \n",
    "            return True\n",
    "        \n",
    "    def verVal(self):\n",
    "        print(self.dato)\n",
    "        if self.der:\n",
    "            self.der.verVal()\n",
    "        if self.izq:\n",
    "            self.izq.verVal()\n"
   ]
  },
  {
   "cell_type": "code",
   "execution_count": 2,
   "metadata": {},
   "outputs": [],
   "source": [
    "Arbol = Nodo(50)"
   ]
  },
  {
   "cell_type": "code",
   "execution_count": 3,
   "metadata": {},
   "outputs": [],
   "source": [
    "Arbol.insertaVal(25)"
   ]
  },
  {
   "cell_type": "code",
   "execution_count": 4,
   "metadata": {},
   "outputs": [],
   "source": [
    "Arbol.insertaVal(60)"
   ]
  },
  {
   "cell_type": "code",
   "execution_count": 5,
   "metadata": {},
   "outputs": [],
   "source": [
    "Arbol.insertaVal(14)"
   ]
  },
  {
   "cell_type": "code",
   "execution_count": 6,
   "metadata": {},
   "outputs": [
    {
     "name": "stdout",
     "output_type": "stream",
     "text": [
      "El Valor ya se encuentra en el Arbol\n"
     ]
    }
   ],
   "source": [
    "Arbol.insertaVal(50)"
   ]
  },
  {
   "cell_type": "code",
   "execution_count": 7,
   "metadata": {},
   "outputs": [],
   "source": [
    "Arbol.insertaVal(15)"
   ]
  },
  {
   "cell_type": "code",
   "execution_count": 8,
   "metadata": {},
   "outputs": [
    {
     "name": "stdout",
     "output_type": "stream",
     "text": [
      "50\n",
      "60\n",
      "25\n",
      "14\n",
      "15\n"
     ]
    }
   ],
   "source": [
    "Arbol.verVal()"
   ]
  },
  {
   "cell_type": "code",
   "execution_count": 10,
   "metadata": {},
   "outputs": [],
   "source": []
  }
 ],
 "metadata": {
  "kernelspec": {
   "display_name": "Python 3",
   "language": "python",
   "name": "python3"
  },
  "language_info": {
   "codemirror_mode": {
    "name": "ipython",
    "version": 3
   },
   "file_extension": ".py",
   "mimetype": "text/x-python",
   "name": "python",
   "nbconvert_exporter": "python",
   "pygments_lexer": "ipython3",
   "version": "3.12.1"
  }
 },
 "nbformat": 4,
 "nbformat_minor": 4
}
