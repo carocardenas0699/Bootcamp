{
 "cells": [
  {
   "cell_type": "code",
   "execution_count": 1,
   "metadata": {},
   "outputs": [],
   "source": [
    "import numpy as np  #Importar libreria"
   ]
  },
  {
   "cell_type": "markdown",
   "metadata": {},
   "source": [
    "### Crear arreglos"
   ]
  },
  {
   "cell_type": "code",
   "execution_count": 18,
   "metadata": {},
   "outputs": [
    {
     "name": "stdout",
     "output_type": "stream",
     "text": [
      "Matriz manual:\n",
      " [[1 2 3 4 5 6]\n",
      " [1 2 3 4 5 6]\n",
      " [1 2 3 4 5 6]]\n",
      "Vector desde secuencia (intervalo definido): [1 3 5 7 9]\n",
      "Vector desde secuencia (cantidad definida): [1.         0.94117647 0.88235294 0.82352941 0.76470588 0.70588235\n",
      " 0.64705882 0.58823529 0.52941176 0.47058824 0.41176471 0.35294118\n",
      " 0.29411765 0.23529412 0.17647059 0.11764706 0.05882353 0.        ]\n"
     ]
    }
   ],
   "source": [
    "vector=np.array([1,2,3,4,5]) #Crear vector desde una lista \n",
    "matriz = np.array([[1,2,3,4,5,6],[1,2,3,4,5,6],[1,2,3,4,5,6]]) #notar los corchetes extras\n",
    "escalar=np.array(1) #Crear escalar\n",
    "print('Matriz manual:\\n',matriz)\n",
    "\n",
    "#Crear vector por secuencia (segun intervalos)\n",
    "vec_sec1=np.arange(1,10,2) #Parametros: start, finish, step\n",
    "print('Vector desde secuencia (intervalo definido):',vec_sec1)\n",
    "\n",
    "#Crear vector por secuencia (segun cantidad deseada)\n",
    "vec_sec2=np.linspace(1,0,18) \n",
    "print('Vector desde secuencia (cantidad definida):',vec_sec2)"
   ]
  },
  {
   "cell_type": "code",
   "execution_count": 6,
   "metadata": {},
   "outputs": [
    {
     "name": "stdout",
     "output_type": "stream",
     "text": [
      "Vector de ceros:\n",
      " [0. 0. 0. 0. 0.]\n",
      "Matriz de ceros:\n",
      " [[0. 0. 0.]\n",
      " [0. 0. 0.]]\n",
      "Vector de ceros:\n",
      " [1. 1. 1. 1. 1.]\n",
      "Matriz de ceros:\n",
      " [[1. 1. 1.]\n",
      " [1. 1. 1.]]\n",
      "Matriz de un mismo valor (int):\n",
      " [[5 5 5]\n",
      " [5 5 5]]\n",
      "Matriz de un mismo valor (str):\n",
      " [['s' 's' 's']\n",
      " ['s' 's' 's']]\n",
      "Matriz de un mismo valor (bool):\n",
      " [[ True  True  True]\n",
      " [ True  True  True]]\n"
     ]
    }
   ],
   "source": [
    "#Vectores y matrices de ceros (datos son float)\n",
    "vec_z=np.zeros(5)\n",
    "print('Vector de ceros:\\n',vec_z)\n",
    "mat_z=np.zeros((2,3))\n",
    "print('Matriz de ceros:\\n',mat_z)\n",
    "\n",
    "#Vectores y matrices de unos (datos son float)\n",
    "vec_1=np.ones(5)\n",
    "print('Vector de ceros:\\n',vec_1)\n",
    "mat_1=np.ones((2,3))\n",
    "print('Matriz de ceros:\\n',mat_1)\n",
    "\n",
    "#Vectores y matrices de un mismo valor \n",
    "mat_u=np.full(shape=(2,3),fill_value=5) #int\n",
    "print('Matriz de un mismo valor (int):\\n',mat_u)\n",
    "\n",
    "mat_str=np.full(shape=(2,3),fill_value='s') #str\n",
    "print('Matriz de un mismo valor (str):\\n',mat_str)\n",
    "\n",
    "mat_b=np.full(shape=(2,3),fill_value=True) #bool\n",
    "print('Matriz de un mismo valor (bool):\\n',mat_b)"
   ]
  },
  {
   "cell_type": "code",
   "execution_count": 7,
   "metadata": {},
   "outputs": [
    {
     "name": "stdout",
     "output_type": "stream",
     "text": [
      "matriz random\n",
      " [[0.37529893 0.17564512 0.13028427]\n",
      " [0.44952071 0.67849832 0.76851749]]\n",
      "matriz distribucion normal estandar (media=0 desviacion=1)\n",
      " [[-0.31625477 -0.07656806  1.86196494]\n",
      " [ 0.80944436 -0.40740828  0.76855514]]\n",
      "matriz random enteros\n",
      " [[6 4 4]\n",
      " [6 5 7]]\n",
      "matriz distribucion uniforme (l=2 h=8)\n",
      " [[2.20488968 4.20673826 7.34199466]\n",
      " [6.41156595 2.6065023  7.75838477]]\n",
      "matriz distribucion normal (media=3 desviacion=2)\n",
      " [[1.66567132 3.17107818 3.37274922]\n",
      " [3.43957259 2.0263237  3.46657991]]\n"
     ]
    }
   ],
   "source": [
    "#Matrices con valores random\n",
    "\n",
    "#Crear matriz random entre 0 y 1\n",
    "matriz1=np.random.rand(2,3)\n",
    "print('matriz random\\n',matriz1)\n",
    "\n",
    "#Crear matriz random distribucion normal estandar\n",
    "matriz2=np.random.randn(2,3) \n",
    "print('matriz distribucion normal estandar (media=0 desviacion=1)\\n',matriz2)\n",
    "\n",
    "#Crear matriz random de enteros\n",
    "matriz3=np.random.randint(2,8,size=(2,3)) \n",
    "print('matriz random enteros\\n',matriz3)\n",
    "\n",
    "#Crear matriz random segun diatribucion uniforme\n",
    "matriz4=np.random.uniform(low=2,high=8,size=(2,3)) \n",
    "print('matriz distribucion uniforme (l=2 h=8)\\n',matriz4)\n",
    "\n",
    "#Crear matriz random segun distribucion normal\n",
    "matriz5=np.random.normal(loc=3,scale=2,size=(2,3)) \n",
    "print('matriz distribucion normal (media=3 desviacion=2)\\n',matriz5)"
   ]
  },
  {
   "cell_type": "markdown",
   "metadata": {},
   "source": [
    "### Modificar arreglos"
   ]
  },
  {
   "cell_type": "code",
   "execution_count": 9,
   "metadata": {},
   "outputs": [
    {
     "name": "stdout",
     "output_type": "stream",
     "text": [
      "matriz original\n",
      " [[6 7]\n",
      " [6 2]\n",
      " [2 7]\n",
      " [6 5]]\n",
      "matriz cambiada\n",
      " [[6 7]\n",
      " [6 2]\n",
      " [2 7]\n",
      " [6 5]]\n",
      "vector\n",
      " [[6 7 6 2 2 7 6 5]]\n",
      "tensor\n",
      " [[[6 7]\n",
      "  [6 2]]\n",
      "\n",
      " [[2 7]\n",
      "  [6 5]]]\n"
     ]
    }
   ],
   "source": [
    "#Cambiar dimensiones de una matriz \n",
    "#Se debe mantener la misma cantidad de datos\n",
    "\n",
    "m_original=np.random.randint(2,8,size=(4,2)) \n",
    "print('matriz original\\n',m_original)\n",
    "\n",
    "m_reshaped=m_original.reshape([4,2])\n",
    "print('matriz cambiada\\n',m_reshaped)\n",
    "\n",
    "#Se puede volver vector o tensor\n",
    "vec=m_original.reshape([1,8])\n",
    "print('vector\\n',vec)\n",
    "\n",
    "tensor=m_original.reshape([2,2,2])\n",
    "print('tensor\\n',tensor)\n"
   ]
  },
  {
   "cell_type": "code",
   "execution_count": 27,
   "metadata": {},
   "outputs": [
    {
     "name": "stdout",
     "output_type": "stream",
     "text": [
      "[[0. 0. 0. 0. 0.]\n",
      " [0. 0. 0. 0. 0.]\n",
      " [0. 0. 0. 0. 0.]]\n",
      "modificacion 1 (un solo valor)\n",
      " [[0. 0. 0. 0. 0.]\n",
      " [0. 0. 0. 5. 0.]\n",
      " [0. 0. 0. 0. 0.]]\n",
      "modificacion 2 (una fila entera)\n",
      " [[0. 0. 0. 0. 0.]\n",
      " [0. 0. 0. 0. 0.]\n",
      " [1. 1. 1. 1. 1.]]\n",
      "modificacion 3 (una columna entera)\n",
      " [[0. 0. 0. 0. 2.]\n",
      " [0. 0. 0. 0. 2.]\n",
      " [0. 0. 0. 0. 2.]]\n",
      "modificacion a (varios valores a la vez)\n",
      " [[0. 1. 0. 0. 0.]\n",
      " [0. 0. 0. 0. 0.]\n",
      " [0. 0. 0. 0. 1.]]\n"
     ]
    }
   ],
   "source": [
    "#Asignar valores\n",
    "arr3=np.zeros([3,5])\n",
    "print(arr3)\n",
    "\n",
    "#Valor especifico\n",
    "arr3=np.zeros([3,5])\n",
    "arr3[1,3] = 5 \n",
    "print('modificacion 1 (un solo valor)\\n',arr3)\n",
    "\n",
    "#Filas enteras\n",
    "arr3=np.zeros([3,5])\n",
    "arr3[2,:] = 1 \n",
    "print('modificacion 2 (una fila entera)\\n',arr3)\n",
    "\n",
    "#Columnas enteras\n",
    "arr3=np.zeros([3,5])\n",
    "arr3[:,4] = 2\n",
    "print('modificacion 3 (una columna entera)\\n',arr3)\n",
    "\n",
    "#Varios valores a la vez\n",
    "arr3=np.zeros([3,5])\n",
    "arr3[[0,2],[1,4]] = 1 #Se modifica el (0,1) y el (2,4)\n",
    "print('modificacion a (varios valores a la vez)\\n',arr3)"
   ]
  },
  {
   "cell_type": "markdown",
   "metadata": {},
   "source": [
    "### Copiar arreglos"
   ]
  },
  {
   "cell_type": "code",
   "execution_count": 43,
   "metadata": {},
   "outputs": [
    {
     "name": "stdout",
     "output_type": "stream",
     "text": [
      "Arreglo original - Antes\n",
      " [10 11 12 13 14 15 16 17 18 19 20 21 22 23 24 25 26 27 28 29]\n",
      "Copia - Antes\n",
      " [10 11 12 13 14 15 16 17 18 19 20 21 22 23 24 25 26 27 28 29]\n",
      "Arreglo original - Despues\n",
      " [ 10  11 999  13  14  15  16  17  18  19  20  21  22  23  24  25  26  27\n",
      "  28  29]\n",
      "Copia - Despues\n",
      " [ 10  11 999  13  14  15  16  17  18  19  20  21  22  23  24  25  26  27\n",
      "  28  29]\n"
     ]
    }
   ],
   "source": [
    "#Si se copia solo con '=' (shallow copy) los arreglos siguen vinculados\n",
    "m=np.arange(10,30)\n",
    "print('Arreglo original - Antes\\n',m)\n",
    "m1=m\n",
    "print('Copia - Antes\\n',m1)\n",
    "\n",
    "#Si se modifica un valor en una, se modifica en la otra\n",
    "m1[2]=999\n",
    "print('Arreglo original - Despues\\n',m)\n",
    "print('Copia - Despues\\n',m1)"
   ]
  },
  {
   "cell_type": "code",
   "execution_count": 44,
   "metadata": {},
   "outputs": [
    {
     "name": "stdout",
     "output_type": "stream",
     "text": [
      "Arreglo original - Antes\n",
      " [10 11 12 13 14 15 16 17 18 19 20 21 22 23 24 25 26 27 28 29]\n",
      "Copia - Antes\n",
      " [10 11 12 13 14 15 16 17 18 19 20 21 22 23 24 25 26 27 28 29]\n",
      "Arreglo original - Despues\n",
      " [10 11 12 13 14 15 16 17 18 19 20 21 22 23 24 25 26 27 28 29]\n",
      "Copia - Despues\n",
      " [ 10  11 999  13  14  15  16  17  18  19  20  21  22  23  24  25  26  27\n",
      "  28  29]\n"
     ]
    }
   ],
   "source": [
    "#Para copiar arreglo (deep copy)\n",
    "m=np.arange(10,30)\n",
    "print('Arreglo original - Antes\\n',m)\n",
    "m1=m.copy()\n",
    "print('Copia - Antes\\n',m)\n",
    "m1[2]=999\n",
    "print('Arreglo original - Despues\\n',m)\n",
    "print('Copia - Despues\\n',m1)"
   ]
  },
  {
   "cell_type": "markdown",
   "metadata": {},
   "source": [
    "### Slicing arrays"
   ]
  },
  {
   "cell_type": "code",
   "execution_count": 6,
   "metadata": {},
   "outputs": [
    {
     "name": "stdout",
     "output_type": "stream",
     "text": [
      "[[ 4  6  7 12  1  9]\n",
      " [ 2  1 12  4  4 15]\n",
      " [14 15  8  9  9 13]\n",
      " [ 2  7  3 14 10  8]\n",
      " [ 5 14 14 13  9  8]\n",
      " [11 14  3 13  1 11]] type: <class 'numpy.ndarray'>\n",
      "Slice columna completa:\n",
      " 11 type: <class 'numpy.int32'>\n",
      "Slice columna completa:\n",
      " [1 8] shape:  (2,)\n",
      "Slice fila completa:\n",
      " [ 2  7  3 14 10  8] shape:  (6,)\n",
      "Slice columna completa:\n",
      " [12  4  9 14 13 13] shape:  (6,)\n",
      "Sub matriz de n en adelante:\n",
      " [[ 3 14 10  8]\n",
      " [14 13  9  8]\n",
      " [ 3 13  1 11]] shape:  (3, 4) type: <class 'numpy.ndarray'>\n",
      "Sub matriz de rango de filas/columnas:\n",
      " [[ 2  7  3 14]\n",
      " [ 5 14 14 13]] shape:  (2, 4) type: <class 'numpy.ndarray'>\n"
     ]
    }
   ],
   "source": [
    "arr3=np.random.randint(1,17,(6,6))\n",
    "print(arr3,'type:',type(arr3))\n",
    "\n",
    "#Tomar un solo valor\n",
    "sl_v=arr3[5,5] #Toma el (4,5)\n",
    "print('Slice columna completa:\\n',sl_v,'type:',type(sl_v))\n",
    "\n",
    "#Tomar algunos valores\n",
    "sl_vs=arr3[[1,2],[1,2]] #Toma el (1,1) y el (2,2)\n",
    "print('Slice columna completa:\\n',sl_vs,'shape: ',sl_vs.shape)\n",
    "\n",
    "#Tomar una fila commpleta\n",
    "sl_f=arr3[3,:]\n",
    "print('Slice fila completa:\\n',sl_f,'shape: ',sl_f.shape)\n",
    "\n",
    "#Tomar una columna completa\n",
    "sl_c=arr3[:,3]\n",
    "print('Slice columna completa:\\n',sl_c,'shape: ',sl_c.shape)\n",
    "\n",
    "#Tomar una sub matriz de filas/columnas\n",
    "sl_fs1=arr3[3:,2:] #Toma de la fila 4 en adelante y de la columna 3 en adelante\n",
    "print('Sub matriz de n en adelante:\\n',sl_fs1,'shape: ',sl_fs1.shape,'type:',type(sl_fs1))\n",
    "\n",
    "#Tomar una sub matriz de rango de filas/columnas\n",
    "sl_fs2=arr3[3:5,0:4] #Toma de la fila 4 y 5 y de la columna 0 a la 4 \n",
    "#Para coger la ultima f/c se debe usar el numero +1 \n",
    "#Ejemplo: Coger columna 5 (posicion 4 en matriz) hay que usar el 5\n",
    "print('Sub matriz de rango de filas/columnas:\\n',sl_fs2,'shape: ',sl_fs2.shape,'type:',type(sl_fs2))\n"
   ]
  },
  {
   "cell_type": "markdown",
   "metadata": {},
   "source": [
    "### Identificar tamaño"
   ]
  },
  {
   "cell_type": "code",
   "execution_count": 13,
   "metadata": {},
   "outputs": [
    {
     "name": "stdout",
     "output_type": "stream",
     "text": [
      "Tamaño matriz original: (4, 2)\n",
      "Tamaño matriz modificada: (4, 2)\n",
      "Tamaño vector: (1, 8)\n",
      "Tamaño tensor: (2, 2, 2)\n"
     ]
    }
   ],
   "source": [
    "#Tamaño de los arreglos\n",
    "\n",
    "print('Tamaño matriz original:',m_original.shape)\n",
    "print('Tamaño matriz modificada:',m_reshaped.shape)\n",
    "print('Tamaño vector:',vec.shape)\n",
    "print('Tamaño tensor:',tensor.shape)"
   ]
  },
  {
   "cell_type": "markdown",
   "metadata": {},
   "source": [
    "### Operaciones aritmeticas (valor por valor)"
   ]
  },
  {
   "cell_type": "code",
   "execution_count": 84,
   "metadata": {},
   "outputs": [
    {
     "name": "stdout",
     "output_type": "stream",
     "text": [
      "[[1 2 3 4]\n",
      " [5 6 7 8]] \n",
      "tamano (2, 4)\n",
      "[[1 2 3 4]\n",
      " [5 6 7 8]] \n",
      "tamano (2, 4)\n",
      "\n",
      " matriz prducto\n",
      " [[1. 1. 1. 1.]\n",
      " [1. 1. 1. 1.]] \n",
      "tamano (2, 4)\n",
      "\n",
      " matriz suma\n",
      " [[ 2  4  6  8]\n",
      " [10 12 14 16]] \n",
      "tamano (2, 4)\n",
      "[[0.33333333 0.66666667 1.         1.33333333]\n",
      " [1.66666667 2.         2.33333333 2.66666667]]\n"
     ]
    }
   ],
   "source": [
    "a1 = np.array([[1,2,3,4],[5,6,7,8]])\n",
    "print(a1,'\\ntamano',a1.shape)\n",
    "a2 = np.array([[1,2,3,4],[5,6,7,8]])\n",
    "print(a2,'\\ntamano',a2.shape)\n",
    "\n",
    "#Multiplicar 2 matrices valor por valor / Division igual\n",
    "a3 = a1 / a2\n",
    "print('\\n matriz prducto\\n',a3,'\\ntamano',a3.shape)\n",
    "\n",
    "#Sumar 2 matrices valor por valor / Resta igual\n",
    "a3 = a1 + a2 \n",
    "print('\\n matriz suma\\n',a3,'\\ntamano',a3.shape)\n",
    "\n",
    "#Lo mismo para hacer operaciones con constantes\n",
    "a3 = a1 / 3\n",
    "print(a3)\n"
   ]
  },
  {
   "cell_type": "markdown",
   "metadata": {},
   "source": [
    "### Operaciones matriciales"
   ]
  },
  {
   "cell_type": "code",
   "execution_count": 81,
   "metadata": {},
   "outputs": [
    {
     "name": "stdout",
     "output_type": "stream",
     "text": [
      "Trasponer vector:\n",
      " [[1 2 3 4 5 6]]\n",
      "[[1]\n",
      " [2]\n",
      " [3]\n",
      " [4]\n",
      " [5]\n",
      " [6]]\n",
      "Trasponer matriz:\n",
      " [[1 2 3 4]\n",
      " [5 6 7 8]]\n",
      "[[1 5]\n",
      " [2 6]\n",
      " [3 7]\n",
      " [4 8]]\n"
     ]
    }
   ],
   "source": [
    "#Trasponer vector\n",
    "vec = np.array([[1,2,3,4,5,6]])\n",
    "tras_v = vec.T\n",
    "print('Trasponer vector:\\n',vec)\n",
    "print(tras_v)\n",
    "\n",
    "#Trasponer matriz\n",
    "mat = np.array([[1,2,3,4],[5,6,7,8]])\n",
    "tras_m=mat.T\n",
    "print('Trasponer matriz:\\n',mat)\n",
    "print(tras_m)"
   ]
  },
  {
   "cell_type": "code",
   "execution_count": 90,
   "metadata": {},
   "outputs": [
    {
     "name": "stdout",
     "output_type": "stream",
     "text": [
      "[[ 4  7 10]\n",
      " [ 9 14 19]\n",
      " [10 17 24]\n",
      " [ 3  5  7]]\n"
     ]
    }
   ],
   "source": [
    "#Multiplicacion matricial\n",
    "#Debe coincidir las columnas de m1 (nxm) y las filas de m2 (mxp)\n",
    "#El producto es de dimensiones (nxp) filas de m1 y columnas de m2\n",
    "\n",
    "mat1 = np.array([[1,2],[4,1],[3,4],[1,1]]) #(4,2)\n",
    "mat2 = np.array([[2,3,4],[1,2,3]]) #2,3)\n",
    "\n",
    "mp = np.matmul(mat1,mat2) #(4,3)\n",
    "print(mp)\n"
   ]
  },
  {
   "cell_type": "code",
   "execution_count": 31,
   "metadata": {},
   "outputs": [
    {
     "name": "stdout",
     "output_type": "stream",
     "text": [
      "[10 11 12 13 14 15 16 17 18 19 20 21 22 23 24 25 26 27 28 29]\n"
     ]
    },
    {
     "data": {
      "text/plain": [
       "array([12, 15, 18, 21, 24, 27])"
      ]
     },
     "execution_count": 31,
     "metadata": {},
     "output_type": "execute_result"
    }
   ],
   "source": [
    "#Mascaras\n",
    "m=np.arange(10,30)\n",
    "print(m)\n",
    "\n",
    "mask = ((m%3)==0) #Crea una matriz de booleans que evalua la condicion en cada valor\n",
    "\n",
    "m[mask] #Toma todos los valores de la matriz que dieron True"
   ]
  },
  {
   "cell_type": "markdown",
   "metadata": {},
   "source": [
    "### Estadistica"
   ]
  },
  {
   "cell_type": "code",
   "execution_count": 94,
   "metadata": {},
   "outputs": [
    {
     "name": "stdout",
     "output_type": "stream",
     "text": [
      "[[78 78 76 76 71 79 78 78 78 79 73 70 73 70 77 70 79 72 70 78 72 78 78 75\n",
      "  73 75]]\n",
      "75.15384615384616\n",
      "76.0\n",
      "3.230769230769231\n",
      "78.5\n"
     ]
    }
   ],
   "source": [
    "info = np.random.randint(70,80,(1,26))\n",
    "\n",
    "print(info)\n",
    "print(np.mean(info)) #promedio\n",
    "print(np.median(info)) #moda\n",
    "print(np.std(info)) #desviacion estandar\n",
    "print(np.percentile(info,90)) #percentil 90"
   ]
  },
  {
   "cell_type": "code",
   "execution_count": 101,
   "metadata": {},
   "outputs": [
    {
     "name": "stdout",
     "output_type": "stream",
     "text": [
      "[0 1 2 3]\n",
      "[1 2 3 4]\n"
     ]
    },
    {
     "data": {
      "text/plain": [
       "array([ 1.        ,  2.71828183,  7.3890561 , 20.08553692])"
      ]
     },
     "metadata": {},
     "output_type": "display_data"
    },
    {
     "name": "stderr",
     "output_type": "stream",
     "text": [
      "C:\\Users\\ASUS\\AppData\\Local\\Temp\\ipykernel_11504\\3204165181.py:8: RuntimeWarning: divide by zero encountered in log\n",
      "  display(np.log(a)) #logaritmo natural\n"
     ]
    },
    {
     "data": {
      "text/plain": [
       "array([      -inf, 0.        , 0.69314718, 1.09861229])"
      ]
     },
     "metadata": {},
     "output_type": "display_data"
    },
    {
     "data": {
      "text/plain": [
       "array([0.        , 1.        , 1.41421356, 1.73205081])"
      ]
     },
     "metadata": {},
     "output_type": "display_data"
    },
    {
     "data": {
      "text/plain": [
       "array([False, False, False, False])"
      ]
     },
     "metadata": {},
     "output_type": "display_data"
    }
   ],
   "source": [
    "a = np.arange(4) #4 primeros numeros \n",
    "b = np.arange(1,5) #todos los enteros en el rango \n",
    "\n",
    "print(a)\n",
    "print(b)\n",
    "\n",
    "display(np.exp(a)) #exponencial\n",
    "display(np.log(a)) #logaritmo natural\n",
    "display(np.sqrt(a)) #raiz cuadrada\n",
    "display(np.greater(a,b)) #superior o igual punto a punto"
   ]
  }
 ],
 "metadata": {
  "kernelspec": {
   "display_name": "Python 3",
   "language": "python",
   "name": "python3"
  },
  "language_info": {
   "codemirror_mode": {
    "name": "ipython",
    "version": 3
   },
   "file_extension": ".py",
   "mimetype": "text/x-python",
   "name": "python",
   "nbconvert_exporter": "python",
   "pygments_lexer": "ipython3",
   "version": "3.12.4"
  }
 },
 "nbformat": 4,
 "nbformat_minor": 2
}
