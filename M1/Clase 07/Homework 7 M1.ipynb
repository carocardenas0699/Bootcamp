{
 "cells": [
  {
   "cell_type": "markdown",
   "metadata": {},
   "source": [
    "# Práctica Clase 7"
   ]
  },
  {
   "cell_type": "markdown",
   "metadata": {},
   "source": [
    "1) Diseñar una clase que permita trabajar con un árbol binario y que contenga los métodos:<br>\n",
    "    * insertaVal: para insertar un dato<br>\n",
    "    * buscaVal: que devuelva True o False si existe o no un dato<br>\n",
    "    * verVal: que imprima por pantalla los valores del árbol<br>\n",
    "\n",
    "Nota: Se puede utilizar la recursividad\n"
   ]
  },
  {
   "cell_type": "code",
   "execution_count": 1,
   "metadata": {},
   "outputs": [],
   "source": [
    "class Arbol():\n",
    "    def __init__(self):\n",
    "        self.raiz = None                 #Se crea el arbol sin raiz\n",
    "\n",
    "    def insertaVal(self, dato):\n",
    "        n = Nodo(dato)                   #Se crea el nodo con la info ingresada\n",
    "        if (self.raiz == None):          #Se verifica si el arbol ya tiene raiz\n",
    "            self.raiz = n                #Si no tiene raiz, el nuevo nodo es la raiz\n",
    "        else:\n",
    "            self.raiz.agregar(n)\n",
    "\n",
    "    def buscaVal(self,val):\n",
    "        \n",
    "        return self.raiz.busca(val)\n",
    "        \n",
    "    def verVal(self):\n",
    "\n",
    "        if self.raiz == None:\n",
    "            print('El arbol esta vacio')\n",
    "        else:\n",
    "            self.raiz.verHijos()\n",
    "\n",
    "class Nodo():\n",
    "    def __init__(self, dato):\n",
    "        self.dato = dato\n",
    "        self.izq = None\n",
    "        self.der = None\n",
    "        self.hijos = []\n",
    "\n",
    "    def agregar(self,nodo): #Ingresa un nodo como parametro\n",
    "\n",
    "        if nodo.darVal() == self.darVal():\n",
    "\n",
    "            print('El valor ya esta en el arbol')\n",
    "            \n",
    "        elif nodo.darVal() > self.darVal():\n",
    "\n",
    "            if self.der == None:\n",
    "                self.der = nodo\n",
    "            else:\n",
    "                self.der.agregar(nodo)\n",
    "       \n",
    "        else:\n",
    "\n",
    "            if self.izq == None:\n",
    "                self.izq = nodo\n",
    "            else:\n",
    "                self.izq.agregar(nodo)\n",
    "\n",
    "    def darVal(self): #Devuelve el dato guardado en el nodo\n",
    "        return self.dato\n",
    "    \n",
    "    def busca(self,val):\n",
    "\n",
    "        esta = False\n",
    "\n",
    "        if self.dato == val:\n",
    "            esta = True\n",
    "        else:\n",
    "            if self.izq != None and esta == False:\n",
    "\n",
    "                esta = self.izq.busca(val)\n",
    "\n",
    "            if self.der != None and esta == False:\n",
    "\n",
    "                esta = self.der.busca(val)\n",
    "\n",
    "        return esta\n",
    "    \n",
    "    def verHijos(self):\n",
    "\n",
    "        if self.izq != None:\n",
    "\n",
    "            self.izq.verHijos()\n",
    "\n",
    "        if self.der != None:\n",
    "\n",
    "            self.der.verHijos()\n",
    "\n",
    "        print(self.dato)\n"
   ]
  },
  {
   "cell_type": "code",
   "execution_count": 6,
   "metadata": {},
   "outputs": [],
   "source": [
    "a = Arbol()\n",
    "\n",
    "a.insertaVal(10)\n",
    "a.insertaVal(6)\n",
    "a.insertaVal(18)\n",
    "a.insertaVal(2)\n",
    "a.insertaVal(9)\n",
    "a.insertaVal(21)"
   ]
  },
  {
   "cell_type": "code",
   "execution_count": 7,
   "metadata": {},
   "outputs": [
    {
     "name": "stdout",
     "output_type": "stream",
     "text": [
      "2\n",
      "9\n",
      "6\n",
      "21\n",
      "18\n",
      "10\n"
     ]
    }
   ],
   "source": [
    "a.verVal()"
   ]
  },
  {
   "cell_type": "code",
   "execution_count": 9,
   "metadata": {},
   "outputs": [
    {
     "data": {
      "text/plain": [
       "True"
      ]
     },
     "execution_count": 9,
     "metadata": {},
     "output_type": "execute_result"
    }
   ],
   "source": [
    "a.buscaVal(21)"
   ]
  },
  {
   "cell_type": "code",
   "execution_count": 11,
   "metadata": {},
   "outputs": [
    {
     "name": "stdout",
     "output_type": "stream",
     "text": [
      "El valor ya esta en el arbol\n"
     ]
    }
   ],
   "source": [
    "a.insertaVal(7)"
   ]
  }
 ],
 "metadata": {
  "kernelspec": {
   "display_name": "Python 3",
   "language": "python",
   "name": "python3"
  },
  "language_info": {
   "codemirror_mode": {
    "name": "ipython",
    "version": 3
   },
   "file_extension": ".py",
   "mimetype": "text/x-python",
   "name": "python",
   "nbconvert_exporter": "python",
   "pygments_lexer": "ipython3",
   "version": "3.12.4"
  }
 },
 "nbformat": 4,
 "nbformat_minor": 4
}
