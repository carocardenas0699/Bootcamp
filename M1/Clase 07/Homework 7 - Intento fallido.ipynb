{
 "cells": [
  {
   "cell_type": "markdown",
   "metadata": {},
   "source": [
    "# Práctica Clase 7"
   ]
  },
  {
   "cell_type": "markdown",
   "metadata": {},
   "source": [
    "1) Diseñar una clase que permita trabajar con un árbol binario y que contenga los métodos:<br>\n",
    "    * insertaVal: para insertar un dato<br>\n",
    "    * buscaVal: que devuelva True o False si existe o no un dato<br>\n",
    "    * verVal: que imprima por pantalla los valores del árbol<br>\n",
    "\n",
    "Nota: Se puede utilizar la recursividad\n"
   ]
  },
  {
   "cell_type": "code",
   "execution_count": 25,
   "metadata": {},
   "outputs": [],
   "source": [
    "class Arbol():\n",
    "    def __init__(self):\n",
    "        self.raiz = None                 #Se crea el arbol sin raiz\n",
    "\n",
    "    def insertaVal(self, dato):\n",
    "        n = Nodo(dato)                   #Se crea el nodo con la info ingresada\n",
    "        if (self.raiz == None):          #Se verifica si el arbol ya tiene raiz\n",
    "            self.raiz = n                #Si no tiene raiz, el nuevo nodo es la raiz\n",
    "        else:\n",
    "            self.raiz.agregar(n)\n",
    "\n",
    "    def buscaVal(self,val):\n",
    "        \n",
    "        return self.raiz.busca(val)\n",
    "        \n",
    "    def verVal(self):\n",
    "\n",
    "        if self.raiz == None:\n",
    "            print('El arbol esta vacio')\n",
    "        else:\n",
    "            return self.raiz.verHijos()"
   ]
  },
  {
   "cell_type": "code",
   "execution_count": 8,
   "metadata": {},
   "outputs": [],
   "source": [
    "class Nodo():\n",
    "    def __init__(self, dato):\n",
    "        self.dato = dato\n",
    "        self.izq = None\n",
    "        self.der = None\n",
    "        self.hijos = []\n",
    "\n",
    "    def agregar(self,nodo): #Ingresa un nodo como parametro\n",
    "\n",
    "        if nodo.darVal() >= self.darVal():\n",
    "\n",
    "            if self.der == None:\n",
    "                self.der = nodo\n",
    "            else:\n",
    "                self.der.agregar(nodo)\n",
    "       \n",
    "        else:\n",
    "\n",
    "            if self.izq == None:\n",
    "                self.izq = nodo\n",
    "            else:\n",
    "                self.izq.agregar(nodo)\n",
    "\n",
    "    def busca(self,val):\n",
    "\n",
    "        esta = False\n",
    "\n",
    "        if self.dato == val:\n",
    "            esta = True\n",
    "        else:\n",
    "            if self.izq != None and esta == False:\n",
    "\n",
    "                esta = self.izq.busca(val)\n",
    "\n",
    "            if self.der != None and esta == False:\n",
    "\n",
    "                esta = self.der.busca(val)\n",
    "\n",
    "        return esta\n",
    "\n",
    "\n",
    "    def darIzq(self): #Devuelve el nodo de la izquierda\n",
    "        \n",
    "        return self.izq\n",
    "    \n",
    "    def darDer(self): #Devuelve el nodo de la derecha\n",
    "        return self.der\n",
    "\n",
    "    def darVal(self): #Devuelve el dato guardado en el nodo\n",
    "        return self.dato\n",
    "    \n",
    "    def verHijos(self):\n",
    "        iz = self.izq\n",
    "        der = self.der\n",
    "        print('nodo',self.dato)\n",
    "        print('iz',iz)\n",
    "        print('der',der)\n",
    "\n",
    "        print('lista inicial',self.hijos)\n",
    "        if iz == None:\n",
    "            if der == None:\n",
    "                print('No tiene hijos. Se va agregar',self.dato)\n",
    "                self.hijos.append(self.dato)\n",
    "                print('hijos ahora es',self.hijos)\n",
    "            else:\n",
    "                print('se va a revisar a la derecha. Hijos es',self.hijos)\n",
    "                print('der',self.der.darVal())\n",
    "                self.hijos=self.hijos+der.verHijos()\n",
    "                print('se agrega. hijos es',self.hijos)\n",
    "                \n",
    "        else:\n",
    "            print('se va a revisar a la izquierda. Hijos es',self.hijos)\n",
    "            print('izq',self.izq.darVal())\n",
    "            self.hijos=self.hijos+iz.verHijos()\n",
    "            print('se agrega. hijos es',self.hijos)\n",
    "\n",
    "        return self.hijos"
   ]
  },
  {
   "cell_type": "code",
   "execution_count": 35,
   "metadata": {},
   "outputs": [],
   "source": [
    "class Nodo():\n",
    "    def __init__(self, dato):\n",
    "        self.dato = dato\n",
    "        self.izq = None\n",
    "        self.der = None\n",
    "        self.hijos = []\n",
    "\n",
    "    def agregar(self,nodo): #Ingresa un nodo como parametro\n",
    "\n",
    "        if nodo.darVal() >= self.darVal():\n",
    "\n",
    "            if self.der == None:\n",
    "                self.der = nodo\n",
    "            else:\n",
    "                self.der.agregar(nodo)\n",
    "       \n",
    "        else:\n",
    "\n",
    "            if self.izq == None:\n",
    "                self.izq = nodo\n",
    "            else:\n",
    "                self.izq.agregar(nodo)\n",
    "\n",
    "\n",
    "    def darIzq(self): #Devuelve el nodo de la izquierda\n",
    "        \n",
    "        return self.izq\n",
    "    \n",
    "    def darDer(self): #Devuelve el nodo de la derecha\n",
    "        return self.der\n",
    "\n",
    "    def darVal(self): #Devuelve el dato guardado en el nodo\n",
    "        return self.dato\n",
    "    \n",
    "    def verHijos(self):\n",
    "        iz = self.izq\n",
    "        der = self.der\n",
    "        print('nodo',self.dato)\n",
    "        print('iz',iz)\n",
    "        print('der',der)\n",
    "\n",
    "        print('lista inicial',self.hijos)\n",
    "        if iz == None:\n",
    "            if der == None:\n",
    "                print('No tiene hijos1. Se va agregar',self.dato)\n",
    "                self.hijos.append(self.dato)\n",
    "                print('hijos ahora es',self.hijos)\n",
    "            else:\n",
    "                print('se va a revisar a la derecha. Hijos es',self.hijos)\n",
    "                print('der1',self.der.darVal())\n",
    "                h=der.verHijos()\n",
    "                h.append(self.dato)\n",
    "                self.hijos=h\n",
    "                print('se agrega. hijos es',self.hijos)\n",
    "                \n",
    "        else:\n",
    "            print('se va a revisar a la izquierda. Hijos es',self.hijos)\n",
    "            print('izq1',self.izq.darVal())\n",
    "            h=iz.verHijos()\n",
    "            h.append(self.dato)\n",
    "            self.hijos=h\n",
    "            print('se agrega. hijos es',self.hijos)\n",
    "\n",
    "        return self.hijos"
   ]
  },
  {
   "cell_type": "code",
   "execution_count": 36,
   "metadata": {},
   "outputs": [],
   "source": [
    "a = Arbol()"
   ]
  },
  {
   "cell_type": "code",
   "execution_count": 43,
   "metadata": {},
   "outputs": [
    {
     "name": "stdout",
     "output_type": "stream",
     "text": [
      "nodo 10\n",
      "iz <__main__.Nodo object at 0x000001E48E4ED670>\n",
      "der <__main__.Nodo object at 0x000001E48E4EDD30>\n",
      "lista inicial [5, 10]\n",
      "se va a revisar a la izquierda. Hijos es [5, 10]\n",
      "izq1 5\n",
      "nodo 5\n",
      "iz None\n",
      "der None\n",
      "lista inicial [5, 10]\n",
      "No tiene hijos1. Se va agregar 5\n",
      "hijos ahora es [5, 10, 5]\n",
      "se agrega. hijos es [5, 10, 5, 10]\n"
     ]
    },
    {
     "data": {
      "text/plain": [
       "[5, 10, 5, 10]"
      ]
     },
     "execution_count": 43,
     "metadata": {},
     "output_type": "execute_result"
    }
   ],
   "source": [
    "a.verVal()"
   ]
  },
  {
   "cell_type": "code",
   "execution_count": 38,
   "metadata": {},
   "outputs": [],
   "source": [
    "a.insertaVal(10)"
   ]
  },
  {
   "cell_type": "code",
   "execution_count": 40,
   "metadata": {},
   "outputs": [],
   "source": [
    "a.insertaVal(5)"
   ]
  },
  {
   "cell_type": "code",
   "execution_count": 42,
   "metadata": {},
   "outputs": [],
   "source": [
    "a.insertaVal(13)"
   ]
  },
  {
   "cell_type": "code",
   "execution_count": 5,
   "metadata": {},
   "outputs": [],
   "source": [
    "a.insertaVal(3)\n",
    "a.insertaVal(13)\n",
    "a.insertaVal(1)\n",
    "a.insertaVal(8)\n",
    "a.insertaVal(20)"
   ]
  }
 ],
 "metadata": {
  "kernelspec": {
   "display_name": "Python 3",
   "language": "python",
   "name": "python3"
  },
  "language_info": {
   "codemirror_mode": {
    "name": "ipython",
    "version": 3
   },
   "file_extension": ".py",
   "mimetype": "text/x-python",
   "name": "python",
   "nbconvert_exporter": "python",
   "pygments_lexer": "ipython3",
   "version": "3.12.4"
  }
 },
 "nbformat": 4,
 "nbformat_minor": 4
}
